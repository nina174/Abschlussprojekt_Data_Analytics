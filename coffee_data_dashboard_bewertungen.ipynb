{
 "cells": [
  {
   "cell_type": "markdown",
   "id": "cb0d97c5-8520-468d-8f0b-275e3d23b4eb",
   "metadata": {},
   "source": [
    "# Coffee Data - Dashboard Kaffeebewertungen"
   ]
  },
  {
   "cell_type": "code",
   "execution_count": 2,
   "id": "d88ac3fd-2beb-4423-90d2-5b92cb6e7057",
   "metadata": {},
   "outputs": [],
   "source": [
    "# import modules\n",
    "\n",
    "import pandas as pd\n",
    "import plotly.express as px\n",
    "from plotly.subplots import make_subplots\n",
    "from dash import Dash, html, dcc, callback, Output, Input\n",
    "from dash.exceptions import PreventUpdate"
   ]
  },
  {
   "cell_type": "code",
   "execution_count": 3,
   "id": "d5da2c23-051e-4c98-8932-6efca5b08439",
   "metadata": {},
   "outputs": [],
   "source": [
    "# Load prepared data\n",
    "\n",
    "df = pd.read_pickle(\"coffee_data.pkl\")"
   ]
  },
  {
   "cell_type": "markdown",
   "id": "fec9cb5b-f309-499a-823a-b3c03bb0f4ff",
   "metadata": {},
   "source": [
    "## Daten vorbereiten"
   ]
  },
  {
   "cell_type": "code",
   "execution_count": 4,
   "id": "c984f8ed-42b0-4077-996e-314ae0635d8f",
   "metadata": {},
   "outputs": [
    {
     "name": "stdout",
     "output_type": "stream",
     "text": [
      "<class 'pandas.core.frame.DataFrame'>\n",
      "RangeIndex: 4042 entries, 0 to 4041\n",
      "Data columns (total 16 columns):\n",
      " #   Column                        Non-Null Count  Dtype   \n",
      "---  ------                        --------------  -----   \n",
      " 0   submission_id                 4042 non-null   category\n",
      " 1   coffee_a_bitterness           3798 non-null   category\n",
      " 2   coffee_a_acidity              3779 non-null   category\n",
      " 3   coffee_a_personal_preference  3789 non-null   category\n",
      " 4   coffee_b_bitterness           3780 non-null   category\n",
      " 5   coffee_b_acidity              3767 non-null   category\n",
      " 6   coffee_b_personal_preference  3773 non-null   category\n",
      " 7   coffee_c_bitterness           3764 non-null   category\n",
      " 8   coffee_c_acidity              3751 non-null   category\n",
      " 9   coffee_c_personal_preference  3766 non-null   category\n",
      " 10  coffee_d_bitterness           3767 non-null   category\n",
      " 11  coffee_d_acidity              3765 non-null   category\n",
      " 12  coffee_d_personal_preference  3764 non-null   category\n",
      " 13  prefer_overall                3770 non-null   category\n",
      " 14  prefer_abc                    3772 non-null   category\n",
      " 15  prefer_ad                     3761 non-null   category\n",
      "dtypes: category(16)\n",
      "memory usage: 99.3 KB\n"
     ]
    }
   ],
   "source": [
    "# Prepare data:\n",
    "\n",
    "# Select columns with coffee ratings\n",
    "cols = [\"submission_id\"] + [\n",
    "    col for col in df.columns\n",
    "    if col.startswith(\"coffee_\") and not col.endswith(\"_notes\")\n",
    "]\n",
    "\n",
    "# add overall ratings\n",
    "prefs = [\"prefer_overall\", \"prefer_abc\", \"prefer_ad\"]\n",
    "\n",
    "ratings = df[cols + prefs].copy() \n",
    "ratings.info()\n",
    "del df"
   ]
  },
  {
   "cell_type": "code",
   "execution_count": 5,
   "id": "02581b65-1872-43d1-b335-76046a8e3edf",
   "metadata": {},
   "outputs": [
    {
     "name": "stdout",
     "output_type": "stream",
     "text": [
      "<class 'pandas.core.frame.DataFrame'>\n",
      "RangeIndex: 4042 entries, 0 to 4041\n",
      "Data columns (total 16 columns):\n",
      " #   Column                        Non-Null Count  Dtype   \n",
      "---  ------                        --------------  -----   \n",
      " 0   submission_id                 4042 non-null   category\n",
      " 1   coffee_a_bitterness           4042 non-null   category\n",
      " 2   coffee_a_acidity              4042 non-null   category\n",
      " 3   coffee_a_personal_preference  4042 non-null   category\n",
      " 4   coffee_b_bitterness           4042 non-null   category\n",
      " 5   coffee_b_acidity              4042 non-null   category\n",
      " 6   coffee_b_personal_preference  4042 non-null   category\n",
      " 7   coffee_c_bitterness           4042 non-null   category\n",
      " 8   coffee_c_acidity              4042 non-null   category\n",
      " 9   coffee_c_personal_preference  4042 non-null   category\n",
      " 10  coffee_d_bitterness           4042 non-null   category\n",
      " 11  coffee_d_acidity              4042 non-null   category\n",
      " 12  coffee_d_personal_preference  4042 non-null   category\n",
      " 13  prefer_overall                4042 non-null   category\n",
      " 14  prefer_abc                    4042 non-null   category\n",
      " 15  prefer_ad                     4042 non-null   category\n",
      "dtypes: category(16)\n",
      "memory usage: 101.9 KB\n"
     ]
    }
   ],
   "source": [
    "# Fehlende Werte\n",
    "cols = ratings.columns[1:]\n",
    "\n",
    "for col in cols:\n",
    "    if 'keine Angabe' not in ratings[col].cat.categories:\n",
    "        ratings[col] = ratings[col].cat.add_categories(\"keine Angabe\")\n",
    "    ratings[col] = ratings[col].fillna(\"keine Angabe\")\n",
    "\n",
    "ratings.info()"
   ]
  },
  {
   "cell_type": "code",
   "execution_count": 6,
   "id": "d0106332-1eb4-406f-b4f2-3b43bba94b1f",
   "metadata": {},
   "outputs": [
    {
     "data": {
      "text/html": [
       "<div>\n",
       "<style scoped>\n",
       "    .dataframe tbody tr th:only-of-type {\n",
       "        vertical-align: middle;\n",
       "    }\n",
       "\n",
       "    .dataframe tbody tr th {\n",
       "        vertical-align: top;\n",
       "    }\n",
       "\n",
       "    .dataframe thead th {\n",
       "        text-align: right;\n",
       "    }\n",
       "</style>\n",
       "<table border=\"1\" class=\"dataframe\">\n",
       "  <thead>\n",
       "    <tr style=\"text-align: right;\">\n",
       "      <th></th>\n",
       "      <th>submission_id</th>\n",
       "      <th>coffee</th>\n",
       "      <th>acidity</th>\n",
       "      <th>bitterness</th>\n",
       "      <th>personal_preference</th>\n",
       "    </tr>\n",
       "  </thead>\n",
       "  <tbody>\n",
       "    <tr>\n",
       "      <th>0</th>\n",
       "      <td>0E11K6</td>\n",
       "      <td>a</td>\n",
       "      <td>3.0</td>\n",
       "      <td>3.0</td>\n",
       "      <td>4.0</td>\n",
       "    </tr>\n",
       "    <tr>\n",
       "      <th>1</th>\n",
       "      <td>0E11K6</td>\n",
       "      <td>b</td>\n",
       "      <td>2.0</td>\n",
       "      <td>3.0</td>\n",
       "      <td>4.0</td>\n",
       "    </tr>\n",
       "    <tr>\n",
       "      <th>2</th>\n",
       "      <td>0E11K6</td>\n",
       "      <td>c</td>\n",
       "      <td>2.0</td>\n",
       "      <td>3.0</td>\n",
       "      <td>3.0</td>\n",
       "    </tr>\n",
       "    <tr>\n",
       "      <th>3</th>\n",
       "      <td>0E11K6</td>\n",
       "      <td>d</td>\n",
       "      <td>4.0</td>\n",
       "      <td>4.0</td>\n",
       "      <td>1.0</td>\n",
       "    </tr>\n",
       "    <tr>\n",
       "      <th>4</th>\n",
       "      <td>0E1D5Z</td>\n",
       "      <td>a</td>\n",
       "      <td>4.0</td>\n",
       "      <td>2.0</td>\n",
       "      <td>4.0</td>\n",
       "    </tr>\n",
       "    <tr>\n",
       "      <th>...</th>\n",
       "      <td>...</td>\n",
       "      <td>...</td>\n",
       "      <td>...</td>\n",
       "      <td>...</td>\n",
       "      <td>...</td>\n",
       "    </tr>\n",
       "    <tr>\n",
       "      <th>16163</th>\n",
       "      <td>zKWy91</td>\n",
       "      <td>d</td>\n",
       "      <td>5.0</td>\n",
       "      <td>1.0</td>\n",
       "      <td>4.0</td>\n",
       "    </tr>\n",
       "    <tr>\n",
       "      <th>16164</th>\n",
       "      <td>zKdykZ</td>\n",
       "      <td>a</td>\n",
       "      <td>2.0</td>\n",
       "      <td>3.0</td>\n",
       "      <td>1.0</td>\n",
       "    </tr>\n",
       "    <tr>\n",
       "      <th>16165</th>\n",
       "      <td>zKdykZ</td>\n",
       "      <td>b</td>\n",
       "      <td>2.0</td>\n",
       "      <td>4.0</td>\n",
       "      <td>3.0</td>\n",
       "    </tr>\n",
       "    <tr>\n",
       "      <th>16166</th>\n",
       "      <td>zKdykZ</td>\n",
       "      <td>c</td>\n",
       "      <td>3.0</td>\n",
       "      <td>4.0</td>\n",
       "      <td>5.0</td>\n",
       "    </tr>\n",
       "    <tr>\n",
       "      <th>16167</th>\n",
       "      <td>zKdykZ</td>\n",
       "      <td>d</td>\n",
       "      <td>3.0</td>\n",
       "      <td>1.0</td>\n",
       "      <td>4.0</td>\n",
       "    </tr>\n",
       "  </tbody>\n",
       "</table>\n",
       "<p>16168 rows × 5 columns</p>\n",
       "</div>"
      ],
      "text/plain": [
       "      submission_id coffee acidity bitterness personal_preference\n",
       "0            0E11K6      a     3.0        3.0                 4.0\n",
       "1            0E11K6      b     2.0        3.0                 4.0\n",
       "2            0E11K6      c     2.0        3.0                 3.0\n",
       "3            0E11K6      d     4.0        4.0                 1.0\n",
       "4            0E1D5Z      a     4.0        2.0                 4.0\n",
       "...             ...    ...     ...        ...                 ...\n",
       "16163        zKWy91      d     5.0        1.0                 4.0\n",
       "16164        zKdykZ      a     2.0        3.0                 1.0\n",
       "16165        zKdykZ      b     2.0        4.0                 3.0\n",
       "16166        zKdykZ      c     3.0        4.0                 5.0\n",
       "16167        zKdykZ      d     3.0        1.0                 4.0\n",
       "\n",
       "[16168 rows x 5 columns]"
      ]
     },
     "execution_count": 6,
     "metadata": {},
     "output_type": "execute_result"
    }
   ],
   "source": [
    "# Einzelbewertungen in long format\n",
    "ratings_long = ratings.melt(\n",
    "    id_vars=\"submission_id\",\n",
    "    var_name=\"variable\",\n",
    "    value_name=\"value\"\n",
    ")\n",
    "\n",
    "# Adjust variable names\n",
    "ratings_long[['prefix', 'coffee', 'attribute']] = ratings_long['variable'].str.extract(r'(coffee)_([a-zA-Z]+)_(\\w+)')\n",
    "ratings_long = ratings_long[ratings_long['prefix'].notna()]\n",
    "\n",
    "# Pivot to tidy long format\n",
    "ratings_long = ratings_long.pivot_table(\n",
    "    index=['submission_id', 'coffee'],\n",
    "    columns='attribute',\n",
    "    values='value',\n",
    "    aggfunc='first',\n",
    "    observed=False\n",
    ").reset_index()\n",
    "\n",
    "ratings_long.columns.name = None  # Spaltenname bei Index entfernen\n",
    "ratings_long"
   ]
  },
  {
   "cell_type": "markdown",
   "id": "4fa246ac-8992-45d8-a80b-00b219f5ff21",
   "metadata": {},
   "source": [
    "## Hauptabbildung Dashboard\n"
   ]
  },
  {
   "cell_type": "code",
   "execution_count": 7,
   "id": "8bf4e0a0-dc8b-4694-9e81-561299fffef0",
   "metadata": {},
   "outputs": [
    {
     "data": {
      "application/vnd.plotly.v1+json": {
       "config": {
        "plotlyServerURL": "https://plot.ly"
       },
       "data": [
        {
         "customdata": [
          [
           "Coffee A"
          ]
         ],
         "hovertemplate": "coffee=Coffee A<br>prefer_overall=%{x}<br>percent=%{y}<extra></extra>",
         "legendgroup": "Coffee A",
         "marker": {
          "color": "#d2b48c",
          "pattern": {
           "shape": ""
          }
         },
         "name": "Coffee A, washed, light roast",
         "orientation": "v",
         "showlegend": true,
         "textposition": "auto",
         "type": "bar",
         "x": [
          "Coffee A"
         ],
         "xaxis": "x",
         "y": {
          "bdata": "yGqRNM08NEA=",
          "dtype": "f8"
         },
         "yaxis": "y"
        },
        {
         "customdata": [
          [
           "Coffee B"
          ]
         ],
         "hovertemplate": "coffee=Coffee B<br>prefer_overall=%{x}<br>percent=%{y}<extra></extra>",
         "legendgroup": "Coffee B",
         "marker": {
          "color": "#a0522d",
          "pattern": {
           "shape": ""
          }
         },
         "name": "Coffee B, washed, medium roast",
         "orientation": "v",
         "showlegend": true,
         "textposition": "auto",
         "type": "bar",
         "x": [
          "Coffee B"
         ],
         "xaxis": "x",
         "y": {
          "bdata": "eJWUDyFfM0A=",
          "dtype": "f8"
         },
         "yaxis": "y"
        },
        {
         "customdata": [
          [
           "Coffee C"
          ]
         ],
         "hovertemplate": "coffee=Coffee C<br>prefer_overall=%{x}<br>percent=%{y}<extra></extra>",
         "legendgroup": "Coffee C",
         "marker": {
          "color": "#5c3317",
          "pattern": {
           "shape": ""
          }
         },
         "name": "Coffee C, washed, dark roast",
         "orientation": "v",
         "showlegend": true,
         "textposition": "auto",
         "type": "bar",
         "x": [
          "Coffee C"
         ],
         "xaxis": "x",
         "y": {
          "bdata": "mBC5b3ZlM0A=",
          "dtype": "f8"
         },
         "yaxis": "y"
        },
        {
         "customdata": [
          [
           "Coffee D"
          ]
         ],
         "hovertemplate": "coffee=Coffee D<br>prefer_overall=%{x}<br>percent=%{y}<extra></extra>",
         "legendgroup": "Coffee D",
         "marker": {
          "color": "#d2b48c",
          "pattern": {
           "shape": "/"
          }
         },
         "name": "Coffee D, natural, light roast",
         "orientation": "v",
         "showlegend": true,
         "textposition": "auto",
         "type": "bar",
         "x": [
          "Coffee D"
         ],
         "xaxis": "x",
         "y": {
          "bdata": "0g6vkvIhQUA=",
          "dtype": "f8"
         },
         "yaxis": "y"
        },
        {
         "customdata": [
          [
           "keine Angabe"
          ]
         ],
         "hovertemplate": "coffee=keine Angabe<br>prefer_overall=%{x}<br>percent=%{y}<extra></extra>",
         "legendgroup": "keine Angabe",
         "marker": {
          "color": "#d3d3d3",
          "pattern": {
           "shape": ""
          }
         },
         "name": "keine Angabe",
         "orientation": "v",
         "showlegend": true,
         "textposition": "auto",
         "type": "bar",
         "x": [
          "keine Angabe"
         ],
         "xaxis": "x",
         "y": {
          "bdata": "DEYLm9jqGkA=",
          "dtype": "f8"
         },
         "yaxis": "y"
        },
        {
         "customdata": [
          [
           "Coffee A"
          ]
         ],
         "hovertemplate": "coffee=Coffee A<br>prefer_abc=%{x}<br>percent=%{y}<extra></extra>",
         "legendgroup": "Coffee A",
         "marker": {
          "color": "#d2b48c",
          "pattern": {
           "shape": ""
          }
         },
         "name": "Coffee A, washed, light roast",
         "orientation": "v",
         "showlegend": false,
         "textposition": "auto",
         "type": "bar",
         "x": [
          "Coffee A"
         ],
         "xaxis": "x2",
         "y": {
          "bdata": "nnrY13jOREA=",
          "dtype": "f8"
         },
         "yaxis": "y2"
        },
        {
         "customdata": [
          [
           "Coffee B"
          ]
         ],
         "hovertemplate": "coffee=Coffee B<br>prefer_abc=%{x}<br>percent=%{y}<extra></extra>",
         "legendgroup": "Coffee B",
         "marker": {
          "color": "#a0522d",
          "pattern": {
           "shape": ""
          }
         },
         "name": "Coffee B, washed, medium roast",
         "orientation": "v",
         "showlegend": false,
         "textposition": "auto",
         "type": "bar",
         "x": [
          "Coffee B"
         ],
         "xaxis": "x2",
         "y": {
          "bdata": "JlcQkyuIOUA=",
          "dtype": "f8"
         },
         "yaxis": "y2"
        },
        {
         "customdata": [
          [
           "Coffee C"
          ]
         ],
         "hovertemplate": "coffee=Coffee C<br>prefer_abc=%{x}<br>percent=%{y}<extra></extra>",
         "legendgroup": "Coffee C",
         "marker": {
          "color": "#5c3317",
          "pattern": {
           "shape": ""
          }
         },
         "name": "Coffee C, washed, dark roast",
         "orientation": "v",
         "showlegend": false,
         "textposition": "auto",
         "type": "bar",
         "x": [
          "Coffee C"
         ],
         "xaxis": "x2",
         "y": {
          "bdata": "WtjEVtcsOkA=",
          "dtype": "f8"
         },
         "yaxis": "y2"
        },
        {
         "customdata": [
          [
           "keine Angabe"
          ]
         ],
         "hovertemplate": "coffee=keine Angabe<br>prefer_abc=%{x}<br>percent=%{y}<extra></extra>",
         "legendgroup": "keine Angabe",
         "marker": {
          "color": "#d3d3d3",
          "pattern": {
           "shape": ""
          }
         },
         "name": "keine Angabe",
         "orientation": "v",
         "showlegend": false,
         "textposition": "auto",
         "type": "bar",
         "x": [
          "keine Angabe"
         ],
         "xaxis": "x2",
         "y": {
          "bdata": "EG3nmS24GkA=",
          "dtype": "f8"
         },
         "yaxis": "y2"
        },
        {
         "customdata": [
          [
           "Coffee A"
          ]
         ],
         "hovertemplate": "coffee=Coffee A<br>prefer_ad=%{x}<br>percent=%{y}<extra></extra>",
         "legendgroup": "Coffee A",
         "marker": {
          "color": "#d2b48c",
          "pattern": {
           "shape": ""
          }
         },
         "name": "Coffee A, washed, light roast",
         "orientation": "v",
         "showlegend": false,
         "textposition": "auto",
         "type": "bar",
         "x": [
          "Coffee A"
         ],
         "xaxis": "x3",
         "y": {
          "bdata": "j95n3CSZRUA=",
          "dtype": "f8"
         },
         "yaxis": "y3"
        },
        {
         "customdata": [
          [
           "Coffee D"
          ]
         ],
         "hovertemplate": "coffee=Coffee D<br>prefer_ad=%{x}<br>percent=%{y}<extra></extra>",
         "legendgroup": "Coffee D",
         "marker": {
          "color": "#d2b48c",
          "pattern": {
           "shape": "/"
          }
         },
         "name": "Coffee D, natural, light roast",
         "orientation": "v",
         "showlegend": false,
         "textposition": "auto",
         "type": "bar",
         "x": [
          "Coffee D"
         ],
         "xaxis": "x3",
         "y": {
          "bdata": "oo6S3//sSEA=",
          "dtype": "f8"
         },
         "yaxis": "y3"
        },
        {
         "customdata": [
          [
           "keine Angabe"
          ]
         ],
         "hovertemplate": "coffee=keine Angabe<br>prefer_ad=%{x}<br>percent=%{y}<extra></extra>",
         "legendgroup": "keine Angabe",
         "marker": {
          "color": "#d3d3d3",
          "pattern": {
           "shape": ""
          }
         },
         "name": "keine Angabe",
         "orientation": "v",
         "showlegend": false,
         "textposition": "auto",
         "type": "bar",
         "x": [
          "keine Angabe"
         ],
         "xaxis": "x3",
         "y": {
          "bdata": "fJYsINrOG0A=",
          "dtype": "f8"
         },
         "yaxis": "y3"
        }
       ],
       "layout": {
        "annotations": [
         {
          "font": {
           "size": 16
          },
          "showarrow": false,
          "text": "Insgesamt",
          "x": 0.32222222222222224,
          "xanchor": "center",
          "xref": "paper",
          "y": 1,
          "yanchor": "bottom",
          "yref": "paper"
         },
         {
          "font": {
           "size": 16
          },
          "showarrow": false,
          "text": "Röstung",
          "x": 0.8555555555555556,
          "xanchor": "center",
          "xref": "paper",
          "y": 1,
          "yanchor": "bottom",
          "yref": "paper"
         },
         {
          "font": {
           "size": 16
          },
          "showarrow": false,
          "text": "Fruchtigkeit",
          "x": 0.8555555555555556,
          "xanchor": "center",
          "xref": "paper",
          "y": 0.375,
          "yanchor": "bottom",
          "yref": "paper"
         }
        ],
        "height": 600,
        "legend": {
         "bordercolor": "Black",
         "borderwidth": 2,
         "orientation": "h",
         "x": 0.01,
         "xanchor": "left",
         "y": -0.3,
         "yanchor": "bottom"
        },
        "template": {
         "data": {
          "bar": [
           {
            "error_x": {
             "color": "#2a3f5f"
            },
            "error_y": {
             "color": "#2a3f5f"
            },
            "marker": {
             "line": {
              "color": "white",
              "width": 0.5
             },
             "pattern": {
              "fillmode": "overlay",
              "size": 10,
              "solidity": 0.2
             }
            },
            "type": "bar"
           }
          ],
          "barpolar": [
           {
            "marker": {
             "line": {
              "color": "white",
              "width": 0.5
             },
             "pattern": {
              "fillmode": "overlay",
              "size": 10,
              "solidity": 0.2
             }
            },
            "type": "barpolar"
           }
          ],
          "carpet": [
           {
            "aaxis": {
             "endlinecolor": "#2a3f5f",
             "gridcolor": "#C8D4E3",
             "linecolor": "#C8D4E3",
             "minorgridcolor": "#C8D4E3",
             "startlinecolor": "#2a3f5f"
            },
            "baxis": {
             "endlinecolor": "#2a3f5f",
             "gridcolor": "#C8D4E3",
             "linecolor": "#C8D4E3",
             "minorgridcolor": "#C8D4E3",
             "startlinecolor": "#2a3f5f"
            },
            "type": "carpet"
           }
          ],
          "choropleth": [
           {
            "colorbar": {
             "outlinewidth": 0,
             "ticks": ""
            },
            "type": "choropleth"
           }
          ],
          "contour": [
           {
            "colorbar": {
             "outlinewidth": 0,
             "ticks": ""
            },
            "colorscale": [
             [
              0,
              "#0d0887"
             ],
             [
              0.1111111111111111,
              "#46039f"
             ],
             [
              0.2222222222222222,
              "#7201a8"
             ],
             [
              0.3333333333333333,
              "#9c179e"
             ],
             [
              0.4444444444444444,
              "#bd3786"
             ],
             [
              0.5555555555555556,
              "#d8576b"
             ],
             [
              0.6666666666666666,
              "#ed7953"
             ],
             [
              0.7777777777777778,
              "#fb9f3a"
             ],
             [
              0.8888888888888888,
              "#fdca26"
             ],
             [
              1,
              "#f0f921"
             ]
            ],
            "type": "contour"
           }
          ],
          "contourcarpet": [
           {
            "colorbar": {
             "outlinewidth": 0,
             "ticks": ""
            },
            "type": "contourcarpet"
           }
          ],
          "heatmap": [
           {
            "colorbar": {
             "outlinewidth": 0,
             "ticks": ""
            },
            "colorscale": [
             [
              0,
              "#0d0887"
             ],
             [
              0.1111111111111111,
              "#46039f"
             ],
             [
              0.2222222222222222,
              "#7201a8"
             ],
             [
              0.3333333333333333,
              "#9c179e"
             ],
             [
              0.4444444444444444,
              "#bd3786"
             ],
             [
              0.5555555555555556,
              "#d8576b"
             ],
             [
              0.6666666666666666,
              "#ed7953"
             ],
             [
              0.7777777777777778,
              "#fb9f3a"
             ],
             [
              0.8888888888888888,
              "#fdca26"
             ],
             [
              1,
              "#f0f921"
             ]
            ],
            "type": "heatmap"
           }
          ],
          "histogram": [
           {
            "marker": {
             "pattern": {
              "fillmode": "overlay",
              "size": 10,
              "solidity": 0.2
             }
            },
            "type": "histogram"
           }
          ],
          "histogram2d": [
           {
            "colorbar": {
             "outlinewidth": 0,
             "ticks": ""
            },
            "colorscale": [
             [
              0,
              "#0d0887"
             ],
             [
              0.1111111111111111,
              "#46039f"
             ],
             [
              0.2222222222222222,
              "#7201a8"
             ],
             [
              0.3333333333333333,
              "#9c179e"
             ],
             [
              0.4444444444444444,
              "#bd3786"
             ],
             [
              0.5555555555555556,
              "#d8576b"
             ],
             [
              0.6666666666666666,
              "#ed7953"
             ],
             [
              0.7777777777777778,
              "#fb9f3a"
             ],
             [
              0.8888888888888888,
              "#fdca26"
             ],
             [
              1,
              "#f0f921"
             ]
            ],
            "type": "histogram2d"
           }
          ],
          "histogram2dcontour": [
           {
            "colorbar": {
             "outlinewidth": 0,
             "ticks": ""
            },
            "colorscale": [
             [
              0,
              "#0d0887"
             ],
             [
              0.1111111111111111,
              "#46039f"
             ],
             [
              0.2222222222222222,
              "#7201a8"
             ],
             [
              0.3333333333333333,
              "#9c179e"
             ],
             [
              0.4444444444444444,
              "#bd3786"
             ],
             [
              0.5555555555555556,
              "#d8576b"
             ],
             [
              0.6666666666666666,
              "#ed7953"
             ],
             [
              0.7777777777777778,
              "#fb9f3a"
             ],
             [
              0.8888888888888888,
              "#fdca26"
             ],
             [
              1,
              "#f0f921"
             ]
            ],
            "type": "histogram2dcontour"
           }
          ],
          "mesh3d": [
           {
            "colorbar": {
             "outlinewidth": 0,
             "ticks": ""
            },
            "type": "mesh3d"
           }
          ],
          "parcoords": [
           {
            "line": {
             "colorbar": {
              "outlinewidth": 0,
              "ticks": ""
             }
            },
            "type": "parcoords"
           }
          ],
          "pie": [
           {
            "automargin": true,
            "type": "pie"
           }
          ],
          "scatter": [
           {
            "fillpattern": {
             "fillmode": "overlay",
             "size": 10,
             "solidity": 0.2
            },
            "type": "scatter"
           }
          ],
          "scatter3d": [
           {
            "line": {
             "colorbar": {
              "outlinewidth": 0,
              "ticks": ""
             }
            },
            "marker": {
             "colorbar": {
              "outlinewidth": 0,
              "ticks": ""
             }
            },
            "type": "scatter3d"
           }
          ],
          "scattercarpet": [
           {
            "marker": {
             "colorbar": {
              "outlinewidth": 0,
              "ticks": ""
             }
            },
            "type": "scattercarpet"
           }
          ],
          "scattergeo": [
           {
            "marker": {
             "colorbar": {
              "outlinewidth": 0,
              "ticks": ""
             }
            },
            "type": "scattergeo"
           }
          ],
          "scattergl": [
           {
            "marker": {
             "colorbar": {
              "outlinewidth": 0,
              "ticks": ""
             }
            },
            "type": "scattergl"
           }
          ],
          "scattermap": [
           {
            "marker": {
             "colorbar": {
              "outlinewidth": 0,
              "ticks": ""
             }
            },
            "type": "scattermap"
           }
          ],
          "scattermapbox": [
           {
            "marker": {
             "colorbar": {
              "outlinewidth": 0,
              "ticks": ""
             }
            },
            "type": "scattermapbox"
           }
          ],
          "scatterpolar": [
           {
            "marker": {
             "colorbar": {
              "outlinewidth": 0,
              "ticks": ""
             }
            },
            "type": "scatterpolar"
           }
          ],
          "scatterpolargl": [
           {
            "marker": {
             "colorbar": {
              "outlinewidth": 0,
              "ticks": ""
             }
            },
            "type": "scatterpolargl"
           }
          ],
          "scatterternary": [
           {
            "marker": {
             "colorbar": {
              "outlinewidth": 0,
              "ticks": ""
             }
            },
            "type": "scatterternary"
           }
          ],
          "surface": [
           {
            "colorbar": {
             "outlinewidth": 0,
             "ticks": ""
            },
            "colorscale": [
             [
              0,
              "#0d0887"
             ],
             [
              0.1111111111111111,
              "#46039f"
             ],
             [
              0.2222222222222222,
              "#7201a8"
             ],
             [
              0.3333333333333333,
              "#9c179e"
             ],
             [
              0.4444444444444444,
              "#bd3786"
             ],
             [
              0.5555555555555556,
              "#d8576b"
             ],
             [
              0.6666666666666666,
              "#ed7953"
             ],
             [
              0.7777777777777778,
              "#fb9f3a"
             ],
             [
              0.8888888888888888,
              "#fdca26"
             ],
             [
              1,
              "#f0f921"
             ]
            ],
            "type": "surface"
           }
          ],
          "table": [
           {
            "cells": {
             "fill": {
              "color": "#EBF0F8"
             },
             "line": {
              "color": "white"
             }
            },
            "header": {
             "fill": {
              "color": "#C8D4E3"
             },
             "line": {
              "color": "white"
             }
            },
            "type": "table"
           }
          ]
         },
         "layout": {
          "annotationdefaults": {
           "arrowcolor": "#2a3f5f",
           "arrowhead": 0,
           "arrowwidth": 1
          },
          "autotypenumbers": "strict",
          "coloraxis": {
           "colorbar": {
            "outlinewidth": 0,
            "ticks": ""
           }
          },
          "colorscale": {
           "diverging": [
            [
             0,
             "#8e0152"
            ],
            [
             0.1,
             "#c51b7d"
            ],
            [
             0.2,
             "#de77ae"
            ],
            [
             0.3,
             "#f1b6da"
            ],
            [
             0.4,
             "#fde0ef"
            ],
            [
             0.5,
             "#f7f7f7"
            ],
            [
             0.6,
             "#e6f5d0"
            ],
            [
             0.7,
             "#b8e186"
            ],
            [
             0.8,
             "#7fbc41"
            ],
            [
             0.9,
             "#4d9221"
            ],
            [
             1,
             "#276419"
            ]
           ],
           "sequential": [
            [
             0,
             "#0d0887"
            ],
            [
             0.1111111111111111,
             "#46039f"
            ],
            [
             0.2222222222222222,
             "#7201a8"
            ],
            [
             0.3333333333333333,
             "#9c179e"
            ],
            [
             0.4444444444444444,
             "#bd3786"
            ],
            [
             0.5555555555555556,
             "#d8576b"
            ],
            [
             0.6666666666666666,
             "#ed7953"
            ],
            [
             0.7777777777777778,
             "#fb9f3a"
            ],
            [
             0.8888888888888888,
             "#fdca26"
            ],
            [
             1,
             "#f0f921"
            ]
           ],
           "sequentialminus": [
            [
             0,
             "#0d0887"
            ],
            [
             0.1111111111111111,
             "#46039f"
            ],
            [
             0.2222222222222222,
             "#7201a8"
            ],
            [
             0.3333333333333333,
             "#9c179e"
            ],
            [
             0.4444444444444444,
             "#bd3786"
            ],
            [
             0.5555555555555556,
             "#d8576b"
            ],
            [
             0.6666666666666666,
             "#ed7953"
            ],
            [
             0.7777777777777778,
             "#fb9f3a"
            ],
            [
             0.8888888888888888,
             "#fdca26"
            ],
            [
             1,
             "#f0f921"
            ]
           ]
          },
          "colorway": [
           "#636efa",
           "#EF553B",
           "#00cc96",
           "#ab63fa",
           "#FFA15A",
           "#19d3f3",
           "#FF6692",
           "#B6E880",
           "#FF97FF",
           "#FECB52"
          ],
          "font": {
           "color": "#2a3f5f"
          },
          "geo": {
           "bgcolor": "white",
           "lakecolor": "white",
           "landcolor": "white",
           "showlakes": true,
           "showland": true,
           "subunitcolor": "#C8D4E3"
          },
          "hoverlabel": {
           "align": "left"
          },
          "hovermode": "closest",
          "mapbox": {
           "style": "light"
          },
          "paper_bgcolor": "white",
          "plot_bgcolor": "white",
          "polar": {
           "angularaxis": {
            "gridcolor": "#EBF0F8",
            "linecolor": "#EBF0F8",
            "ticks": ""
           },
           "bgcolor": "white",
           "radialaxis": {
            "gridcolor": "#EBF0F8",
            "linecolor": "#EBF0F8",
            "ticks": ""
           }
          },
          "scene": {
           "xaxis": {
            "backgroundcolor": "white",
            "gridcolor": "#DFE8F3",
            "gridwidth": 2,
            "linecolor": "#EBF0F8",
            "showbackground": true,
            "ticks": "",
            "zerolinecolor": "#EBF0F8"
           },
           "yaxis": {
            "backgroundcolor": "white",
            "gridcolor": "#DFE8F3",
            "gridwidth": 2,
            "linecolor": "#EBF0F8",
            "showbackground": true,
            "ticks": "",
            "zerolinecolor": "#EBF0F8"
           },
           "zaxis": {
            "backgroundcolor": "white",
            "gridcolor": "#DFE8F3",
            "gridwidth": 2,
            "linecolor": "#EBF0F8",
            "showbackground": true,
            "ticks": "",
            "zerolinecolor": "#EBF0F8"
           }
          },
          "shapedefaults": {
           "line": {
            "color": "#2a3f5f"
           }
          },
          "ternary": {
           "aaxis": {
            "gridcolor": "#DFE8F3",
            "linecolor": "#A2B1C6",
            "ticks": ""
           },
           "baxis": {
            "gridcolor": "#DFE8F3",
            "linecolor": "#A2B1C6",
            "ticks": ""
           },
           "bgcolor": "white",
           "caxis": {
            "gridcolor": "#DFE8F3",
            "linecolor": "#A2B1C6",
            "ticks": ""
           }
          },
          "title": {
           "x": 0.05
          },
          "xaxis": {
           "automargin": true,
           "gridcolor": "#EBF0F8",
           "linecolor": "#EBF0F8",
           "ticks": "",
           "title": {
            "standoff": 15
           },
           "zerolinecolor": "#EBF0F8",
           "zerolinewidth": 2
          },
          "yaxis": {
           "automargin": true,
           "gridcolor": "#EBF0F8",
           "linecolor": "#EBF0F8",
           "ticks": "",
           "title": {
            "standoff": 15
           },
           "zerolinecolor": "#EBF0F8",
           "zerolinewidth": 2
          }
         }
        },
        "width": 800,
        "xaxis": {
         "anchor": "y",
         "domain": [
          0,
          0.6444444444444445
         ]
        },
        "xaxis2": {
         "anchor": "y2",
         "domain": [
          0.7111111111111111,
          1
         ]
        },
        "xaxis3": {
         "anchor": "y3",
         "domain": [
          0.7111111111111111,
          1
         ]
        },
        "yaxis": {
         "anchor": "x",
         "domain": [
          0,
          1
         ],
         "title": {
          "text": "Prozent (%)"
         }
        },
        "yaxis2": {
         "anchor": "x2",
         "domain": [
          0.625,
          1
         ]
        },
        "yaxis3": {
         "anchor": "x3",
         "domain": [
          0,
          0.375
         ]
        }
       }
      },
      "image/png": "[encoded data removed]"
     },
     "metadata": {},
     "output_type": "display_data"
    }
   ],
   "source": [
    "# Abbildung bevorzugte Sorte (3 Hauptfragen)\n",
    "\n",
    "prefs = [\"prefer_overall\", \"prefer_abc\", \"prefer_ad\"]\n",
    "\n",
    "c_map = {\n",
    "    \"Coffee A\": \"#d2b48c\",\n",
    "    \"Coffee D\": \"#d2b48c\",\n",
    "    \"Coffee B\": \"#a0522d\",\n",
    "    \"Coffee C\": \"#5c3317\",\n",
    "    \"keine Angabe\": \"#d3d3d3\"\n",
    "}\n",
    "\n",
    "p_map = {\n",
    "    \"Coffee A\": \"\",\n",
    "    \"Coffee D\": \"/\",\n",
    "    \"Coffee B\": \"\",\n",
    "    \"Coffee C\": \"\",\n",
    "    \"keine Angabe\": \"\"\n",
    "}\n",
    "\n",
    "fig_main = make_subplots(\n",
    "    rows=2, cols=3,\n",
    "    specs=[[{\"rowspan\": 2, \"colspan\": 2}, None, {\"type\": \"xy\"}],\n",
    "           [None, None, {\"type\": \"xy\"}]],\n",
    "    shared_yaxes=True,\n",
    "    subplot_titles=[\"Insgesamt\", \"Röstung\", \"Fruchtigkeit\"]\n",
    ")\n",
    "\n",
    "for i, pref in enumerate(prefs):\n",
    "    \n",
    "    df_cat = ratings.groupby(pref, observed=False).size().reset_index(name=\"counts\")\n",
    "    # Prozent berechnen\n",
    "    total = df_cat['counts'].sum()\n",
    "    df_cat['percent'] = df_cat['counts'] / total * 100\n",
    "    df_cat['coffee'] = df_cat[pref]\n",
    "    \n",
    "    p = px.bar(\n",
    "        df_cat,\n",
    "        x=pref,\n",
    "        y=\"percent\",\n",
    "        color=\"coffee\",\n",
    "        pattern_shape=\"coffee\",\n",
    "        custom_data=[\"coffee\"],\n",
    "        color_discrete_map=c_map,\n",
    "        pattern_shape_map=p_map,\n",
    "        template=\"plotly_white\"\n",
    "    )\n",
    "    \n",
    "    if i == 0:\n",
    "        target_row, target_col = 1, 1\n",
    "    elif i == 1:\n",
    "        target_row, target_col = 1, 3\n",
    "    else:\n",
    "        target_row, target_col = 2, 3\n",
    "    \n",
    "    for trace in p.data:\n",
    "        trace.showlegend = (i == 0)\n",
    "        fig_main.add_trace(trace, row=target_row, col=target_col)\n",
    "\n",
    "fig_main.update_yaxes(title_text=\"Prozent (%)\", row=1, col=1)\n",
    "fig_main.update_layout(height=600, width=800, template=\"plotly_white\",\n",
    "                      legend=dict(\n",
    "                          orientation=\"h\",\n",
    "                          yanchor=\"bottom\",\n",
    "                          y=-0.3,\n",
    "                          xanchor=\"left\",\n",
    "                          x=0.01,\n",
    "                          bordercolor=\"Black\",\n",
    "                          borderwidth=2\n",
    "                        ))\n",
    "fig_main.update_traces({'name': 'Coffee A, washed, light roast'}, selector={'name': 'Coffee A'})\n",
    "fig_main.update_traces({'name': 'Coffee B, washed, medium roast'}, selector={'name': 'Coffee B'})\n",
    "fig_main.update_traces({'name': 'Coffee C, washed, dark roast'}, selector={'name': 'Coffee C'})\n",
    "fig_main.update_traces({'name': 'Coffee D, natural, light roast'}, selector={'name': 'Coffee D'})"
   ]
  },
  {
   "cell_type": "markdown",
   "id": "9389caa1-039f-48f1-aa04-0cb07ae9a21a",
   "metadata": {},
   "source": [
    "## Interaktives Dashboard mit Einzelbewertungen"
   ]
  },
  {
   "cell_type": "code",
   "execution_count": 24,
   "id": "43432e29-6314-497a-812c-d66654a7f0c7",
   "metadata": {},
   "outputs": [
    {
     "data": {
      "text/html": [
       "\n",
       "        <iframe\n",
       "            width=\"100%\"\n",
       "            height=\"650\"\n",
       "            src=\"http://127.0.0.1:8061/\"\n",
       "            frameborder=\"0\"\n",
       "            allowfullscreen\n",
       "            \n",
       "        ></iframe>\n",
       "        "
      ],
      "text/plain": [
       "<IPython.lib.display.IFrame at 0x25a6f78cef0>"
      ]
     },
     "metadata": {},
     "output_type": "display_data"
    },
    {
     "name": "stdout",
     "output_type": "stream",
     "text": [
      "\n",
      "\n",
      "\n",
      "\n",
      "\n",
      "\n",
      "\n",
      "\n",
      "\n"
     ]
    }
   ],
   "source": [
    "coffees = [x.upper() for x in ratings_long[\"coffee\"].unique()]\n",
    "cols = [\"personal_preference\", \"acidity\", \"bitterness\"]\n",
    "\n",
    "# Initialize the app without style sheet\n",
    "app=Dash()\n",
    "\n",
    "# App layout\n",
    "app.layout = html.Div([\n",
    "    html.Div(className='row', children='Kaffeebewertungen',\n",
    "            style={'textAlign': 'center', 'color': 'black', 'fontSize': 30}),\n",
    "    html.Hr(),\n",
    "    html.Div([\n",
    "        html.Div([\n",
    "            html.Div(className='row', children='bevorzugte Sorte',\n",
    "                style={'textAlign': 'left', 'color': 'black', 'fontSize': 20}),\n",
    "            dcc.Graph(id='basic-interactions', figure=fig_main)\n",
    "    ], style={'width': '55%', 'display': 'inline-block', 'verticalAlign': 'top'}),\n",
    "            \n",
    "        html.Div([\n",
    "            html.Div(className='row', children='detaillierte Bewertung',\n",
    "                style={'textAlign': 'left', 'color': 'black', 'fontSize': 20}),\n",
    "            dcc.Graph(id='details-plot', style={'marginLeft': '20px'}),\n",
    "            html.Div([\n",
    "                html.Img(id='coffee-image', style={\n",
    "                'width': 'auto',            \n",
    "                'height': '300px', \n",
    "                'objectFit': 'contain',\n",
    "                'display': 'block',\n",
    "                'margin': '10px auto',      \n",
    "                'border': '3px solid orange',\n",
    "                'borderRadius': '8px',\n",
    "                'padding': '4px'\n",
    "            })], id='coffee-images')\n",
    "        ], style={'width': '40%', 'display': 'inline-block', 'verticalAlign': 'top'})\n",
    "    ])\n",
    "])\n",
    "             \n",
    "\n",
    "# Add controls to build the interaction\n",
    "@callback(\n",
    "    Output(component_id='details-plot', component_property='figure'),\n",
    "    Output('coffee-image', 'src'),\n",
    "    Input(component_id='basic-interactions', component_property='hoverData')\n",
    ")\n",
    "def update_graph(hoverData):\n",
    "          \n",
    "    if not hoverData:\n",
    "        cof_chosen = \"A\"          \n",
    "    else:\n",
    "        cof_chosen = hoverData['points'][0]['customdata'][0][-1]\n",
    "\n",
    "    if cof_chosen == \"e\":\n",
    "        raise PreventUpdate\n",
    "  \n",
    "    df_cof = ratings_long[ratings_long[\"coffee\"]==cof_chosen.lower()]\n",
    "    \n",
    "    # Create a subplot layout\n",
    "    fig = make_subplots(rows=1, cols=len(cols), shared_yaxes=True, subplot_titles=[\"Gesamtbewertung\", \"Säure\", \"Bitterkeit\"])\n",
    "    \n",
    "    for i, col in enumerate(cols):\n",
    "        df_cat = df_cof.groupby(by=col, observed=False).size().reset_index(name=\"counts\")\n",
    "        # Prozent berechnen\n",
    "        total = df_cat['counts'].sum()\n",
    "        df_cat['percent'] = df_cat['counts'] / total * 100\n",
    "        p = px.bar(df_cat, x=col, y=\"percent\", color_discrete_sequence=[c_map.get(f\"Coffee {cof_chosen}\", \"#999999\")],)\n",
    "        pattern = p_map.get(f\"Coffee {cof_chosen}\", \"\")  # hier deine p_map\n",
    "        print(pattern)\n",
    "        # Add traces from Plotly Express figures to the subplot\n",
    "        for trace in p.data:\n",
    "            trace.marker.pattern = dict(shape=pattern, solidity=0.2)\n",
    "            fig.add_trace(trace, row=1, col=i+1)\n",
    "    \n",
    "    # Update layout\n",
    "    fig.update_yaxes(title_text=\"Prozent (%)\", row=1, col=1)\n",
    "    fig.update_layout(title_text=f\"Details Kaffee {cof_chosen.upper()} \", showlegend=False, template=\"plotly_white\", height=400)\n",
    "\n",
    "    # Wortwolke anzeigen\n",
    "    img_src = f'/assets/Coffee {cof_chosen}_wordcloud.png'\n",
    "    \n",
    "    return fig, img_src\n",
    "\n",
    "# Run the app\n",
    "if __name__ == '__main__':\n",
    "    app.run(debug=True, port=8061)"
   ]
  },
  {
   "cell_type": "markdown",
   "id": "a18383ad-2fc4-4958-b896-4def3b013093",
   "metadata": {},
   "source": [
    "## Bewertungsdaten speichern"
   ]
  },
  {
   "cell_type": "code",
   "execution_count": null,
   "id": "359ea8ef-fce5-45b7-9cd5-7894b3d8d47c",
   "metadata": {},
   "outputs": [],
   "source": [
    "ratings.to_pickle('coffee_data_ratings.pkl')"
   ]
  },
  {
   "cell_type": "code",
   "execution_count": null,
   "id": "8e55dcec-1c7d-41eb-8183-8f49210571b0",
   "metadata": {},
   "outputs": [],
   "source": []
  }
 ],
 "metadata": {
  "kernelspec": {
   "display_name": "Python 3 (ipykernel)",
   "language": "python",
   "name": "python3"
  },
  "language_info": {
   "codemirror_mode": {
    "name": "ipython",
    "version": 3
   },
   "file_extension": ".py",
   "mimetype": "text/x-python",
   "name": "python",
   "nbconvert_exporter": "python",
   "pygments_lexer": "ipython3",
   "version": "3.12.10"
  }
 },
 "nbformat": 4,
 "nbformat_minor": 5
}
