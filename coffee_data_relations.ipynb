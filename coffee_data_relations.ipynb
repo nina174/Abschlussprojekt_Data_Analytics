{
 "cells": [
  {
   "cell_type": "markdown",
   "id": "3106ff4c-3eca-49f1-9a02-9d13bc68a795",
   "metadata": {},
   "source": [
    "# Coffee data - Bewertungen und Zusammenhänge untersuchen\n",
    "\n",
    "**Projektschritt 3:** \n",
    "Gibt es Zusammenhänge zwischen demografischen Merkmalen und/oder Konsummustern und der bevorzugten Kaffeesorte?  \n",
    "-> Erstellung eines interaktiven Dashboards mit plotly/dash "
   ]
  },
  {
   "cell_type": "markdown",
   "id": "66f1e459-0f60-4605-9f60-51b4f956c289",
   "metadata": {},
   "source": [
    "## Module und Daten laden"
   ]
  },
  {
   "cell_type": "code",
   "execution_count": 1,
   "id": "89e9b129-2496-4c10-94ef-1cb939f2926c",
   "metadata": {},
   "outputs": [],
   "source": [
    "# Import modules\n",
    "\n",
    "import pandas as pd\n",
    "import numpy as np\n",
    "import seaborn as sns\n",
    "import matplotlib.pyplot as plt\n",
    "import plotly.express as px\n",
    "from plotly.subplots import make_subplots\n",
    "from dash import Dash, html, dcc, callback, Output, Input\n",
    "from dash.exceptions import PreventUpdate"
   ]
  },
  {
   "cell_type": "markdown",
   "id": "0da7375b-8b7d-416a-a834-22c14707cc20",
   "metadata": {},
   "source": [
    "## Daten vorbereiten"
   ]
  },
  {
   "cell_type": "code",
   "execution_count": 2,
   "id": "40a6b328-2478-47db-83ea-d436372c2822",
   "metadata": {},
   "outputs": [
    {
     "name": "stdout",
     "output_type": "stream",
     "text": [
      "<class 'pandas.core.frame.DataFrame'>\n",
      "RangeIndex: 4042 entries, 0 to 4041\n",
      "Data columns (total 34 columns):\n",
      " #   Column                                            Non-Null Count  Dtype   \n",
      "---  ------                                            --------------  -----   \n",
      " 0   submission_id                                     4042 non-null   category\n",
      " 1   age                                               4042 non-null   category\n",
      " 2   gender                                            4042 non-null   category\n",
      " 3   expertise                                         4042 non-null   category\n",
      " 4   strength                                          4042 non-null   category\n",
      " 5   roast_level                                       4042 non-null   category\n",
      " 6   style                                             4042 non-null   category\n",
      " 7   favorite                                          4042 non-null   category\n",
      " 8   brew Bean-to-cup machine                          4042 non-null   bool    \n",
      " 9   brew Coffee brewing machine (e.g. Mr. Coffee)     4042 non-null   bool    \n",
      " 10  brew Coffee extract (e.g. Cometeer)               4042 non-null   bool    \n",
      " 11  brew Cold brew                                    4042 non-null   bool    \n",
      " 12  brew Espresso                                     4042 non-null   bool    \n",
      " 13  brew French press                                 4042 non-null   bool    \n",
      " 14  brew Instant coffee                               4042 non-null   bool    \n",
      " 15  brew Other                                        4042 non-null   bool    \n",
      " 16  brew Pod/capsule machine (e.g. Keurig/Nespresso)  4042 non-null   bool    \n",
      " 17  brew Pour over                                    4042 non-null   bool    \n",
      " 18  brew keine Angabe                                 4042 non-null   bool    \n",
      " 19  coffee_a_bitterness                               4042 non-null   category\n",
      " 20  coffee_a_acidity                                  4042 non-null   category\n",
      " 21  coffee_a_personal_preference                      4042 non-null   category\n",
      " 22  coffee_b_bitterness                               4042 non-null   category\n",
      " 23  coffee_b_acidity                                  4042 non-null   category\n",
      " 24  coffee_b_personal_preference                      4042 non-null   category\n",
      " 25  coffee_c_bitterness                               4042 non-null   category\n",
      " 26  coffee_c_acidity                                  4042 non-null   category\n",
      " 27  coffee_c_personal_preference                      4042 non-null   category\n",
      " 28  coffee_d_bitterness                               4042 non-null   category\n",
      " 29  coffee_d_acidity                                  4042 non-null   category\n",
      " 30  coffee_d_personal_preference                      4042 non-null   category\n",
      " 31  prefer_overall                                    4042 non-null   category\n",
      " 32  prefer_abc                                        4042 non-null   category\n",
      " 33  prefer_ad                                         4042 non-null   category\n",
      "dtypes: bool(11), category(23)\n",
      "memory usage: 171.0 KB\n"
     ]
    }
   ],
   "source": [
    "# Read prepared data\n",
    "descriptives = pd.read_pickle(\"coffee_data_descriptives.pkl\")\n",
    "ratings = pd.read_pickle(\"coffee_data_ratings.pkl\")\n",
    "df = pd.merge(descriptives, ratings, on=\"submission_id\", how=\"outer\")\n",
    "df.info()"
   ]
  },
  {
   "cell_type": "code",
   "execution_count": 3,
   "id": "e6455f10-8741-4a46-a4ec-93f8f7e43cd2",
   "metadata": {},
   "outputs": [
    {
     "name": "stderr",
     "output_type": "stream",
     "text": [
      "C:\\Users\\alfa\\AppData\\Local\\Temp\\ipykernel_4720\\3464599961.py:1: FutureWarning: The behavior of Series.replace (and DataFrame.replace) with CategoricalDtype is deprecated. In a future version, replace will only be used for cases that preserve the categories. To change the categories, use ser.cat.rename_categories instead.\n",
      "  df[\"gender\"] = df[\"gender\"].replace({\"Prefer not to say\": \"keine Angabe\",\n"
     ]
    }
   ],
   "source": [
    "df[\"gender\"] = df[\"gender\"].replace({\"Prefer not to say\": \"keine Angabe\",\n",
    "                                     \"Male\": \"männlich\",\n",
    "                                     \"Female\": \"weiblich\",\n",
    "                                     \"Non-binary\": \"nicht-binär\",\n",
    "                                     \"Other (please specify)\": \"andere\"})\n",
    "df[\"age\"] = df[\"age\"].str.replace(\"years old\", \"Jahre alt\").astype(\"category\")\n",
    "age_order = ['<18 Jahre alt', '18-24 Jahre alt', '25-34 Jahre alt', '35-44 Jahre alt', '45-54 Jahre alt', '55-64 Jahre alt', '>65 Jahre alt', 'keine Angabe']\n",
    "df[\"age\"] = df[\"age\"].cat.set_categories(age_order, \n",
    "                                         ordered=True)\n"
   ]
  },
  {
   "cell_type": "code",
   "execution_count": 4,
   "id": "7683157d-c67f-4d38-ab84-176672bca0ec",
   "metadata": {},
   "outputs": [
    {
     "name": "stdout",
     "output_type": "stream",
     "text": [
      "age\n",
      "25-34 Jahre alt    1890\n",
      "35-44 Jahre alt     902\n",
      "18-24 Jahre alt     416\n",
      "45-54 Jahre alt     281\n",
      "Name: count, dtype: int64\n",
      "gender\n",
      "männlich        2370\n",
      "weiblich         768\n",
      "keine Angabe     239\n",
      "Name: count, dtype: int64\n",
      "roast_level\n",
      "Light     1584\n",
      "Medium    1311\n",
      "Dark       313\n",
      "Name: count, dtype: int64\n",
      "strength\n",
      "Somewhat strong    1486\n",
      "Medium             1162\n",
      "Very strong         346\n",
      "Somewhat light      162\n",
      "Name: count, dtype: int64\n",
      "style\n",
      "Fruity         804\n",
      "Chocolatey     502\n",
      "Full Bodied    342\n",
      "Bright         289\n",
      "Nutty          241\n",
      "Caramalized    232\n",
      "Juicy          226\n",
      "Sweet          226\n",
      "Name: count, dtype: int64\n",
      "favorite\n",
      "Pourover               802\n",
      "Latte                  498\n",
      "Regular drip coffee    284\n",
      "Cappuccino             250\n",
      "Cortado                241\n",
      "Espresso               222\n",
      "Americano              187\n",
      "Name: count, dtype: int64\n"
     ]
    },
    {
     "name": "stderr",
     "output_type": "stream",
     "text": [
      "C:\\Users\\alfa\\AppData\\Local\\Temp\\ipykernel_4720\\1026197742.py:4: SettingWithCopyWarning: \n",
      "A value is trying to be set on a copy of a slice from a DataFrame.\n",
      "Try using .loc[row_indexer,col_indexer] = value instead\n",
      "\n",
      "See the caveats in the documentation: https://pandas.pydata.org/pandas-docs/stable/user_guide/indexing.html#returning-a-view-versus-a-copy\n",
      "  df_clean[\"prefer_overall\"] = df_clean[\"prefer_overall\"].cat.remove_unused_categories()\n"
     ]
    }
   ],
   "source": [
    "# Daten filtern: keine Angabe raus, Kategorien <5% raus\n",
    "\n",
    "df_clean = df[df[\"prefer_overall\"] != \"keine Angabe\"]\n",
    "df_clean[\"prefer_overall\"] = df_clean[\"prefer_overall\"].cat.remove_unused_categories()\n",
    "\n",
    "cols = [\"age\", \"gender\", \"roast_level\", \"strength\", \"style\", \"favorite\"]\n",
    "#expertise ganz drin lassen?\n",
    "\n",
    "for col in cols: \n",
    "    n_5 = pd.DataFrame(df_clean[col].value_counts(normalize=True)).reset_index()\n",
    "    n_5 = n_5[n_5[\"proportion\"]<=0.05][col]\n",
    "    df_clean = df_clean[~df_clean[col].isin(n_5)].copy()\n",
    "    df_clean[col] = df_clean[col].cat.remove_unused_categories()\n",
    "    print(df_clean[col].value_counts())"
   ]
  },
  {
   "cell_type": "code",
   "execution_count": 5,
   "id": "f283e95a-b43f-47d1-a0a7-a3047bf28177",
   "metadata": {},
   "outputs": [],
   "source": [
    "df_clean[\"expertise\"] = df_clean[\"expertise\"].cat.as_ordered()"
   ]
  },
  {
   "cell_type": "markdown",
   "id": "0f2b63fa-9e81-4d0e-abfb-5c1738e025ff",
   "metadata": {},
   "source": [
    "## Zusammenhang demografische Variablen mit Kaffeepräferenz"
   ]
  },
  {
   "cell_type": "code",
   "execution_count": 6,
   "id": "7dc5c274-b296-4b9d-b612-3d85a0eda2bb",
   "metadata": {},
   "outputs": [],
   "source": [
    "# Eigenschaften für Plots definieren\n",
    "coffee_order = [\"Coffee A\", \"Coffee B\", \"Coffee C\", \"Coffee D\", \"keine Angabe\"]\n",
    "c_map = {\n",
    "    \"Coffee A\": \"#d2b48c\",\n",
    "    \"Coffee D\": \"#d2b48c\",\n",
    "    \"Coffee B\": \"#a0522d\",\n",
    "    \"Coffee C\": \"#5c3317\",\n",
    "    \"keine Angabe\": \"#d3d3d3\"\n",
    "}\n",
    "\n",
    "p_map = {\n",
    "    \"Coffee A\": \"\",\n",
    "    \"Coffee D\": \"/\",\n",
    "    \"Coffee B\": \"\",\n",
    "    \"Coffee C\": \"\",\n",
    "    \"keine Angabe\": \"\"\n",
    "}"
   ]
  },
  {
   "cell_type": "markdown",
   "id": "ebbd115e-3c0d-4eb9-b43a-6e5da8130656",
   "metadata": {},
   "source": [
    "### Alter"
   ]
  },
  {
   "cell_type": "code",
   "execution_count": 7,
   "id": "7d71c069-d8bc-4277-aefc-6d73f471a753",
   "metadata": {
    "scrolled": true
   },
   "outputs": [],
   "source": [
    "# Werte zählen für Plot\n",
    "df_cat = pd.DataFrame(df.groupby(by=\"age\", observed=False)[\"prefer_overall\"].value_counts(normalize=True)).reset_index()\n",
    "df_cat[\"proportion\"] = df_cat[\"proportion\"]*100\n",
    "df_cat = df_cat[df_cat[\"age\"] != \"keine Angabe\"]"
   ]
  },
  {
   "cell_type": "code",
   "execution_count": 8,
   "id": "2c67e38f-e27a-4e06-8eea-09906fa774c0",
   "metadata": {},
   "outputs": [
    {
     "data": {
      "application/vnd.plotly.v1+json": {
       "config": {
        "plotlyServerURL": "https://plot.ly"
       },
       "data": [
        {
         "alignmentgroup": "True",
         "hovertemplate": "prefer_overall=Coffee A<br>age=%{x}<br>proportion=%{y}<extra></extra>",
         "legendgroup": "Coffee A",
         "marker": {
          "color": "#d2b48c",
          "pattern": {
           "shape": ""
          }
         },
         "name": "Coffee A",
         "offsetgroup": "Coffee A",
         "orientation": "v",
         "showlegend": true,
         "textposition": "auto",
         "type": "bar",
         "x": [
          "<18 Jahre alt",
          "18-24 Jahre alt",
          "25-34 Jahre alt",
          "35-44 Jahre alt",
          "45-54 Jahre alt",
          "55-64 Jahre alt",
          ">65 Jahre alt"
         ],
         "xaxis": "x",
         "y": {
          "bdata": "AAAAAAAANECcfowPdOswQEYy3WaRTDVAq6qqqqqqNUD/Jn+Tv8kvQKalpaWlpTFANpTXUF5DOUA=",
          "dtype": "f8"
         },
         "yaxis": "y"
        },
        {
         "alignmentgroup": "True",
         "hovertemplate": "prefer_overall=Coffee B<br>age=%{x}<br>proportion=%{y}<extra></extra>",
         "legendgroup": "Coffee B",
         "marker": {
          "color": "#a0522d",
          "pattern": {
           "shape": ""
          }
         },
         "name": "Coffee B",
         "offsetgroup": "Coffee B",
         "orientation": "v",
         "showlegend": true,
         "textposition": "auto",
         "type": "bar",
         "x": [
          "<18 Jahre alt",
          "18-24 Jahre alt",
          "25-34 Jahre alt",
          "35-44 Jahre alt",
          "45-54 Jahre alt",
          "55-64 Jahre alt",
          ">65 Jahre alt"
         ],
         "xaxis": "x",
         "y": {
          "bdata": "AAAAAAAALkDQqBBqRY82QAjg+w8C+DBAVVVVVVX1MkAM74X3wns7QL0CGnfrvDpANpTXUF5DOUA=",
          "dtype": "f8"
         },
         "yaxis": "y"
        },
        {
         "alignmentgroup": "True",
         "hovertemplate": "prefer_overall=Coffee C<br>age=%{x}<br>proportion=%{y}<extra></extra>",
         "legendgroup": "Coffee C",
         "marker": {
          "color": "#5c3317",
          "pattern": {
           "shape": ""
          }
         },
         "name": "Coffee C",
         "offsetgroup": "Coffee C",
         "orientation": "v",
         "showlegend": true,
         "textposition": "auto",
         "type": "bar",
         "x": [
          "<18 Jahre alt",
          "18-24 Jahre alt",
          "25-34 Jahre alt",
          "35-44 Jahre alt",
          "45-54 Jahre alt",
          "55-64 Jahre alt",
          ">65 Jahre alt"
         ],
         "xaxis": "x",
         "y": {
          "bdata": "AAAAAAAALkBgpDgC7LMwQNzqkQq3ejJAVlVVVVXVNECqxFRiKjE1QL0CGnfrvDpAXkN5DeU1OEA=",
          "dtype": "f8"
         },
         "yaxis": "y"
        },
        {
         "alignmentgroup": "True",
         "hovertemplate": "prefer_overall=Coffee D<br>age=%{x}<br>proportion=%{y}<extra></extra>",
         "legendgroup": "Coffee D",
         "marker": {
          "color": "#d2b48c",
          "pattern": {
           "shape": "/"
          }
         },
         "name": "Coffee D",
         "offsetgroup": "Coffee D",
         "orientation": "v",
         "showlegend": true,
         "textposition": "auto",
         "type": "bar",
         "x": [
          "<18 Jahre alt",
          "18-24 Jahre alt",
          "25-34 Jahre alt",
          "35-44 Jahre alt",
          "45-54 Jahre alt",
          "55-64 Jahre alt",
          ">65 Jahre alt"
         ],
         "xaxis": "x",
         "y": {
          "bdata": "AAAAAAAAOUC7azYWOAdBQH7WwJSfNUNAAAAAAABAQEBE6CH0EHo8QP9yRIqh/jZAAAAAAAAANEA=",
          "dtype": "f8"
         },
         "yaxis": "y"
        },
        {
         "alignmentgroup": "True",
         "hovertemplate": "prefer_overall=keine Angabe<br>age=%{x}<br>proportion=%{y}<extra></extra>",
         "legendgroup": "keine Angabe",
         "marker": {
          "color": "#d3d3d3",
          "pattern": {
           "shape": ""
          }
         },
         "name": "keine Angabe",
         "offsetgroup": "keine Angabe",
         "orientation": "v",
         "showlegend": true,
         "textposition": "auto",
         "type": "bar",
         "x": [
          "<18 Jahre alt",
          "18-24 Jahre alt",
          "25-34 Jahre alt",
          "35-44 Jahre alt",
          "45-54 Jahre alt",
          "55-64 Jahre alt",
          ">65 Jahre alt"
         ],
         "xaxis": "x",
         "y": {
          "bdata": "AAAAAAAAOUB6uXqv1IUjQGVXTVTZVRNAq6qqqqoqGEAeQg+hh9AbQIeHh4eHhxdA11BeQ3kNFUA=",
          "dtype": "f8"
         },
         "yaxis": "y"
        }
       ],
       "layout": {
        "barmode": "group",
        "legend": {
         "title": {
          "text": "prefer_overall"
         },
         "tracegroupgap": 0
        },
        "margin": {
         "t": 60
        },
        "template": {
         "data": {
          "bar": [
           {
            "error_x": {
             "color": "#2a3f5f"
            },
            "error_y": {
             "color": "#2a3f5f"
            },
            "marker": {
             "line": {
              "color": "white",
              "width": 0.5
             },
             "pattern": {
              "fillmode": "overlay",
              "size": 10,
              "solidity": 0.2
             }
            },
            "type": "bar"
           }
          ],
          "barpolar": [
           {
            "marker": {
             "line": {
              "color": "white",
              "width": 0.5
             },
             "pattern": {
              "fillmode": "overlay",
              "size": 10,
              "solidity": 0.2
             }
            },
            "type": "barpolar"
           }
          ],
          "carpet": [
           {
            "aaxis": {
             "endlinecolor": "#2a3f5f",
             "gridcolor": "#C8D4E3",
             "linecolor": "#C8D4E3",
             "minorgridcolor": "#C8D4E3",
             "startlinecolor": "#2a3f5f"
            },
            "baxis": {
             "endlinecolor": "#2a3f5f",
             "gridcolor": "#C8D4E3",
             "linecolor": "#C8D4E3",
             "minorgridcolor": "#C8D4E3",
             "startlinecolor": "#2a3f5f"
            },
            "type": "carpet"
           }
          ],
          "choropleth": [
           {
            "colorbar": {
             "outlinewidth": 0,
             "ticks": ""
            },
            "type": "choropleth"
           }
          ],
          "contour": [
           {
            "colorbar": {
             "outlinewidth": 0,
             "ticks": ""
            },
            "colorscale": [
             [
              0,
              "#0d0887"
             ],
             [
              0.1111111111111111,
              "#46039f"
             ],
             [
              0.2222222222222222,
              "#7201a8"
             ],
             [
              0.3333333333333333,
              "#9c179e"
             ],
             [
              0.4444444444444444,
              "#bd3786"
             ],
             [
              0.5555555555555556,
              "#d8576b"
             ],
             [
              0.6666666666666666,
              "#ed7953"
             ],
             [
              0.7777777777777778,
              "#fb9f3a"
             ],
             [
              0.8888888888888888,
              "#fdca26"
             ],
             [
              1,
              "#f0f921"
             ]
            ],
            "type": "contour"
           }
          ],
          "contourcarpet": [
           {
            "colorbar": {
             "outlinewidth": 0,
             "ticks": ""
            },
            "type": "contourcarpet"
           }
          ],
          "heatmap": [
           {
            "colorbar": {
             "outlinewidth": 0,
             "ticks": ""
            },
            "colorscale": [
             [
              0,
              "#0d0887"
             ],
             [
              0.1111111111111111,
              "#46039f"
             ],
             [
              0.2222222222222222,
              "#7201a8"
             ],
             [
              0.3333333333333333,
              "#9c179e"
             ],
             [
              0.4444444444444444,
              "#bd3786"
             ],
             [
              0.5555555555555556,
              "#d8576b"
             ],
             [
              0.6666666666666666,
              "#ed7953"
             ],
             [
              0.7777777777777778,
              "#fb9f3a"
             ],
             [
              0.8888888888888888,
              "#fdca26"
             ],
             [
              1,
              "#f0f921"
             ]
            ],
            "type": "heatmap"
           }
          ],
          "histogram": [
           {
            "marker": {
             "pattern": {
              "fillmode": "overlay",
              "size": 10,
              "solidity": 0.2
             }
            },
            "type": "histogram"
           }
          ],
          "histogram2d": [
           {
            "colorbar": {
             "outlinewidth": 0,
             "ticks": ""
            },
            "colorscale": [
             [
              0,
              "#0d0887"
             ],
             [
              0.1111111111111111,
              "#46039f"
             ],
             [
              0.2222222222222222,
              "#7201a8"
             ],
             [
              0.3333333333333333,
              "#9c179e"
             ],
             [
              0.4444444444444444,
              "#bd3786"
             ],
             [
              0.5555555555555556,
              "#d8576b"
             ],
             [
              0.6666666666666666,
              "#ed7953"
             ],
             [
              0.7777777777777778,
              "#fb9f3a"
             ],
             [
              0.8888888888888888,
              "#fdca26"
             ],
             [
              1,
              "#f0f921"
             ]
            ],
            "type": "histogram2d"
           }
          ],
          "histogram2dcontour": [
           {
            "colorbar": {
             "outlinewidth": 0,
             "ticks": ""
            },
            "colorscale": [
             [
              0,
              "#0d0887"
             ],
             [
              0.1111111111111111,
              "#46039f"
             ],
             [
              0.2222222222222222,
              "#7201a8"
             ],
             [
              0.3333333333333333,
              "#9c179e"
             ],
             [
              0.4444444444444444,
              "#bd3786"
             ],
             [
              0.5555555555555556,
              "#d8576b"
             ],
             [
              0.6666666666666666,
              "#ed7953"
             ],
             [
              0.7777777777777778,
              "#fb9f3a"
             ],
             [
              0.8888888888888888,
              "#fdca26"
             ],
             [
              1,
              "#f0f921"
             ]
            ],
            "type": "histogram2dcontour"
           }
          ],
          "mesh3d": [
           {
            "colorbar": {
             "outlinewidth": 0,
             "ticks": ""
            },
            "type": "mesh3d"
           }
          ],
          "parcoords": [
           {
            "line": {
             "colorbar": {
              "outlinewidth": 0,
              "ticks": ""
             }
            },
            "type": "parcoords"
           }
          ],
          "pie": [
           {
            "automargin": true,
            "type": "pie"
           }
          ],
          "scatter": [
           {
            "fillpattern": {
             "fillmode": "overlay",
             "size": 10,
             "solidity": 0.2
            },
            "type": "scatter"
           }
          ],
          "scatter3d": [
           {
            "line": {
             "colorbar": {
              "outlinewidth": 0,
              "ticks": ""
             }
            },
            "marker": {
             "colorbar": {
              "outlinewidth": 0,
              "ticks": ""
             }
            },
            "type": "scatter3d"
           }
          ],
          "scattercarpet": [
           {
            "marker": {
             "colorbar": {
              "outlinewidth": 0,
              "ticks": ""
             }
            },
            "type": "scattercarpet"
           }
          ],
          "scattergeo": [
           {
            "marker": {
             "colorbar": {
              "outlinewidth": 0,
              "ticks": ""
             }
            },
            "type": "scattergeo"
           }
          ],
          "scattergl": [
           {
            "marker": {
             "colorbar": {
              "outlinewidth": 0,
              "ticks": ""
             }
            },
            "type": "scattergl"
           }
          ],
          "scattermap": [
           {
            "marker": {
             "colorbar": {
              "outlinewidth": 0,
              "ticks": ""
             }
            },
            "type": "scattermap"
           }
          ],
          "scattermapbox": [
           {
            "marker": {
             "colorbar": {
              "outlinewidth": 0,
              "ticks": ""
             }
            },
            "type": "scattermapbox"
           }
          ],
          "scatterpolar": [
           {
            "marker": {
             "colorbar": {
              "outlinewidth": 0,
              "ticks": ""
             }
            },
            "type": "scatterpolar"
           }
          ],
          "scatterpolargl": [
           {
            "marker": {
             "colorbar": {
              "outlinewidth": 0,
              "ticks": ""
             }
            },
            "type": "scatterpolargl"
           }
          ],
          "scatterternary": [
           {
            "marker": {
             "colorbar": {
              "outlinewidth": 0,
              "ticks": ""
             }
            },
            "type": "scatterternary"
           }
          ],
          "surface": [
           {
            "colorbar": {
             "outlinewidth": 0,
             "ticks": ""
            },
            "colorscale": [
             [
              0,
              "#0d0887"
             ],
             [
              0.1111111111111111,
              "#46039f"
             ],
             [
              0.2222222222222222,
              "#7201a8"
             ],
             [
              0.3333333333333333,
              "#9c179e"
             ],
             [
              0.4444444444444444,
              "#bd3786"
             ],
             [
              0.5555555555555556,
              "#d8576b"
             ],
             [
              0.6666666666666666,
              "#ed7953"
             ],
             [
              0.7777777777777778,
              "#fb9f3a"
             ],
             [
              0.8888888888888888,
              "#fdca26"
             ],
             [
              1,
              "#f0f921"
             ]
            ],
            "type": "surface"
           }
          ],
          "table": [
           {
            "cells": {
             "fill": {
              "color": "#EBF0F8"
             },
             "line": {
              "color": "white"
             }
            },
            "header": {
             "fill": {
              "color": "#C8D4E3"
             },
             "line": {
              "color": "white"
             }
            },
            "type": "table"
           }
          ]
         },
         "layout": {
          "annotationdefaults": {
           "arrowcolor": "#2a3f5f",
           "arrowhead": 0,
           "arrowwidth": 1
          },
          "autotypenumbers": "strict",
          "coloraxis": {
           "colorbar": {
            "outlinewidth": 0,
            "ticks": ""
           }
          },
          "colorscale": {
           "diverging": [
            [
             0,
             "#8e0152"
            ],
            [
             0.1,
             "#c51b7d"
            ],
            [
             0.2,
             "#de77ae"
            ],
            [
             0.3,
             "#f1b6da"
            ],
            [
             0.4,
             "#fde0ef"
            ],
            [
             0.5,
             "#f7f7f7"
            ],
            [
             0.6,
             "#e6f5d0"
            ],
            [
             0.7,
             "#b8e186"
            ],
            [
             0.8,
             "#7fbc41"
            ],
            [
             0.9,
             "#4d9221"
            ],
            [
             1,
             "#276419"
            ]
           ],
           "sequential": [
            [
             0,
             "#0d0887"
            ],
            [
             0.1111111111111111,
             "#46039f"
            ],
            [
             0.2222222222222222,
             "#7201a8"
            ],
            [
             0.3333333333333333,
             "#9c179e"
            ],
            [
             0.4444444444444444,
             "#bd3786"
            ],
            [
             0.5555555555555556,
             "#d8576b"
            ],
            [
             0.6666666666666666,
             "#ed7953"
            ],
            [
             0.7777777777777778,
             "#fb9f3a"
            ],
            [
             0.8888888888888888,
             "#fdca26"
            ],
            [
             1,
             "#f0f921"
            ]
           ],
           "sequentialminus": [
            [
             0,
             "#0d0887"
            ],
            [
             0.1111111111111111,
             "#46039f"
            ],
            [
             0.2222222222222222,
             "#7201a8"
            ],
            [
             0.3333333333333333,
             "#9c179e"
            ],
            [
             0.4444444444444444,
             "#bd3786"
            ],
            [
             0.5555555555555556,
             "#d8576b"
            ],
            [
             0.6666666666666666,
             "#ed7953"
            ],
            [
             0.7777777777777778,
             "#fb9f3a"
            ],
            [
             0.8888888888888888,
             "#fdca26"
            ],
            [
             1,
             "#f0f921"
            ]
           ]
          },
          "colorway": [
           "#636efa",
           "#EF553B",
           "#00cc96",
           "#ab63fa",
           "#FFA15A",
           "#19d3f3",
           "#FF6692",
           "#B6E880",
           "#FF97FF",
           "#FECB52"
          ],
          "font": {
           "color": "#2a3f5f"
          },
          "geo": {
           "bgcolor": "white",
           "lakecolor": "white",
           "landcolor": "white",
           "showlakes": true,
           "showland": true,
           "subunitcolor": "#C8D4E3"
          },
          "hoverlabel": {
           "align": "left"
          },
          "hovermode": "closest",
          "mapbox": {
           "style": "light"
          },
          "paper_bgcolor": "white",
          "plot_bgcolor": "white",
          "polar": {
           "angularaxis": {
            "gridcolor": "#EBF0F8",
            "linecolor": "#EBF0F8",
            "ticks": ""
           },
           "bgcolor": "white",
           "radialaxis": {
            "gridcolor": "#EBF0F8",
            "linecolor": "#EBF0F8",
            "ticks": ""
           }
          },
          "scene": {
           "xaxis": {
            "backgroundcolor": "white",
            "gridcolor": "#DFE8F3",
            "gridwidth": 2,
            "linecolor": "#EBF0F8",
            "showbackground": true,
            "ticks": "",
            "zerolinecolor": "#EBF0F8"
           },
           "yaxis": {
            "backgroundcolor": "white",
            "gridcolor": "#DFE8F3",
            "gridwidth": 2,
            "linecolor": "#EBF0F8",
            "showbackground": true,
            "ticks": "",
            "zerolinecolor": "#EBF0F8"
           },
           "zaxis": {
            "backgroundcolor": "white",
            "gridcolor": "#DFE8F3",
            "gridwidth": 2,
            "linecolor": "#EBF0F8",
            "showbackground": true,
            "ticks": "",
            "zerolinecolor": "#EBF0F8"
           }
          },
          "shapedefaults": {
           "line": {
            "color": "#2a3f5f"
           }
          },
          "ternary": {
           "aaxis": {
            "gridcolor": "#DFE8F3",
            "linecolor": "#A2B1C6",
            "ticks": ""
           },
           "baxis": {
            "gridcolor": "#DFE8F3",
            "linecolor": "#A2B1C6",
            "ticks": ""
           },
           "bgcolor": "white",
           "caxis": {
            "gridcolor": "#DFE8F3",
            "linecolor": "#A2B1C6",
            "ticks": ""
           }
          },
          "title": {
           "x": 0.05
          },
          "xaxis": {
           "automargin": true,
           "gridcolor": "#EBF0F8",
           "linecolor": "#EBF0F8",
           "ticks": "",
           "title": {
            "standoff": 15
           },
           "zerolinecolor": "#EBF0F8",
           "zerolinewidth": 2
          },
          "yaxis": {
           "automargin": true,
           "gridcolor": "#EBF0F8",
           "linecolor": "#EBF0F8",
           "ticks": "",
           "title": {
            "standoff": 15
           },
           "zerolinecolor": "#EBF0F8",
           "zerolinewidth": 2
          }
         }
        },
        "xaxis": {
         "anchor": "y",
         "domain": [
          0,
          1
         ],
         "title": {
          "text": "Alter"
         }
        },
        "yaxis": {
         "anchor": "x",
         "domain": [
          0,
          1
         ],
         "title": {
          "text": "%"
         }
        }
       }
      },
      "image/png": "[encoded data removed]"
     },
     "metadata": {},
     "output_type": "display_data"
    }
   ],
   "source": [
    "# Plot\n",
    "\n",
    "fig = px.bar(df_cat, y=\"proportion\", x=\"age\", color=\"prefer_overall\", \n",
    "             pattern_shape=\"prefer_overall\",\n",
    "             color_discrete_map=c_map,\n",
    "             pattern_shape_map=p_map,\n",
    "             template=\"plotly_white\",\n",
    "             barmode=\"group\",\n",
    "             category_orders={\"prefer_overall\": coffee_order})\n",
    "fig.update_layout(xaxis_title=\"Alter\", yaxis_title=\"%\")"
   ]
  },
  {
   "cell_type": "markdown",
   "id": "640a7cfc-38a0-4817-ac6f-2931c7aaee9a",
   "metadata": {},
   "source": [
    "Kaffee D ist vor allem bei Leuten bis 44 Jahre beliebt, bei älteren eher dunklere Röstungen wie Kaffee B und C. \n"
   ]
  },
  {
   "cell_type": "markdown",
   "id": "af8d4ad5-7fd7-46ae-ae18-4bffd6fc2ae8",
   "metadata": {},
   "source": [
    "### Geschlecht"
   ]
  },
  {
   "cell_type": "code",
   "execution_count": 9,
   "id": "c91ac289-83f6-4537-bb09-342eeb82737b",
   "metadata": {},
   "outputs": [],
   "source": [
    "# Werte zählen für Plot\n",
    "df_cat = pd.DataFrame(df.groupby(by=\"gender\", observed=False)[\"prefer_overall\"].value_counts(normalize=True)).reset_index()\n",
    "df_cat[\"proportion\"] = df_cat[\"proportion\"]*100\n",
    "df_cat = df_cat[df_cat[\"gender\"] != \"keine Angabe\"]"
   ]
  },
  {
   "cell_type": "code",
   "execution_count": 10,
   "id": "464a0e69-686c-4b39-b870-a1599a2aebc4",
   "metadata": {},
   "outputs": [
    {
     "data": {
      "application/vnd.plotly.v1+json": {
       "config": {
        "plotlyServerURL": "https://plot.ly"
       },
       "data": [
        {
         "alignmentgroup": "True",
         "hovertemplate": "prefer_overall=Coffee A<br>gender=%{x}<br>proportion=%{y}<extra></extra>",
         "legendgroup": "Coffee A",
         "marker": {
          "color": "#d2b48c",
          "pattern": {
           "shape": ""
          }
         },
         "name": "Coffee A",
         "offsetgroup": "Coffee A",
         "orientation": "v",
         "showlegend": true,
         "textposition": "auto",
         "type": "bar",
         "x": [
          "weiblich",
          "männlich",
          "nicht-binär",
          "andere"
         ],
         "xaxis": "x",
         "y": {
          "bdata": "+r1rNRbeNEC6+poOBDo2QIv4BFLJeTFAAAAAAAAANEA=",
          "dtype": "f8"
         },
         "yaxis": "y"
        },
        {
         "alignmentgroup": "True",
         "hovertemplate": "prefer_overall=Coffee B<br>gender=%{x}<br>proportion=%{y}<extra></extra>",
         "legendgroup": "Coffee B",
         "marker": {
          "color": "#a0522d",
          "pattern": {
           "shape": ""
          }
         },
         "name": "Coffee B",
         "offsetgroup": "Coffee B",
         "orientation": "v",
         "showlegend": true,
         "textposition": "auto",
         "type": "bar",
         "x": [
          "weiblich",
          "männlich",
          "nicht-binär",
          "andere"
         ],
         "xaxis": "x",
         "y": {
          "bdata": "5NygSNZePEBZQ/anLhsyQAxNd7DfajNAAAAAAAAAPkA=",
          "dtype": "f8"
         },
         "yaxis": "y"
        },
        {
         "alignmentgroup": "True",
         "hovertemplate": "prefer_overall=Coffee C<br>gender=%{x}<br>proportion=%{y}<extra></extra>",
         "legendgroup": "Coffee C",
         "marker": {
          "color": "#5c3317",
          "pattern": {
           "shape": ""
          }
         },
         "name": "Coffee C",
         "offsetgroup": "Coffee C",
         "orientation": "v",
         "showlegend": true,
         "textposition": "auto",
         "type": "bar",
         "x": [
          "weiblich",
          "männlich",
          "nicht-binär",
          "andere"
         ],
         "xaxis": "x",
         "y": {
          "bdata": "vm5TQpfoOUACVjQ55U0yQI2h6Q72WzVAAAAAAAAAJEA=",
          "dtype": "f8"
         },
         "yaxis": "y"
        },
        {
         "alignmentgroup": "True",
         "hovertemplate": "prefer_overall=Coffee D<br>gender=%{x}<br>proportion=%{y}<extra></extra>",
         "legendgroup": "Coffee D",
         "marker": {
          "color": "#d2b48c",
          "pattern": {
           "shape": "/"
          }
         },
         "name": "Coffee D",
         "offsetgroup": "Coffee D",
         "orientation": "v",
         "showlegend": true,
         "textposition": "auto",
         "type": "bar",
         "x": [
          "weiblich",
          "männlich",
          "nicht-binär",
          "andere"
         ],
         "xaxis": "x",
         "y": {
          "bdata": "ZvafP3zaOED2NR0IdK5EQG0MTXew30RAAAAAAAAAREA=",
          "dtype": "f8"
         },
         "yaxis": "y"
        },
        {
         "alignmentgroup": "True",
         "hovertemplate": "prefer_overall=keine Angabe<br>gender=%{x}<br>proportion=%{y}<extra></extra>",
         "legendgroup": "keine Angabe",
         "marker": {
          "color": "#d3d3d3",
          "pattern": {
           "shape": ""
          }
         },
         "name": "keine Angabe",
         "offsetgroup": "keine Angabe",
         "orientation": "v",
         "showlegend": true,
         "textposition": "auto",
         "type": "bar",
         "x": [
          "weiblich",
          "männlich",
          "nicht-binär",
          "andere"
         ],
         "xaxis": "x",
         "y": {
          "bdata": "AAAAAAAAAAAAAAAAAAAAAAAAAAAAAAAAAAAAAAAAAAA=",
          "dtype": "f8"
         },
         "yaxis": "y"
        }
       ],
       "layout": {
        "barmode": "group",
        "legend": {
         "title": {
          "text": "prefer_overall"
         },
         "tracegroupgap": 0
        },
        "margin": {
         "t": 60
        },
        "template": {
         "data": {
          "bar": [
           {
            "error_x": {
             "color": "#2a3f5f"
            },
            "error_y": {
             "color": "#2a3f5f"
            },
            "marker": {
             "line": {
              "color": "white",
              "width": 0.5
             },
             "pattern": {
              "fillmode": "overlay",
              "size": 10,
              "solidity": 0.2
             }
            },
            "type": "bar"
           }
          ],
          "barpolar": [
           {
            "marker": {
             "line": {
              "color": "white",
              "width": 0.5
             },
             "pattern": {
              "fillmode": "overlay",
              "size": 10,
              "solidity": 0.2
             }
            },
            "type": "barpolar"
           }
          ],
          "carpet": [
           {
            "aaxis": {
             "endlinecolor": "#2a3f5f",
             "gridcolor": "#C8D4E3",
             "linecolor": "#C8D4E3",
             "minorgridcolor": "#C8D4E3",
             "startlinecolor": "#2a3f5f"
            },
            "baxis": {
             "endlinecolor": "#2a3f5f",
             "gridcolor": "#C8D4E3",
             "linecolor": "#C8D4E3",
             "minorgridcolor": "#C8D4E3",
             "startlinecolor": "#2a3f5f"
            },
            "type": "carpet"
           }
          ],
          "choropleth": [
           {
            "colorbar": {
             "outlinewidth": 0,
             "ticks": ""
            },
            "type": "choropleth"
           }
          ],
          "contour": [
           {
            "colorbar": {
             "outlinewidth": 0,
             "ticks": ""
            },
            "colorscale": [
             [
              0,
              "#0d0887"
             ],
             [
              0.1111111111111111,
              "#46039f"
             ],
             [
              0.2222222222222222,
              "#7201a8"
             ],
             [
              0.3333333333333333,
              "#9c179e"
             ],
             [
              0.4444444444444444,
              "#bd3786"
             ],
             [
              0.5555555555555556,
              "#d8576b"
             ],
             [
              0.6666666666666666,
              "#ed7953"
             ],
             [
              0.7777777777777778,
              "#fb9f3a"
             ],
             [
              0.8888888888888888,
              "#fdca26"
             ],
             [
              1,
              "#f0f921"
             ]
            ],
            "type": "contour"
           }
          ],
          "contourcarpet": [
           {
            "colorbar": {
             "outlinewidth": 0,
             "ticks": ""
            },
            "type": "contourcarpet"
           }
          ],
          "heatmap": [
           {
            "colorbar": {
             "outlinewidth": 0,
             "ticks": ""
            },
            "colorscale": [
             [
              0,
              "#0d0887"
             ],
             [
              0.1111111111111111,
              "#46039f"
             ],
             [
              0.2222222222222222,
              "#7201a8"
             ],
             [
              0.3333333333333333,
              "#9c179e"
             ],
             [
              0.4444444444444444,
              "#bd3786"
             ],
             [
              0.5555555555555556,
              "#d8576b"
             ],
             [
              0.6666666666666666,
              "#ed7953"
             ],
             [
              0.7777777777777778,
              "#fb9f3a"
             ],
             [
              0.8888888888888888,
              "#fdca26"
             ],
             [
              1,
              "#f0f921"
             ]
            ],
            "type": "heatmap"
           }
          ],
          "histogram": [
           {
            "marker": {
             "pattern": {
              "fillmode": "overlay",
              "size": 10,
              "solidity": 0.2
             }
            },
            "type": "histogram"
           }
          ],
          "histogram2d": [
           {
            "colorbar": {
             "outlinewidth": 0,
             "ticks": ""
            },
            "colorscale": [
             [
              0,
              "#0d0887"
             ],
             [
              0.1111111111111111,
              "#46039f"
             ],
             [
              0.2222222222222222,
              "#7201a8"
             ],
             [
              0.3333333333333333,
              "#9c179e"
             ],
             [
              0.4444444444444444,
              "#bd3786"
             ],
             [
              0.5555555555555556,
              "#d8576b"
             ],
             [
              0.6666666666666666,
              "#ed7953"
             ],
             [
              0.7777777777777778,
              "#fb9f3a"
             ],
             [
              0.8888888888888888,
              "#fdca26"
             ],
             [
              1,
              "#f0f921"
             ]
            ],
            "type": "histogram2d"
           }
          ],
          "histogram2dcontour": [
           {
            "colorbar": {
             "outlinewidth": 0,
             "ticks": ""
            },
            "colorscale": [
             [
              0,
              "#0d0887"
             ],
             [
              0.1111111111111111,
              "#46039f"
             ],
             [
              0.2222222222222222,
              "#7201a8"
             ],
             [
              0.3333333333333333,
              "#9c179e"
             ],
             [
              0.4444444444444444,
              "#bd3786"
             ],
             [
              0.5555555555555556,
              "#d8576b"
             ],
             [
              0.6666666666666666,
              "#ed7953"
             ],
             [
              0.7777777777777778,
              "#fb9f3a"
             ],
             [
              0.8888888888888888,
              "#fdca26"
             ],
             [
              1,
              "#f0f921"
             ]
            ],
            "type": "histogram2dcontour"
           }
          ],
          "mesh3d": [
           {
            "colorbar": {
             "outlinewidth": 0,
             "ticks": ""
            },
            "type": "mesh3d"
           }
          ],
          "parcoords": [
           {
            "line": {
             "colorbar": {
              "outlinewidth": 0,
              "ticks": ""
             }
            },
            "type": "parcoords"
           }
          ],
          "pie": [
           {
            "automargin": true,
            "type": "pie"
           }
          ],
          "scatter": [
           {
            "fillpattern": {
             "fillmode": "overlay",
             "size": 10,
             "solidity": 0.2
            },
            "type": "scatter"
           }
          ],
          "scatter3d": [
           {
            "line": {
             "colorbar": {
              "outlinewidth": 0,
              "ticks": ""
             }
            },
            "marker": {
             "colorbar": {
              "outlinewidth": 0,
              "ticks": ""
             }
            },
            "type": "scatter3d"
           }
          ],
          "scattercarpet": [
           {
            "marker": {
             "colorbar": {
              "outlinewidth": 0,
              "ticks": ""
             }
            },
            "type": "scattercarpet"
           }
          ],
          "scattergeo": [
           {
            "marker": {
             "colorbar": {
              "outlinewidth": 0,
              "ticks": ""
             }
            },
            "type": "scattergeo"
           }
          ],
          "scattergl": [
           {
            "marker": {
             "colorbar": {
              "outlinewidth": 0,
              "ticks": ""
             }
            },
            "type": "scattergl"
           }
          ],
          "scattermap": [
           {
            "marker": {
             "colorbar": {
              "outlinewidth": 0,
              "ticks": ""
             }
            },
            "type": "scattermap"
           }
          ],
          "scattermapbox": [
           {
            "marker": {
             "colorbar": {
              "outlinewidth": 0,
              "ticks": ""
             }
            },
            "type": "scattermapbox"
           }
          ],
          "scatterpolar": [
           {
            "marker": {
             "colorbar": {
              "outlinewidth": 0,
              "ticks": ""
             }
            },
            "type": "scatterpolar"
           }
          ],
          "scatterpolargl": [
           {
            "marker": {
             "colorbar": {
              "outlinewidth": 0,
              "ticks": ""
             }
            },
            "type": "scatterpolargl"
           }
          ],
          "scatterternary": [
           {
            "marker": {
             "colorbar": {
              "outlinewidth": 0,
              "ticks": ""
             }
            },
            "type": "scatterternary"
           }
          ],
          "surface": [
           {
            "colorbar": {
             "outlinewidth": 0,
             "ticks": ""
            },
            "colorscale": [
             [
              0,
              "#0d0887"
             ],
             [
              0.1111111111111111,
              "#46039f"
             ],
             [
              0.2222222222222222,
              "#7201a8"
             ],
             [
              0.3333333333333333,
              "#9c179e"
             ],
             [
              0.4444444444444444,
              "#bd3786"
             ],
             [
              0.5555555555555556,
              "#d8576b"
             ],
             [
              0.6666666666666666,
              "#ed7953"
             ],
             [
              0.7777777777777778,
              "#fb9f3a"
             ],
             [
              0.8888888888888888,
              "#fdca26"
             ],
             [
              1,
              "#f0f921"
             ]
            ],
            "type": "surface"
           }
          ],
          "table": [
           {
            "cells": {
             "fill": {
              "color": "#EBF0F8"
             },
             "line": {
              "color": "white"
             }
            },
            "header": {
             "fill": {
              "color": "#C8D4E3"
             },
             "line": {
              "color": "white"
             }
            },
            "type": "table"
           }
          ]
         },
         "layout": {
          "annotationdefaults": {
           "arrowcolor": "#2a3f5f",
           "arrowhead": 0,
           "arrowwidth": 1
          },
          "autotypenumbers": "strict",
          "coloraxis": {
           "colorbar": {
            "outlinewidth": 0,
            "ticks": ""
           }
          },
          "colorscale": {
           "diverging": [
            [
             0,
             "#8e0152"
            ],
            [
             0.1,
             "#c51b7d"
            ],
            [
             0.2,
             "#de77ae"
            ],
            [
             0.3,
             "#f1b6da"
            ],
            [
             0.4,
             "#fde0ef"
            ],
            [
             0.5,
             "#f7f7f7"
            ],
            [
             0.6,
             "#e6f5d0"
            ],
            [
             0.7,
             "#b8e186"
            ],
            [
             0.8,
             "#7fbc41"
            ],
            [
             0.9,
             "#4d9221"
            ],
            [
             1,
             "#276419"
            ]
           ],
           "sequential": [
            [
             0,
             "#0d0887"
            ],
            [
             0.1111111111111111,
             "#46039f"
            ],
            [
             0.2222222222222222,
             "#7201a8"
            ],
            [
             0.3333333333333333,
             "#9c179e"
            ],
            [
             0.4444444444444444,
             "#bd3786"
            ],
            [
             0.5555555555555556,
             "#d8576b"
            ],
            [
             0.6666666666666666,
             "#ed7953"
            ],
            [
             0.7777777777777778,
             "#fb9f3a"
            ],
            [
             0.8888888888888888,
             "#fdca26"
            ],
            [
             1,
             "#f0f921"
            ]
           ],
           "sequentialminus": [
            [
             0,
             "#0d0887"
            ],
            [
             0.1111111111111111,
             "#46039f"
            ],
            [
             0.2222222222222222,
             "#7201a8"
            ],
            [
             0.3333333333333333,
             "#9c179e"
            ],
            [
             0.4444444444444444,
             "#bd3786"
            ],
            [
             0.5555555555555556,
             "#d8576b"
            ],
            [
             0.6666666666666666,
             "#ed7953"
            ],
            [
             0.7777777777777778,
             "#fb9f3a"
            ],
            [
             0.8888888888888888,
             "#fdca26"
            ],
            [
             1,
             "#f0f921"
            ]
           ]
          },
          "colorway": [
           "#636efa",
           "#EF553B",
           "#00cc96",
           "#ab63fa",
           "#FFA15A",
           "#19d3f3",
           "#FF6692",
           "#B6E880",
           "#FF97FF",
           "#FECB52"
          ],
          "font": {
           "color": "#2a3f5f"
          },
          "geo": {
           "bgcolor": "white",
           "lakecolor": "white",
           "landcolor": "white",
           "showlakes": true,
           "showland": true,
           "subunitcolor": "#C8D4E3"
          },
          "hoverlabel": {
           "align": "left"
          },
          "hovermode": "closest",
          "mapbox": {
           "style": "light"
          },
          "paper_bgcolor": "white",
          "plot_bgcolor": "white",
          "polar": {
           "angularaxis": {
            "gridcolor": "#EBF0F8",
            "linecolor": "#EBF0F8",
            "ticks": ""
           },
           "bgcolor": "white",
           "radialaxis": {
            "gridcolor": "#EBF0F8",
            "linecolor": "#EBF0F8",
            "ticks": ""
           }
          },
          "scene": {
           "xaxis": {
            "backgroundcolor": "white",
            "gridcolor": "#DFE8F3",
            "gridwidth": 2,
            "linecolor": "#EBF0F8",
            "showbackground": true,
            "ticks": "",
            "zerolinecolor": "#EBF0F8"
           },
           "yaxis": {
            "backgroundcolor": "white",
            "gridcolor": "#DFE8F3",
            "gridwidth": 2,
            "linecolor": "#EBF0F8",
            "showbackground": true,
            "ticks": "",
            "zerolinecolor": "#EBF0F8"
           },
           "zaxis": {
            "backgroundcolor": "white",
            "gridcolor": "#DFE8F3",
            "gridwidth": 2,
            "linecolor": "#EBF0F8",
            "showbackground": true,
            "ticks": "",
            "zerolinecolor": "#EBF0F8"
           }
          },
          "shapedefaults": {
           "line": {
            "color": "#2a3f5f"
           }
          },
          "ternary": {
           "aaxis": {
            "gridcolor": "#DFE8F3",
            "linecolor": "#A2B1C6",
            "ticks": ""
           },
           "baxis": {
            "gridcolor": "#DFE8F3",
            "linecolor": "#A2B1C6",
            "ticks": ""
           },
           "bgcolor": "white",
           "caxis": {
            "gridcolor": "#DFE8F3",
            "linecolor": "#A2B1C6",
            "ticks": ""
           }
          },
          "title": {
           "x": 0.05
          },
          "xaxis": {
           "automargin": true,
           "gridcolor": "#EBF0F8",
           "linecolor": "#EBF0F8",
           "ticks": "",
           "title": {
            "standoff": 15
           },
           "zerolinecolor": "#EBF0F8",
           "zerolinewidth": 2
          },
          "yaxis": {
           "automargin": true,
           "gridcolor": "#EBF0F8",
           "linecolor": "#EBF0F8",
           "ticks": "",
           "title": {
            "standoff": 15
           },
           "zerolinecolor": "#EBF0F8",
           "zerolinewidth": 2
          }
         }
        },
        "xaxis": {
         "anchor": "y",
         "domain": [
          0,
          1
         ],
         "title": {
          "text": "Geschlecht"
         }
        },
        "yaxis": {
         "anchor": "x",
         "domain": [
          0,
          1
         ],
         "title": {
          "text": "%"
         }
        }
       }
      },
      "image/png": "[encoded data removed]"
     },
     "metadata": {},
     "output_type": "display_data"
    }
   ],
   "source": [
    "# Plot\n",
    "\n",
    "fig = px.bar(df_cat, y=\"proportion\", x=\"gender\", color=\"prefer_overall\", \n",
    "             pattern_shape=\"prefer_overall\",\n",
    "             color_discrete_map=c_map,\n",
    "             pattern_shape_map=p_map,\n",
    "             template=\"plotly_white\",\n",
    "             barmode=\"group\",\n",
    "             category_orders={\"prefer_overall\": coffee_order})\n",
    "fig.update_layout(xaxis_title=\"Geschlecht\", yaxis_title=\"%\")"
   ]
  },
  {
   "cell_type": "code",
   "execution_count": 11,
   "id": "ee802c84-e6a8-4e27-900d-cd4ed83736e7",
   "metadata": {},
   "outputs": [
    {
     "name": "stdout",
     "output_type": "stream",
     "text": [
      "age\n",
      "25-34 Jahre alt    0.491341\n",
      "35-44 Jahre alt    0.237506\n",
      "18-24 Jahre alt    0.114052\n",
      "45-54 Jahre alt    0.074715\n",
      "55-64 Jahre alt    0.046264\n",
      ">65 Jahre alt      0.023503\n",
      "keine Angabe       0.007669\n",
      "<18 Jahre alt      0.004948\n",
      "Name: proportion, dtype: float64\n",
      "gender\n",
      "männlich        0.624443\n",
      "weiblich        0.211034\n",
      "keine Angabe    0.136566\n",
      "nicht-binär     0.025482\n",
      "andere          0.002474\n",
      "Name: proportion, dtype: float64\n"
     ]
    }
   ],
   "source": [
    "print(df[\"age\"].value_counts(normalize=True))\n",
    "print(df[\"gender\"].value_counts(normalize=True))"
   ]
  },
  {
   "cell_type": "markdown",
   "id": "404d486f-0ade-495f-ac5c-4d661aa284a4",
   "metadata": {},
   "source": [
    "Bei Frauen ist die beliebte Kaffeesorte eher ausgeglichen, während ansonsten Kaffee D die beliebteste Sorte ist. Dabei ist zu beachten, dass der Anteil\n",
    "nicht-binär und andere in der Gruppe sehr gering und damit nicht unbedingt aussagekräftig ist."
   ]
  },
  {
   "cell_type": "markdown",
   "id": "e681a7f8-6019-44ac-b629-73798152655d",
   "metadata": {},
   "source": [
    "### Alter x Geschlecht"
   ]
  },
  {
   "cell_type": "code",
   "execution_count": 12,
   "id": "3c2786a6-117c-41e5-8ff6-2ea9189d5dbb",
   "metadata": {},
   "outputs": [
    {
     "name": "stderr",
     "output_type": "stream",
     "text": [
      "C:\\Users\\alfa\\AppData\\Local\\Temp\\ipykernel_4720\\2846035702.py:2: SettingWithCopyWarning:\n",
      "\n",
      "\n",
      "A value is trying to be set on a copy of a slice from a DataFrame.\n",
      "Try using .loc[row_indexer,col_indexer] = value instead\n",
      "\n",
      "See the caveats in the documentation: https://pandas.pydata.org/pandas-docs/stable/user_guide/indexing.html#returning-a-view-versus-a-copy\n",
      "\n"
     ]
    },
    {
     "data": {
      "text/html": [
       "<div>\n",
       "<style scoped>\n",
       "    .dataframe tbody tr th:only-of-type {\n",
       "        vertical-align: middle;\n",
       "    }\n",
       "\n",
       "    .dataframe tbody tr th {\n",
       "        vertical-align: top;\n",
       "    }\n",
       "\n",
       "    .dataframe thead th {\n",
       "        text-align: right;\n",
       "    }\n",
       "</style>\n",
       "<table border=\"1\" class=\"dataframe\">\n",
       "  <thead>\n",
       "    <tr style=\"text-align: right;\">\n",
       "      <th></th>\n",
       "      <th>age</th>\n",
       "      <th>gender</th>\n",
       "      <th>prefer_overall</th>\n",
       "      <th>proportion</th>\n",
       "    </tr>\n",
       "  </thead>\n",
       "  <tbody>\n",
       "    <tr>\n",
       "      <th>0</th>\n",
       "      <td>&lt;18 Jahre alt</td>\n",
       "      <td>weiblich</td>\n",
       "      <td>Coffee C</td>\n",
       "      <td>50.000000</td>\n",
       "    </tr>\n",
       "    <tr>\n",
       "      <th>1</th>\n",
       "      <td>&lt;18 Jahre alt</td>\n",
       "      <td>weiblich</td>\n",
       "      <td>Coffee A</td>\n",
       "      <td>25.000000</td>\n",
       "    </tr>\n",
       "    <tr>\n",
       "      <th>2</th>\n",
       "      <td>&lt;18 Jahre alt</td>\n",
       "      <td>weiblich</td>\n",
       "      <td>Coffee D</td>\n",
       "      <td>25.000000</td>\n",
       "    </tr>\n",
       "    <tr>\n",
       "      <th>3</th>\n",
       "      <td>&lt;18 Jahre alt</td>\n",
       "      <td>weiblich</td>\n",
       "      <td>Coffee B</td>\n",
       "      <td>0.000000</td>\n",
       "    </tr>\n",
       "    <tr>\n",
       "      <th>4</th>\n",
       "      <td>&lt;18 Jahre alt</td>\n",
       "      <td>weiblich</td>\n",
       "      <td>keine Angabe</td>\n",
       "      <td>0.000000</td>\n",
       "    </tr>\n",
       "    <tr>\n",
       "      <th>...</th>\n",
       "      <td>...</td>\n",
       "      <td>...</td>\n",
       "      <td>...</td>\n",
       "      <td>...</td>\n",
       "    </tr>\n",
       "    <tr>\n",
       "      <th>65</th>\n",
       "      <td>&gt;65 Jahre alt</td>\n",
       "      <td>männlich</td>\n",
       "      <td>Coffee B</td>\n",
       "      <td>30.769231</td>\n",
       "    </tr>\n",
       "    <tr>\n",
       "      <th>66</th>\n",
       "      <td>&gt;65 Jahre alt</td>\n",
       "      <td>männlich</td>\n",
       "      <td>Coffee A</td>\n",
       "      <td>28.846154</td>\n",
       "    </tr>\n",
       "    <tr>\n",
       "      <th>67</th>\n",
       "      <td>&gt;65 Jahre alt</td>\n",
       "      <td>männlich</td>\n",
       "      <td>Coffee C</td>\n",
       "      <td>23.076923</td>\n",
       "    </tr>\n",
       "    <tr>\n",
       "      <th>68</th>\n",
       "      <td>&gt;65 Jahre alt</td>\n",
       "      <td>männlich</td>\n",
       "      <td>Coffee D</td>\n",
       "      <td>17.307692</td>\n",
       "    </tr>\n",
       "    <tr>\n",
       "      <th>69</th>\n",
       "      <td>&gt;65 Jahre alt</td>\n",
       "      <td>männlich</td>\n",
       "      <td>keine Angabe</td>\n",
       "      <td>0.000000</td>\n",
       "    </tr>\n",
       "  </tbody>\n",
       "</table>\n",
       "<p>70 rows × 4 columns</p>\n",
       "</div>"
      ],
      "text/plain": [
       "              age    gender prefer_overall  proportion\n",
       "0   <18 Jahre alt  weiblich       Coffee C   50.000000\n",
       "1   <18 Jahre alt  weiblich       Coffee A   25.000000\n",
       "2   <18 Jahre alt  weiblich       Coffee D   25.000000\n",
       "3   <18 Jahre alt  weiblich       Coffee B    0.000000\n",
       "4   <18 Jahre alt  weiblich   keine Angabe    0.000000\n",
       "..            ...       ...            ...         ...\n",
       "65  >65 Jahre alt  männlich       Coffee B   30.769231\n",
       "66  >65 Jahre alt  männlich       Coffee A   28.846154\n",
       "67  >65 Jahre alt  männlich       Coffee C   23.076923\n",
       "68  >65 Jahre alt  männlich       Coffee D   17.307692\n",
       "69  >65 Jahre alt  männlich   keine Angabe    0.000000\n",
       "\n",
       "[70 rows x 4 columns]"
      ]
     },
     "execution_count": 12,
     "metadata": {},
     "output_type": "execute_result"
    }
   ],
   "source": [
    "df_filtered = df[df[\"gender\"].isin([\"männlich\", \"weiblich\"])]\n",
    "df_filtered[\"gender\"] = df_filtered[\"gender\"].cat.remove_unused_categories()\n",
    "df_cat = pd.DataFrame(df_filtered.groupby(by=[\"age\", \"gender\"], observed=False)[\"prefer_overall\"].value_counts(normalize=True)).reset_index()\n",
    "df_cat[\"proportion\"] = df_cat[\"proportion\"]*100\n",
    "df_cat = df_cat[df_cat[\"age\"] != \"keine Angabe\"]\n",
    "df_cat"
   ]
  },
  {
   "cell_type": "code",
   "execution_count": 13,
   "id": "fc7a46d0-2e91-41c6-8629-2a57b24dca0f",
   "metadata": {},
   "outputs": [
    {
     "data": {
      "application/vnd.plotly.v1+json": {
       "config": {
        "plotlyServerURL": "https://plot.ly"
       },
       "data": [
        {
         "alignmentgroup": "True",
         "hovertemplate": "prefer_overall=Coffee A<br>gender=weiblich<br>age=%{x}<br>proportion=%{y}<extra></extra>",
         "legendgroup": "Coffee A",
         "marker": {
          "color": "#d2b48c",
          "pattern": {
           "shape": ""
          }
         },
         "name": "Coffee A",
         "offsetgroup": "Coffee A",
         "orientation": "v",
         "showlegend": true,
         "textposition": "auto",
         "type": "bar",
         "x": [
          "<18 Jahre alt",
          "18-24 Jahre alt",
          "25-34 Jahre alt",
          "35-44 Jahre alt",
          "45-54 Jahre alt",
          "55-64 Jahre alt",
          ">65 Jahre alt"
         ],
         "xaxis": "x",
         "y": {
          "bdata": "AAAAAAAAOUC0bjBFPusyQDCbFmmcADVAlilgPpBdOEBP7MRO7MQuQKqqqqqqqjBA8zzP8zzPN0A=",
          "dtype": "f8"
         },
         "yaxis": "y"
        },
        {
         "alignmentgroup": "True",
         "hovertemplate": "prefer_overall=Coffee A<br>gender=männlich<br>age=%{x}<br>proportion=%{y}<extra></extra>",
         "legendgroup": "Coffee A",
         "marker": {
          "color": "#d2b48c",
          "pattern": {
           "shape": ""
          }
         },
         "name": "Coffee A",
         "offsetgroup": "Coffee A",
         "orientation": "v",
         "showlegend": false,
         "textposition": "auto",
         "type": "bar",
         "x": [
          "<18 Jahre alt",
          "18-24 Jahre alt",
          "25-34 Jahre alt",
          "35-44 Jahre alt",
          "45-54 Jahre alt",
          "55-64 Jahre alt",
          ">65 Jahre alt"
         ],
         "xaxis": "x2",
         "y": {
          "bdata": "AAAAAADAQkAs77J2Ov4xQHgpzAA/cTdA349P2xxiNkBddNFFF50xQPWdjfrORjVAiZ3YiZ3YPEA=",
          "dtype": "f8"
         },
         "yaxis": "y2"
        },
        {
         "alignmentgroup": "True",
         "hovertemplate": "prefer_overall=Coffee B<br>gender=weiblich<br>age=%{x}<br>proportion=%{y}<extra></extra>",
         "legendgroup": "Coffee B",
         "marker": {
          "color": "#a0522d",
          "pattern": {
           "shape": ""
          }
         },
         "name": "Coffee B",
         "offsetgroup": "Coffee B",
         "orientation": "v",
         "showlegend": true,
         "textposition": "auto",
         "type": "bar",
         "x": [
          "<18 Jahre alt",
          "18-24 Jahre alt",
          "25-34 Jahre alt",
          "35-44 Jahre alt",
          "45-54 Jahre alt",
          "55-64 Jahre alt",
          ">65 Jahre alt"
         ],
         "xaxis": "x",
         "y": {
          "bdata": "AAAAAAAAAABvMEU+6wY7QJHGCVBfTDlAHtWsP4PfOEA7sRM7sRNHQKuqqqqqqkVA8zzP8zzPN0A=",
          "dtype": "f8"
         },
         "yaxis": "y"
        },
        {
         "alignmentgroup": "True",
         "hovertemplate": "prefer_overall=Coffee B<br>gender=männlich<br>age=%{x}<br>proportion=%{y}<extra></extra>",
         "legendgroup": "Coffee B",
         "marker": {
          "color": "#a0522d",
          "pattern": {
           "shape": ""
          }
         },
         "name": "Coffee B",
         "offsetgroup": "Coffee B",
         "orientation": "v",
         "showlegend": false,
         "textposition": "auto",
         "type": "bar",
         "x": [
          "<18 Jahre alt",
          "18-24 Jahre alt",
          "25-34 Jahre alt",
          "35-44 Jahre alt",
          "45-54 Jahre alt",
          "55-64 Jahre alt",
          ">65 Jahre alt"
         ],
         "xaxis": "x2",
         "y": {
          "bdata": "AAAAAAAAOUCTGqIpsTg4QDh5aD3zDy5A7sBcOzDXMkCLLrrooks3QF1BTK4gJjNAT+zETuzEPkA=",
          "dtype": "f8"
         },
         "yaxis": "y2"
        },
        {
         "alignmentgroup": "True",
         "hovertemplate": "prefer_overall=Coffee C<br>gender=weiblich<br>age=%{x}<br>proportion=%{y}<extra></extra>",
         "legendgroup": "Coffee C",
         "marker": {
          "color": "#5c3317",
          "pattern": {
           "shape": ""
          }
         },
         "name": "Coffee C",
         "offsetgroup": "Coffee C",
         "orientation": "v",
         "showlegend": true,
         "textposition": "auto",
         "type": "bar",
         "x": [
          "<18 Jahre alt",
          "18-24 Jahre alt",
          "25-34 Jahre alt",
          "35-44 Jahre alt",
          "45-54 Jahre alt",
          "55-64 Jahre alt",
          ">65 Jahre alt"
         ],
         "xaxis": "x",
         "y": {
          "bdata": "AAAAAAAASUDPusEU+aw5QJHGCVBfTDlAyC4sRkJpO0BBGqRBGqQ5QFVVVVVVVTdAJEmSJEmSPEA=",
          "dtype": "f8"
         },
         "yaxis": "y"
        },
        {
         "alignmentgroup": "True",
         "hovertemplate": "prefer_overall=Coffee C<br>gender=männlich<br>age=%{x}<br>proportion=%{y}<extra></extra>",
         "legendgroup": "Coffee C",
         "marker": {
          "color": "#5c3317",
          "pattern": {
           "shape": ""
          }
         },
         "name": "Coffee C",
         "offsetgroup": "Coffee C",
         "orientation": "v",
         "showlegend": false,
         "textposition": "auto",
         "type": "bar",
         "x": [
          "<18 Jahre alt",
          "18-24 Jahre alt",
          "25-34 Jahre alt",
          "35-44 Jahre alt",
          "45-54 Jahre alt",
          "55-64 Jahre alt",
          ">65 Jahre alt"
         ],
         "xaxis": "x2",
         "y": {
          "bdata": "AAAAAAAAKUAs77J2Ov4xQAi13Wr6RjBA0srkCYjOM0BGF1100QU1QFcQkyuIyT1AO7ETO7ETN0A=",
          "dtype": "f8"
         },
         "yaxis": "y2"
        },
        {
         "alignmentgroup": "True",
         "hovertemplate": "prefer_overall=Coffee D<br>gender=weiblich<br>age=%{x}<br>proportion=%{y}<extra></extra>",
         "legendgroup": "Coffee D",
         "marker": {
          "color": "#d2b48c",
          "pattern": {
           "shape": "/"
          }
         },
         "name": "Coffee D",
         "offsetgroup": "Coffee D",
         "orientation": "v",
         "showlegend": true,
         "textposition": "auto",
         "type": "bar",
         "x": [
          "<18 Jahre alt",
          "18-24 Jahre alt",
          "25-34 Jahre alt",
          "35-44 Jahre alt",
          "45-54 Jahre alt",
          "55-64 Jahre alt",
          ">65 Jahre alt"
         ],
         "xaxis": "x",
         "y": {
          "bdata": "AAAAAAAAOUAOpshn3WA8QK3X1fakZjxAhdLGO6pZN0BBGqRBGqQpQKqqqqqqqjBA8zzP8zzPN0A=",
          "dtype": "f8"
         },
         "yaxis": "y"
        },
        {
         "alignmentgroup": "True",
         "hovertemplate": "prefer_overall=Coffee D<br>gender=männlich<br>age=%{x}<br>proportion=%{y}<extra></extra>",
         "legendgroup": "Coffee D",
         "marker": {
          "color": "#d2b48c",
          "pattern": {
           "shape": "/"
          }
         },
         "name": "Coffee D",
         "offsetgroup": "Coffee D",
         "orientation": "v",
         "showlegend": false,
         "textposition": "auto",
         "type": "bar",
         "x": [
          "<18 Jahre alt",
          "18-24 Jahre alt",
          "25-34 Jahre alt",
          "35-44 Jahre alt",
          "45-54 Jahre alt",
          "55-64 Jahre alt",
          ">65 Jahre alt"
         ],
         "xaxis": "x2",
         "y": {
          "bdata": "AAAAAAAAOUCLA3z0bOVDQHLy0Hrmn0ZAMXK3bxV8Q0DpoosuughDQFcQkyuIyT1A7MRO7MROMUA=",
          "dtype": "f8"
         },
         "yaxis": "y2"
        },
        {
         "alignmentgroup": "True",
         "hovertemplate": "prefer_overall=keine Angabe<br>gender=weiblich<br>age=%{x}<br>proportion=%{y}<extra></extra>",
         "legendgroup": "keine Angabe",
         "marker": {
          "color": "#d3d3d3",
          "pattern": {
           "shape": ""
          }
         },
         "name": "keine Angabe",
         "offsetgroup": "keine Angabe",
         "orientation": "v",
         "showlegend": true,
         "textposition": "auto",
         "type": "bar",
         "x": [
          "<18 Jahre alt",
          "18-24 Jahre alt",
          "25-34 Jahre alt",
          "35-44 Jahre alt",
          "45-54 Jahre alt",
          "55-64 Jahre alt",
          ">65 Jahre alt"
         ],
         "xaxis": "x",
         "y": {
          "bdata": "AAAAAAAAAAAAAAAAAAAAAAAAAAAAAAAAAAAAAAAAAAAAAAAAAAAAAAAAAAAAAAAAAAAAAAAAAAA=",
          "dtype": "f8"
         },
         "yaxis": "y"
        },
        {
         "alignmentgroup": "True",
         "hovertemplate": "prefer_overall=keine Angabe<br>gender=männlich<br>age=%{x}<br>proportion=%{y}<extra></extra>",
         "legendgroup": "keine Angabe",
         "marker": {
          "color": "#d3d3d3",
          "pattern": {
           "shape": ""
          }
         },
         "name": "keine Angabe",
         "offsetgroup": "keine Angabe",
         "orientation": "v",
         "showlegend": false,
         "textposition": "auto",
         "type": "bar",
         "x": [
          "<18 Jahre alt",
          "18-24 Jahre alt",
          "25-34 Jahre alt",
          "35-44 Jahre alt",
          "45-54 Jahre alt",
          "55-64 Jahre alt",
          ">65 Jahre alt"
         ],
         "xaxis": "x2",
         "y": {
          "bdata": "AAAAAAAAAAAAAAAAAAAAAAAAAAAAAAAAAAAAAAAAAAAAAAAAAAAAAAAAAAAAAAAAAAAAAAAAAAA=",
          "dtype": "f8"
         },
         "yaxis": "y2"
        }
       ],
       "layout": {
        "annotations": [
         {
          "font": {},
          "showarrow": false,
          "text": "Frauen",
          "x": 0.245,
          "xanchor": "center",
          "xref": "paper",
          "y": 1,
          "yanchor": "bottom",
          "yref": "paper"
         },
         {
          "font": {},
          "showarrow": false,
          "text": "Männer",
          "x": 0.755,
          "xanchor": "center",
          "xref": "paper",
          "y": 1,
          "yanchor": "bottom",
          "yref": "paper"
         }
        ],
        "barmode": "group",
        "legend": {
         "title": {
          "text": "prefer_overall"
         },
         "tracegroupgap": 0
        },
        "margin": {
         "t": 60
        },
        "template": {
         "data": {
          "bar": [
           {
            "error_x": {
             "color": "#2a3f5f"
            },
            "error_y": {
             "color": "#2a3f5f"
            },
            "marker": {
             "line": {
              "color": "white",
              "width": 0.5
             },
             "pattern": {
              "fillmode": "overlay",
              "size": 10,
              "solidity": 0.2
             }
            },
            "type": "bar"
           }
          ],
          "barpolar": [
           {
            "marker": {
             "line": {
              "color": "white",
              "width": 0.5
             },
             "pattern": {
              "fillmode": "overlay",
              "size": 10,
              "solidity": 0.2
             }
            },
            "type": "barpolar"
           }
          ],
          "carpet": [
           {
            "aaxis": {
             "endlinecolor": "#2a3f5f",
             "gridcolor": "#C8D4E3",
             "linecolor": "#C8D4E3",
             "minorgridcolor": "#C8D4E3",
             "startlinecolor": "#2a3f5f"
            },
            "baxis": {
             "endlinecolor": "#2a3f5f",
             "gridcolor": "#C8D4E3",
             "linecolor": "#C8D4E3",
             "minorgridcolor": "#C8D4E3",
             "startlinecolor": "#2a3f5f"
            },
            "type": "carpet"
           }
          ],
          "choropleth": [
           {
            "colorbar": {
             "outlinewidth": 0,
             "ticks": ""
            },
            "type": "choropleth"
           }
          ],
          "contour": [
           {
            "colorbar": {
             "outlinewidth": 0,
             "ticks": ""
            },
            "colorscale": [
             [
              0,
              "#0d0887"
             ],
             [
              0.1111111111111111,
              "#46039f"
             ],
             [
              0.2222222222222222,
              "#7201a8"
             ],
             [
              0.3333333333333333,
              "#9c179e"
             ],
             [
              0.4444444444444444,
              "#bd3786"
             ],
             [
              0.5555555555555556,
              "#d8576b"
             ],
             [
              0.6666666666666666,
              "#ed7953"
             ],
             [
              0.7777777777777778,
              "#fb9f3a"
             ],
             [
              0.8888888888888888,
              "#fdca26"
             ],
             [
              1,
              "#f0f921"
             ]
            ],
            "type": "contour"
           }
          ],
          "contourcarpet": [
           {
            "colorbar": {
             "outlinewidth": 0,
             "ticks": ""
            },
            "type": "contourcarpet"
           }
          ],
          "heatmap": [
           {
            "colorbar": {
             "outlinewidth": 0,
             "ticks": ""
            },
            "colorscale": [
             [
              0,
              "#0d0887"
             ],
             [
              0.1111111111111111,
              "#46039f"
             ],
             [
              0.2222222222222222,
              "#7201a8"
             ],
             [
              0.3333333333333333,
              "#9c179e"
             ],
             [
              0.4444444444444444,
              "#bd3786"
             ],
             [
              0.5555555555555556,
              "#d8576b"
             ],
             [
              0.6666666666666666,
              "#ed7953"
             ],
             [
              0.7777777777777778,
              "#fb9f3a"
             ],
             [
              0.8888888888888888,
              "#fdca26"
             ],
             [
              1,
              "#f0f921"
             ]
            ],
            "type": "heatmap"
           }
          ],
          "histogram": [
           {
            "marker": {
             "pattern": {
              "fillmode": "overlay",
              "size": 10,
              "solidity": 0.2
             }
            },
            "type": "histogram"
           }
          ],
          "histogram2d": [
           {
            "colorbar": {
             "outlinewidth": 0,
             "ticks": ""
            },
            "colorscale": [
             [
              0,
              "#0d0887"
             ],
             [
              0.1111111111111111,
              "#46039f"
             ],
             [
              0.2222222222222222,
              "#7201a8"
             ],
             [
              0.3333333333333333,
              "#9c179e"
             ],
             [
              0.4444444444444444,
              "#bd3786"
             ],
             [
              0.5555555555555556,
              "#d8576b"
             ],
             [
              0.6666666666666666,
              "#ed7953"
             ],
             [
              0.7777777777777778,
              "#fb9f3a"
             ],
             [
              0.8888888888888888,
              "#fdca26"
             ],
             [
              1,
              "#f0f921"
             ]
            ],
            "type": "histogram2d"
           }
          ],
          "histogram2dcontour": [
           {
            "colorbar": {
             "outlinewidth": 0,
             "ticks": ""
            },
            "colorscale": [
             [
              0,
              "#0d0887"
             ],
             [
              0.1111111111111111,
              "#46039f"
             ],
             [
              0.2222222222222222,
              "#7201a8"
             ],
             [
              0.3333333333333333,
              "#9c179e"
             ],
             [
              0.4444444444444444,
              "#bd3786"
             ],
             [
              0.5555555555555556,
              "#d8576b"
             ],
             [
              0.6666666666666666,
              "#ed7953"
             ],
             [
              0.7777777777777778,
              "#fb9f3a"
             ],
             [
              0.8888888888888888,
              "#fdca26"
             ],
             [
              1,
              "#f0f921"
             ]
            ],
            "type": "histogram2dcontour"
           }
          ],
          "mesh3d": [
           {
            "colorbar": {
             "outlinewidth": 0,
             "ticks": ""
            },
            "type": "mesh3d"
           }
          ],
          "parcoords": [
           {
            "line": {
             "colorbar": {
              "outlinewidth": 0,
              "ticks": ""
             }
            },
            "type": "parcoords"
           }
          ],
          "pie": [
           {
            "automargin": true,
            "type": "pie"
           }
          ],
          "scatter": [
           {
            "fillpattern": {
             "fillmode": "overlay",
             "size": 10,
             "solidity": 0.2
            },
            "type": "scatter"
           }
          ],
          "scatter3d": [
           {
            "line": {
             "colorbar": {
              "outlinewidth": 0,
              "ticks": ""
             }
            },
            "marker": {
             "colorbar": {
              "outlinewidth": 0,
              "ticks": ""
             }
            },
            "type": "scatter3d"
           }
          ],
          "scattercarpet": [
           {
            "marker": {
             "colorbar": {
              "outlinewidth": 0,
              "ticks": ""
             }
            },
            "type": "scattercarpet"
           }
          ],
          "scattergeo": [
           {
            "marker": {
             "colorbar": {
              "outlinewidth": 0,
              "ticks": ""
             }
            },
            "type": "scattergeo"
           }
          ],
          "scattergl": [
           {
            "marker": {
             "colorbar": {
              "outlinewidth": 0,
              "ticks": ""
             }
            },
            "type": "scattergl"
           }
          ],
          "scattermap": [
           {
            "marker": {
             "colorbar": {
              "outlinewidth": 0,
              "ticks": ""
             }
            },
            "type": "scattermap"
           }
          ],
          "scattermapbox": [
           {
            "marker": {
             "colorbar": {
              "outlinewidth": 0,
              "ticks": ""
             }
            },
            "type": "scattermapbox"
           }
          ],
          "scatterpolar": [
           {
            "marker": {
             "colorbar": {
              "outlinewidth": 0,
              "ticks": ""
             }
            },
            "type": "scatterpolar"
           }
          ],
          "scatterpolargl": [
           {
            "marker": {
             "colorbar": {
              "outlinewidth": 0,
              "ticks": ""
             }
            },
            "type": "scatterpolargl"
           }
          ],
          "scatterternary": [
           {
            "marker": {
             "colorbar": {
              "outlinewidth": 0,
              "ticks": ""
             }
            },
            "type": "scatterternary"
           }
          ],
          "surface": [
           {
            "colorbar": {
             "outlinewidth": 0,
             "ticks": ""
            },
            "colorscale": [
             [
              0,
              "#0d0887"
             ],
             [
              0.1111111111111111,
              "#46039f"
             ],
             [
              0.2222222222222222,
              "#7201a8"
             ],
             [
              0.3333333333333333,
              "#9c179e"
             ],
             [
              0.4444444444444444,
              "#bd3786"
             ],
             [
              0.5555555555555556,
              "#d8576b"
             ],
             [
              0.6666666666666666,
              "#ed7953"
             ],
             [
              0.7777777777777778,
              "#fb9f3a"
             ],
             [
              0.8888888888888888,
              "#fdca26"
             ],
             [
              1,
              "#f0f921"
             ]
            ],
            "type": "surface"
           }
          ],
          "table": [
           {
            "cells": {
             "fill": {
              "color": "#EBF0F8"
             },
             "line": {
              "color": "white"
             }
            },
            "header": {
             "fill": {
              "color": "#C8D4E3"
             },
             "line": {
              "color": "white"
             }
            },
            "type": "table"
           }
          ]
         },
         "layout": {
          "annotationdefaults": {
           "arrowcolor": "#2a3f5f",
           "arrowhead": 0,
           "arrowwidth": 1
          },
          "autotypenumbers": "strict",
          "coloraxis": {
           "colorbar": {
            "outlinewidth": 0,
            "ticks": ""
           }
          },
          "colorscale": {
           "diverging": [
            [
             0,
             "#8e0152"
            ],
            [
             0.1,
             "#c51b7d"
            ],
            [
             0.2,
             "#de77ae"
            ],
            [
             0.3,
             "#f1b6da"
            ],
            [
             0.4,
             "#fde0ef"
            ],
            [
             0.5,
             "#f7f7f7"
            ],
            [
             0.6,
             "#e6f5d0"
            ],
            [
             0.7,
             "#b8e186"
            ],
            [
             0.8,
             "#7fbc41"
            ],
            [
             0.9,
             "#4d9221"
            ],
            [
             1,
             "#276419"
            ]
           ],
           "sequential": [
            [
             0,
             "#0d0887"
            ],
            [
             0.1111111111111111,
             "#46039f"
            ],
            [
             0.2222222222222222,
             "#7201a8"
            ],
            [
             0.3333333333333333,
             "#9c179e"
            ],
            [
             0.4444444444444444,
             "#bd3786"
            ],
            [
             0.5555555555555556,
             "#d8576b"
            ],
            [
             0.6666666666666666,
             "#ed7953"
            ],
            [
             0.7777777777777778,
             "#fb9f3a"
            ],
            [
             0.8888888888888888,
             "#fdca26"
            ],
            [
             1,
             "#f0f921"
            ]
           ],
           "sequentialminus": [
            [
             0,
             "#0d0887"
            ],
            [
             0.1111111111111111,
             "#46039f"
            ],
            [
             0.2222222222222222,
             "#7201a8"
            ],
            [
             0.3333333333333333,
             "#9c179e"
            ],
            [
             0.4444444444444444,
             "#bd3786"
            ],
            [
             0.5555555555555556,
             "#d8576b"
            ],
            [
             0.6666666666666666,
             "#ed7953"
            ],
            [
             0.7777777777777778,
             "#fb9f3a"
            ],
            [
             0.8888888888888888,
             "#fdca26"
            ],
            [
             1,
             "#f0f921"
            ]
           ]
          },
          "colorway": [
           "#636efa",
           "#EF553B",
           "#00cc96",
           "#ab63fa",
           "#FFA15A",
           "#19d3f3",
           "#FF6692",
           "#B6E880",
           "#FF97FF",
           "#FECB52"
          ],
          "font": {
           "color": "#2a3f5f"
          },
          "geo": {
           "bgcolor": "white",
           "lakecolor": "white",
           "landcolor": "white",
           "showlakes": true,
           "showland": true,
           "subunitcolor": "#C8D4E3"
          },
          "hoverlabel": {
           "align": "left"
          },
          "hovermode": "closest",
          "mapbox": {
           "style": "light"
          },
          "paper_bgcolor": "white",
          "plot_bgcolor": "white",
          "polar": {
           "angularaxis": {
            "gridcolor": "#EBF0F8",
            "linecolor": "#EBF0F8",
            "ticks": ""
           },
           "bgcolor": "white",
           "radialaxis": {
            "gridcolor": "#EBF0F8",
            "linecolor": "#EBF0F8",
            "ticks": ""
           }
          },
          "scene": {
           "xaxis": {
            "backgroundcolor": "white",
            "gridcolor": "#DFE8F3",
            "gridwidth": 2,
            "linecolor": "#EBF0F8",
            "showbackground": true,
            "ticks": "",
            "zerolinecolor": "#EBF0F8"
           },
           "yaxis": {
            "backgroundcolor": "white",
            "gridcolor": "#DFE8F3",
            "gridwidth": 2,
            "linecolor": "#EBF0F8",
            "showbackground": true,
            "ticks": "",
            "zerolinecolor": "#EBF0F8"
           },
           "zaxis": {
            "backgroundcolor": "white",
            "gridcolor": "#DFE8F3",
            "gridwidth": 2,
            "linecolor": "#EBF0F8",
            "showbackground": true,
            "ticks": "",
            "zerolinecolor": "#EBF0F8"
           }
          },
          "shapedefaults": {
           "line": {
            "color": "#2a3f5f"
           }
          },
          "ternary": {
           "aaxis": {
            "gridcolor": "#DFE8F3",
            "linecolor": "#A2B1C6",
            "ticks": ""
           },
           "baxis": {
            "gridcolor": "#DFE8F3",
            "linecolor": "#A2B1C6",
            "ticks": ""
           },
           "bgcolor": "white",
           "caxis": {
            "gridcolor": "#DFE8F3",
            "linecolor": "#A2B1C6",
            "ticks": ""
           }
          },
          "title": {
           "x": 0.05
          },
          "xaxis": {
           "automargin": true,
           "gridcolor": "#EBF0F8",
           "linecolor": "#EBF0F8",
           "ticks": "",
           "title": {
            "standoff": 15
           },
           "zerolinecolor": "#EBF0F8",
           "zerolinewidth": 2
          },
          "yaxis": {
           "automargin": true,
           "gridcolor": "#EBF0F8",
           "linecolor": "#EBF0F8",
           "ticks": "",
           "title": {
            "standoff": 15
           },
           "zerolinecolor": "#EBF0F8",
           "zerolinewidth": 2
          }
         }
        },
        "xaxis": {
         "anchor": "y",
         "domain": [
          0,
          0.49
         ],
         "title": {
          "text": "Alter"
         }
        },
        "xaxis2": {
         "anchor": "y2",
         "domain": [
          0.51,
          1
         ],
         "matches": "x",
         "title": {
          "text": "Alter"
         }
        },
        "yaxis": {
         "anchor": "x",
         "domain": [
          0,
          1
         ],
         "title": {
          "text": "%"
         }
        },
        "yaxis2": {
         "anchor": "x2",
         "domain": [
          0,
          1
         ],
         "matches": "y",
         "showticklabels": false
        }
       }
      },
      "image/png": "[encoded data removed]"
     },
     "metadata": {},
     "output_type": "display_data"
    }
   ],
   "source": [
    "# Plot\n",
    "fig = px.bar(df_cat, y=\"proportion\", x=\"age\", color=\"prefer_overall\", \n",
    "             facet_col=\"gender\",\n",
    "                 pattern_shape=\"prefer_overall\",\n",
    "                 color_discrete_map=c_map,\n",
    "                 pattern_shape_map=p_map,\n",
    "                 template=\"plotly_white\",\n",
    "                 barmode=\"group\",\n",
    "                 category_orders={\"prefer_overall\": coffee_order})\n",
    "for annotation in fig.layout.annotations:\n",
    "    if \"gender=männlich\" in annotation.text:\n",
    "        annotation.text = \"Männer\"\n",
    "    elif \"gender=weiblich\" in annotation.text:\n",
    "        annotation.text = \"Frauen\"\n",
    "fig.update_layout(xaxis_title=\"Alter\", yaxis_title=\"%\")\n",
    "fig.update_xaxes(title_text=\"Alter\", row=1, col=2)"
   ]
  },
  {
   "cell_type": "markdown",
   "id": "9482968c-3957-4144-85d1-cb0cb8d09ab0",
   "metadata": {},
   "source": [
    "## Zusammenhang Kaffeegewohnheiten und Kaffeepräferenz"
   ]
  },
  {
   "cell_type": "code",
   "execution_count": 14,
   "id": "9e9120b9-e789-4f73-a13a-3e3c0fcb7f7a",
   "metadata": {},
   "outputs": [
    {
     "data": {
      "text/html": [
       "<div>\n",
       "<style scoped>\n",
       "    .dataframe tbody tr th:only-of-type {\n",
       "        vertical-align: middle;\n",
       "    }\n",
       "\n",
       "    .dataframe tbody tr th {\n",
       "        vertical-align: top;\n",
       "    }\n",
       "\n",
       "    .dataframe thead th {\n",
       "        text-align: right;\n",
       "    }\n",
       "</style>\n",
       "<table border=\"1\" class=\"dataframe\">\n",
       "  <thead>\n",
       "    <tr style=\"text-align: right;\">\n",
       "      <th></th>\n",
       "      <th>expertise</th>\n",
       "      <th>prefer_overall</th>\n",
       "      <th>proportion</th>\n",
       "    </tr>\n",
       "  </thead>\n",
       "  <tbody>\n",
       "    <tr>\n",
       "      <th>0</th>\n",
       "      <td>1.0</td>\n",
       "      <td>Coffee B</td>\n",
       "      <td>0.333333</td>\n",
       "    </tr>\n",
       "    <tr>\n",
       "      <th>1</th>\n",
       "      <td>1.0</td>\n",
       "      <td>Coffee D</td>\n",
       "      <td>0.250000</td>\n",
       "    </tr>\n",
       "    <tr>\n",
       "      <th>2</th>\n",
       "      <td>1.0</td>\n",
       "      <td>Coffee A</td>\n",
       "      <td>0.208333</td>\n",
       "    </tr>\n",
       "    <tr>\n",
       "      <th>3</th>\n",
       "      <td>1.0</td>\n",
       "      <td>Coffee C</td>\n",
       "      <td>0.208333</td>\n",
       "    </tr>\n",
       "    <tr>\n",
       "      <th>4</th>\n",
       "      <td>2.0</td>\n",
       "      <td>Coffee B</td>\n",
       "      <td>0.378049</td>\n",
       "    </tr>\n",
       "    <tr>\n",
       "      <th>5</th>\n",
       "      <td>2.0</td>\n",
       "      <td>Coffee D</td>\n",
       "      <td>0.304878</td>\n",
       "    </tr>\n",
       "    <tr>\n",
       "      <th>6</th>\n",
       "      <td>2.0</td>\n",
       "      <td>Coffee C</td>\n",
       "      <td>0.195122</td>\n",
       "    </tr>\n",
       "    <tr>\n",
       "      <th>7</th>\n",
       "      <td>2.0</td>\n",
       "      <td>Coffee A</td>\n",
       "      <td>0.121951</td>\n",
       "    </tr>\n",
       "    <tr>\n",
       "      <th>8</th>\n",
       "      <td>3.0</td>\n",
       "      <td>Coffee B</td>\n",
       "      <td>0.326923</td>\n",
       "    </tr>\n",
       "    <tr>\n",
       "      <th>9</th>\n",
       "      <td>3.0</td>\n",
       "      <td>Coffee C</td>\n",
       "      <td>0.288462</td>\n",
       "    </tr>\n",
       "    <tr>\n",
       "      <th>10</th>\n",
       "      <td>3.0</td>\n",
       "      <td>Coffee D</td>\n",
       "      <td>0.224359</td>\n",
       "    </tr>\n",
       "    <tr>\n",
       "      <th>11</th>\n",
       "      <td>3.0</td>\n",
       "      <td>Coffee A</td>\n",
       "      <td>0.160256</td>\n",
       "    </tr>\n",
       "    <tr>\n",
       "      <th>12</th>\n",
       "      <td>4.0</td>\n",
       "      <td>Coffee D</td>\n",
       "      <td>0.270142</td>\n",
       "    </tr>\n",
       "    <tr>\n",
       "      <th>13</th>\n",
       "      <td>4.0</td>\n",
       "      <td>Coffee B</td>\n",
       "      <td>0.265403</td>\n",
       "    </tr>\n",
       "    <tr>\n",
       "      <th>14</th>\n",
       "      <td>4.0</td>\n",
       "      <td>Coffee C</td>\n",
       "      <td>0.265403</td>\n",
       "    </tr>\n",
       "    <tr>\n",
       "      <th>15</th>\n",
       "      <td>4.0</td>\n",
       "      <td>Coffee A</td>\n",
       "      <td>0.199052</td>\n",
       "    </tr>\n",
       "    <tr>\n",
       "      <th>16</th>\n",
       "      <td>5.0</td>\n",
       "      <td>Coffee D</td>\n",
       "      <td>0.359882</td>\n",
       "    </tr>\n",
       "    <tr>\n",
       "      <th>17</th>\n",
       "      <td>5.0</td>\n",
       "      <td>Coffee B</td>\n",
       "      <td>0.221239</td>\n",
       "    </tr>\n",
       "    <tr>\n",
       "      <th>18</th>\n",
       "      <td>5.0</td>\n",
       "      <td>Coffee C</td>\n",
       "      <td>0.221239</td>\n",
       "    </tr>\n",
       "    <tr>\n",
       "      <th>19</th>\n",
       "      <td>5.0</td>\n",
       "      <td>Coffee A</td>\n",
       "      <td>0.197640</td>\n",
       "    </tr>\n",
       "    <tr>\n",
       "      <th>20</th>\n",
       "      <td>6.0</td>\n",
       "      <td>Coffee D</td>\n",
       "      <td>0.416382</td>\n",
       "    </tr>\n",
       "    <tr>\n",
       "      <th>21</th>\n",
       "      <td>6.0</td>\n",
       "      <td>Coffee A</td>\n",
       "      <td>0.216724</td>\n",
       "    </tr>\n",
       "    <tr>\n",
       "      <th>22</th>\n",
       "      <td>6.0</td>\n",
       "      <td>Coffee C</td>\n",
       "      <td>0.192833</td>\n",
       "    </tr>\n",
       "    <tr>\n",
       "      <th>23</th>\n",
       "      <td>6.0</td>\n",
       "      <td>Coffee B</td>\n",
       "      <td>0.174061</td>\n",
       "    </tr>\n",
       "    <tr>\n",
       "      <th>24</th>\n",
       "      <td>7.0</td>\n",
       "      <td>Coffee D</td>\n",
       "      <td>0.447853</td>\n",
       "    </tr>\n",
       "    <tr>\n",
       "      <th>25</th>\n",
       "      <td>7.0</td>\n",
       "      <td>Coffee A</td>\n",
       "      <td>0.239264</td>\n",
       "    </tr>\n",
       "    <tr>\n",
       "      <th>26</th>\n",
       "      <td>7.0</td>\n",
       "      <td>Coffee C</td>\n",
       "      <td>0.170245</td>\n",
       "    </tr>\n",
       "    <tr>\n",
       "      <th>27</th>\n",
       "      <td>7.0</td>\n",
       "      <td>Coffee B</td>\n",
       "      <td>0.142638</td>\n",
       "    </tr>\n",
       "    <tr>\n",
       "      <th>28</th>\n",
       "      <td>8.0</td>\n",
       "      <td>Coffee D</td>\n",
       "      <td>0.557927</td>\n",
       "    </tr>\n",
       "    <tr>\n",
       "      <th>29</th>\n",
       "      <td>8.0</td>\n",
       "      <td>Coffee A</td>\n",
       "      <td>0.201220</td>\n",
       "    </tr>\n",
       "    <tr>\n",
       "      <th>30</th>\n",
       "      <td>8.0</td>\n",
       "      <td>Coffee C</td>\n",
       "      <td>0.125000</td>\n",
       "    </tr>\n",
       "    <tr>\n",
       "      <th>31</th>\n",
       "      <td>8.0</td>\n",
       "      <td>Coffee B</td>\n",
       "      <td>0.115854</td>\n",
       "    </tr>\n",
       "    <tr>\n",
       "      <th>32</th>\n",
       "      <td>9.0</td>\n",
       "      <td>Coffee D</td>\n",
       "      <td>0.517857</td>\n",
       "    </tr>\n",
       "    <tr>\n",
       "      <th>33</th>\n",
       "      <td>9.0</td>\n",
       "      <td>Coffee A</td>\n",
       "      <td>0.178571</td>\n",
       "    </tr>\n",
       "    <tr>\n",
       "      <th>34</th>\n",
       "      <td>9.0</td>\n",
       "      <td>Coffee C</td>\n",
       "      <td>0.160714</td>\n",
       "    </tr>\n",
       "    <tr>\n",
       "      <th>35</th>\n",
       "      <td>9.0</td>\n",
       "      <td>Coffee B</td>\n",
       "      <td>0.142857</td>\n",
       "    </tr>\n",
       "    <tr>\n",
       "      <th>36</th>\n",
       "      <td>10.0</td>\n",
       "      <td>Coffee D</td>\n",
       "      <td>0.500000</td>\n",
       "    </tr>\n",
       "    <tr>\n",
       "      <th>37</th>\n",
       "      <td>10.0</td>\n",
       "      <td>Coffee A</td>\n",
       "      <td>0.307692</td>\n",
       "    </tr>\n",
       "    <tr>\n",
       "      <th>38</th>\n",
       "      <td>10.0</td>\n",
       "      <td>Coffee C</td>\n",
       "      <td>0.115385</td>\n",
       "    </tr>\n",
       "    <tr>\n",
       "      <th>39</th>\n",
       "      <td>10.0</td>\n",
       "      <td>Coffee B</td>\n",
       "      <td>0.076923</td>\n",
       "    </tr>\n",
       "    <tr>\n",
       "      <th>40</th>\n",
       "      <td>keine Angabe</td>\n",
       "      <td>Coffee A</td>\n",
       "      <td>0.000000</td>\n",
       "    </tr>\n",
       "    <tr>\n",
       "      <th>41</th>\n",
       "      <td>keine Angabe</td>\n",
       "      <td>Coffee B</td>\n",
       "      <td>0.000000</td>\n",
       "    </tr>\n",
       "    <tr>\n",
       "      <th>42</th>\n",
       "      <td>keine Angabe</td>\n",
       "      <td>Coffee C</td>\n",
       "      <td>0.000000</td>\n",
       "    </tr>\n",
       "    <tr>\n",
       "      <th>43</th>\n",
       "      <td>keine Angabe</td>\n",
       "      <td>Coffee D</td>\n",
       "      <td>0.000000</td>\n",
       "    </tr>\n",
       "  </tbody>\n",
       "</table>\n",
       "</div>"
      ],
      "text/plain": [
       "       expertise prefer_overall  proportion\n",
       "0            1.0       Coffee B    0.333333\n",
       "1            1.0       Coffee D    0.250000\n",
       "2            1.0       Coffee A    0.208333\n",
       "3            1.0       Coffee C    0.208333\n",
       "4            2.0       Coffee B    0.378049\n",
       "5            2.0       Coffee D    0.304878\n",
       "6            2.0       Coffee C    0.195122\n",
       "7            2.0       Coffee A    0.121951\n",
       "8            3.0       Coffee B    0.326923\n",
       "9            3.0       Coffee C    0.288462\n",
       "10           3.0       Coffee D    0.224359\n",
       "11           3.0       Coffee A    0.160256\n",
       "12           4.0       Coffee D    0.270142\n",
       "13           4.0       Coffee B    0.265403\n",
       "14           4.0       Coffee C    0.265403\n",
       "15           4.0       Coffee A    0.199052\n",
       "16           5.0       Coffee D    0.359882\n",
       "17           5.0       Coffee B    0.221239\n",
       "18           5.0       Coffee C    0.221239\n",
       "19           5.0       Coffee A    0.197640\n",
       "20           6.0       Coffee D    0.416382\n",
       "21           6.0       Coffee A    0.216724\n",
       "22           6.0       Coffee C    0.192833\n",
       "23           6.0       Coffee B    0.174061\n",
       "24           7.0       Coffee D    0.447853\n",
       "25           7.0       Coffee A    0.239264\n",
       "26           7.0       Coffee C    0.170245\n",
       "27           7.0       Coffee B    0.142638\n",
       "28           8.0       Coffee D    0.557927\n",
       "29           8.0       Coffee A    0.201220\n",
       "30           8.0       Coffee C    0.125000\n",
       "31           8.0       Coffee B    0.115854\n",
       "32           9.0       Coffee D    0.517857\n",
       "33           9.0       Coffee A    0.178571\n",
       "34           9.0       Coffee C    0.160714\n",
       "35           9.0       Coffee B    0.142857\n",
       "36          10.0       Coffee D    0.500000\n",
       "37          10.0       Coffee A    0.307692\n",
       "38          10.0       Coffee C    0.115385\n",
       "39          10.0       Coffee B    0.076923\n",
       "40  keine Angabe       Coffee A    0.000000\n",
       "41  keine Angabe       Coffee B    0.000000\n",
       "42  keine Angabe       Coffee C    0.000000\n",
       "43  keine Angabe       Coffee D    0.000000"
      ]
     },
     "execution_count": 14,
     "metadata": {},
     "output_type": "execute_result"
    }
   ],
   "source": [
    "df_clean[\"expertise\"]\n",
    "df_cat = pd.DataFrame(df_clean.groupby(by=\"expertise\", observed=False)[\"prefer_overall\"].value_counts(normalize=True)).reset_index()\n",
    "df_cat"
   ]
  },
  {
   "cell_type": "code",
   "execution_count": 15,
   "id": "7e49d8c1-c614-41d9-9956-a1dcce423601",
   "metadata": {},
   "outputs": [
    {
     "data": {
      "application/vnd.plotly.v1+json": {
       "config": {
        "plotlyServerURL": "https://plot.ly"
       },
       "data": [
        {
         "alignmentgroup": "True",
         "hovertemplate": "prefer_overall=Coffee A<br>expertise=%{x}<br>proportion=%{y}<extra></extra>",
         "legendgroup": "Coffee A",
         "marker": {
          "color": "#d2b48c",
          "pattern": {
           "shape": ""
          }
         },
         "name": "Coffee A",
         "offsetgroup": "Coffee A",
         "orientation": "v",
         "showlegend": true,
         "textposition": "auto",
         "type": "bar",
         "x": [
          1,
          2,
          3,
          4,
          5,
          6,
          7,
          8,
          9,
          10
         ],
         "xaxis": "x",
         "y": {
          "bdata": "VlVVVVXVNEBkcD4G52MoQGmQBmmQBjBAdyqPDrznM0BlOfxGlsMzQFhsNHQfrDVAV6OIQyftN0Agg/MxOB80QLdt27Zt2zFAT+zETuzEPkA=",
          "dtype": "f8"
         },
         "yaxis": "y"
        },
        {
         "alignmentgroup": "True",
         "hovertemplate": "prefer_overall=Coffee B<br>expertise=%{x}<br>proportion=%{y}<extra></extra>",
         "legendgroup": "Coffee B",
         "marker": {
          "color": "#a0522d",
          "pattern": {
           "shape": ""
          }
         },
         "name": "Coffee B",
         "offsetgroup": "Coffee B",
         "orientation": "v",
         "showlegend": true,
         "textposition": "auto",
         "type": "bar",
         "x": [
          1,
          2,
          3,
          4,
          5,
          6,
          7,
          8,
          9,
          10
         ],
         "xaxis": "x",
         "y": {
          "bdata": "qqqqqqqqQEDnY3A+BudCQIqd2ImdWEBA9I1pE1CKOkB4+yGBtx82QF8EnwL5ZzFAwMKsRhGHLEAsUbsStSsnQCRJkiRJkixAT+zETuzEHkA=",
          "dtype": "f8"
         },
         "yaxis": "y"
        },
        {
         "alignmentgroup": "True",
         "hovertemplate": "prefer_overall=Coffee C<br>expertise=%{x}<br>proportion=%{y}<extra></extra>",
         "legendgroup": "Coffee C",
         "marker": {
          "color": "#5c3317",
          "pattern": {
           "shape": ""
          }
         },
         "name": "Coffee C",
         "offsetgroup": "Coffee C",
         "orientation": "v",
         "showlegend": true,
         "textposition": "auto",
         "type": "bar",
         "x": [
          1,
          2,
          3,
          4,
          5,
          6,
          7,
          8,
          9,
          10
         ],
         "xaxis": "x",
         "y": {
          "bdata": "VlVVVVXVNECD8zE4H4MzQImd2Imd2DxA9I1pE1CKOkB4+yGBtx82QP+sMs6ESDNAOHTSPkgGMUAAAAAAAAApQCVJkiRJEjBAO7ETO7ETJ0A=",
          "dtype": "f8"
         },
         "yaxis": "y"
        },
        {
         "alignmentgroup": "True",
         "hovertemplate": "prefer_overall=Coffee D<br>expertise=%{x}<br>proportion=%{y}<extra></extra>",
         "legendgroup": "Coffee D",
         "marker": {
          "color": "#d2b48c",
          "pattern": {
           "shape": "/"
          }
         },
         "name": "Coffee D",
         "offsetgroup": "Coffee D",
         "orientation": "v",
         "showlegend": true,
         "textposition": "auto",
         "type": "bar",
         "x": [
          1,
          2,
          3,
          4,
          5,
          6,
          7,
          8,
          9,
          10
         ],
         "xaxis": "x",
         "y": {
          "bdata": "AAAAAAAAOUB9DM7H4Hw+QPqWb/mWbzZAormdyqMDO0DW519bff5BQCXxfF2x0URAiUMn7YNkRkAmaleiduVLQEqSJEmS5ElAAAAAAAAASUA=",
          "dtype": "f8"
         },
         "yaxis": "y"
        },
        {
         "alignmentgroup": "True",
         "hovertemplate": "prefer_overall=Coffee A<br>strength=%{x}<br>proportion=%{y}<extra></extra>",
         "legendgroup": "Coffee A",
         "marker": {
          "color": "#d2b48c",
          "pattern": {
           "shape": ""
          }
         },
         "name": "Coffee A",
         "offsetgroup": "Coffee A",
         "orientation": "v",
         "showlegend": false,
         "textposition": "auto",
         "type": "bar",
         "x": [
          "Somewhat light",
          "Medium",
          "Somewhat strong",
          "Very strong"
         ],
         "xaxis": "x2",
         "y": {
          "bdata": "89iKoOGkMkAbIG/PHIs1QAeYao7ZuzRAgn/m0aISNUA=",
          "dtype": "f8"
         },
         "yaxis": "y2"
        },
        {
         "alignmentgroup": "True",
         "hovertemplate": "prefer_overall=Coffee B<br>strength=%{x}<br>proportion=%{y}<extra></extra>",
         "legendgroup": "Coffee B",
         "marker": {
          "color": "#a0522d",
          "pattern": {
           "shape": ""
          }
         },
         "name": "Coffee B",
         "offsetgroup": "Coffee B",
         "orientation": "v",
         "showlegend": false,
         "textposition": "auto",
         "type": "bar",
         "x": [
          "Somewhat light",
          "Medium",
          "Somewhat strong",
          "Very strong"
         ],
         "xaxis": "x2",
         "y": {
          "bdata": "89iKoOGkMkAPr9rndy8zQEeWxPN1xTJAyKR4gUyKM0A=",
          "dtype": "f8"
         },
         "yaxis": "y2"
        },
        {
         "alignmentgroup": "True",
         "hovertemplate": "prefer_overall=Coffee C<br>strength=%{x}<br>proportion=%{y}<extra></extra>",
         "legendgroup": "Coffee C",
         "marker": {
          "color": "#5c3317",
          "pattern": {
           "shape": ""
          }
         },
         "name": "Coffee C",
         "offsetgroup": "Coffee C",
         "orientation": "v",
         "showlegend": false,
         "textposition": "auto",
         "type": "bar",
         "x": [
          "Somewhat light",
          "Medium",
          "Somewhat strong",
          "Very strong"
         ],
         "xaxis": "x2",
         "y": {
          "bdata": "xEndl8dWNECEc/9ZWGYzQJhqjtm7tTNAU++c4J95MEA=",
          "dtype": "f8"
         },
         "yaxis": "y2"
        },
        {
         "alignmentgroup": "True",
         "hovertemplate": "prefer_overall=Coffee D<br>strength=%{x}<br>proportion=%{y}<extra></extra>",
         "legendgroup": "Coffee D",
         "marker": {
          "color": "#d2b48c",
          "pattern": {
           "shape": "/"
          }
         },
         "name": "Coffee D",
         "offsetgroup": "Coffee D",
         "orientation": "v",
         "showlegend": false,
         "textposition": "auto",
         "type": "bar",
         "x": [
          "Somewhat light",
          "Medium",
          "Somewhat strong",
          "Very strong"
         ],
         "xaxis": "x2",
         "y": {
          "bdata": "K4KGk7ovRUCqXlt3ie9DQI0zIVJ6ZERAMfYBZrh0RUA=",
          "dtype": "f8"
         },
         "yaxis": "y2"
        },
        {
         "alignmentgroup": "True",
         "hovertemplate": "prefer_overall=Coffee A<br>roast_level=%{x}<br>proportion=%{y}<extra></extra>",
         "legendgroup": "Coffee A",
         "marker": {
          "color": "#d2b48c",
          "pattern": {
           "shape": ""
          }
         },
         "name": "Coffee A",
         "offsetgroup": "Coffee A",
         "orientation": "v",
         "showlegend": false,
         "textposition": "auto",
         "type": "bar",
         "x": [
          "Dark",
          "Light",
          "Medium"
         ],
         "xaxis": "x3",
         "y": {
          "bdata": "AAAAAAAAJEAMy1Zig5I4QD3P8zzPczJA",
          "dtype": "f8"
         },
         "yaxis": "y3"
        },
        {
         "alignmentgroup": "True",
         "hovertemplate": "prefer_overall=Coffee B<br>roast_level=%{x}<br>proportion=%{y}<extra></extra>",
         "legendgroup": "Coffee B",
         "marker": {
          "color": "#a0522d",
          "pattern": {
           "shape": ""
          }
         },
         "name": "Coffee B",
         "offsetgroup": "Coffee B",
         "orientation": "v",
         "showlegend": false,
         "textposition": "auto",
         "type": "bar",
         "x": [
          "Dark",
          "Light",
          "Medium"
         ],
         "xaxis": "x3",
         "y": {
          "bdata": "r6G8hvIaRkDhGRUZa9EiQM/zPM/zfDpA",
          "dtype": "f8"
         },
         "yaxis": "y3"
        },
        {
         "alignmentgroup": "True",
         "hovertemplate": "prefer_overall=Coffee C<br>roast_level=%{x}<br>proportion=%{y}<extra></extra>",
         "legendgroup": "Coffee C",
         "marker": {
          "color": "#5c3317",
          "pattern": {
           "shape": ""
          }
         },
         "name": "Coffee C",
         "offsetgroup": "Coffee C",
         "orientation": "v",
         "showlegend": false,
         "textposition": "auto",
         "type": "bar",
         "x": [
          "Dark",
          "Light",
          "Medium"
         ],
         "xaxis": "x3",
         "y": {
          "bdata": "vIbyGsprPEDhGRUZa9EiQIqiKIqiKD5A",
          "dtype": "f8"
         },
         "yaxis": "y3"
        },
        {
         "alignmentgroup": "True",
         "hovertemplate": "prefer_overall=Coffee D<br>roast_level=%{x}<br>proportion=%{y}<extra></extra>",
         "legendgroup": "Coffee D",
         "marker": {
          "color": "#d2b48c",
          "pattern": {
           "shape": "/"
          }
         },
         "name": "Coffee D",
         "offsetgroup": "Coffee D",
         "orientation": "v",
         "showlegend": false,
         "textposition": "auto",
         "type": "bar",
         "x": [
          "Dark",
          "Light",
          "Medium"
         ],
         "xaxis": "x3",
         "y": {
          "bdata": "5TWU11BeMUCJDUrCCE5MQGqapmma5jhA",
          "dtype": "f8"
         },
         "yaxis": "y3"
        },
        {
         "alignmentgroup": "True",
         "hovertemplate": "prefer_overall=Coffee A<br>style=%{x}<br>proportion=%{y}<extra></extra>",
         "legendgroup": "Coffee A",
         "marker": {
          "color": "#d2b48c",
          "pattern": {
           "shape": ""
          }
         },
         "name": "Coffee A",
         "offsetgroup": "Coffee A",
         "orientation": "v",
         "showlegend": false,
         "textposition": "auto",
         "type": "bar",
         "x": [
          "Bright",
          "Caramalized",
          "Chocolatey",
          "Fruity",
          "Full Bodied",
          "Juicy",
          "Nutty",
          "Sweet"
         ],
         "xaxis": "x4",
         "y": {
          "bdata": "Rl1RV9QVQEBP7MRO7MQ+QMVV2wdsjShAQgghhBDCM0AuL4JPgfwrQFXMrc5IxThAwzAMwzAMM0Dctm3btm07QA==",
          "dtype": "f8"
         },
         "yaxis": "y4"
        },
        {
         "alignmentgroup": "True",
         "hovertemplate": "prefer_overall=Coffee B<br>style=%{x}<br>proportion=%{y}<extra></extra>",
         "legendgroup": "Coffee B",
         "marker": {
          "color": "#a0522d",
          "pattern": {
           "shape": ""
          }
         },
         "name": "Coffee B",
         "offsetgroup": "Coffee B",
         "orientation": "v",
         "showlegend": false,
         "textposition": "auto",
         "type": "bar",
         "x": [
          "Bright",
          "Caramalized",
          "Chocolatey",
          "Fruity",
          "Full Bodied",
          "Juicy",
          "Nutty",
          "Sweet"
         ],
         "xaxis": "x4",
         "y": {
          "bdata": "EnfEHXFHIEAapEEapEE+QN4rmxXphEFARRNNNNFEGUB8txZu2g4/QKf9ZAls2hdA27Zt27ZtQEAAAAAAAAA0QA==",
          "dtype": "f8"
         },
         "yaxis": "y4"
        },
        {
         "alignmentgroup": "True",
         "hovertemplate": "prefer_overall=Coffee C<br>style=%{x}<br>proportion=%{y}<extra></extra>",
         "legendgroup": "Coffee C",
         "marker": {
          "color": "#5c3317",
          "pattern": {
           "shape": ""
          }
         },
         "name": "Coffee C",
         "offsetgroup": "Coffee C",
         "orientation": "v",
         "showlegend": false,
         "textposition": "auto",
         "type": "bar",
         "x": [
          "Bright",
          "Caramalized",
          "Chocolatey",
          "Fruity",
          "Full Bodied",
          "Juicy",
          "Nutty",
          "Sweet"
         ],
         "xaxis": "x4",
         "y": {
          "bdata": "EnfEHXFHMEDSIA3SIA02QDBRXLV9wEBAHnnkkUceF0Dv1sJN22FAQJQlsGk/WSJAep7neZ7nQEC3bdu2bdsyQA==",
          "dtype": "f8"
         },
         "yaxis": "y4"
        },
        {
         "alignmentgroup": "True",
         "hovertemplate": "prefer_overall=Coffee D<br>style=%{x}<br>proportion=%{y}<extra></extra>",
         "legendgroup": "Coffee D",
         "marker": {
          "color": "#d2b48c",
          "pattern": {
           "shape": "/"
          }
         },
         "name": "Coffee D",
         "offsetgroup": "Coffee D",
         "orientation": "v",
         "showlegend": false,
         "textposition": "auto",
         "type": "bar",
         "x": [
          "Bright",
          "Caramalized",
          "Chocolatey",
          "Fruity",
          "Full Bodied",
          "Juicy",
          "Nutty",
          "Sweet"
         ],
         "xaxis": "x4",
         "y": {
          "bdata": "bUlb0pa0RUDFTuzETuwwQAJbI2Z8LjNAKaWUUkoJUUAPg6JOLi82QLtwED2+C05AJEmSJEmSLEC3bdu2bdtAQA==",
          "dtype": "f8"
         },
         "yaxis": "y4"
        },
        {
         "alignmentgroup": "True",
         "hovertemplate": "prefer_overall=Coffee A<br>favorite=%{x}<br>proportion=%{y}<extra></extra>",
         "legendgroup": "Coffee A",
         "marker": {
          "color": "#d2b48c",
          "pattern": {
           "shape": ""
          }
         },
         "name": "Coffee A",
         "offsetgroup": "Coffee A",
         "orientation": "v",
         "showlegend": false,
         "textposition": "auto",
         "type": "bar",
         "x": [
          "Americano",
          "Cappuccino",
          "Cortado",
          "Espresso",
          "Latte",
          "Pourover",
          "Regular drip coffee"
         ],
         "xaxis": "x5",
         "y": {
          "bdata": "C2jcrfMKMEAzMzMzMzM1QH8ZaH4ZaDZAmpNAXKg5OUCPXQ1LL+I0QEFr2F0dsjVAYXMg0QqbMUA=",
          "dtype": "f8"
         },
         "yaxis": "y5"
        },
        {
         "alignmentgroup": "True",
         "hovertemplate": "prefer_overall=Coffee B<br>favorite=%{x}<br>proportion=%{y}<extra></extra>",
         "legendgroup": "Coffee B",
         "marker": {
          "color": "#a0522d",
          "pattern": {
           "shape": ""
          }
         },
         "name": "Coffee B",
         "offsetgroup": "Coffee B",
         "orientation": "v",
         "showlegend": false,
         "textposition": "auto",
         "type": "bar",
         "x": [
          "Americano",
          "Cappuccino",
          "Cortado",
          "Espresso",
          "Latte",
          "Pourover",
          "Regular drip coffee"
         ],
         "xaxis": "x5",
         "y": {
          "bdata": "7Em+j9XsNUDNzMzMzMw2QG8HiW8HiS9ABOJCzUkgKkC+P1IwmYM8QEVUvMmEMChAMn671JPxN0A=",
          "dtype": "f8"
         },
         "yaxis": "y5"
        },
        {
         "alignmentgroup": "True",
         "hovertemplate": "prefer_overall=Coffee C<br>favorite=%{x}<br>proportion=%{y}<extra></extra>",
         "legendgroup": "Coffee C",
         "marker": {
          "color": "#5c3317",
          "pattern": {
           "shape": ""
          }
         },
         "name": "Coffee C",
         "offsetgroup": "Coffee C",
         "orientation": "v",
         "showlegend": false,
         "textposition": "auto",
         "type": "bar",
         "x": [
          "Americano",
          "Cappuccino",
          "Cortado",
          "Espresso",
          "Latte",
          "Pourover",
          "Regular drip coffee"
         ],
         "xaxis": "x5",
         "y": {
          "bdata": "NO7WeQU0OkAAAAAAAAA2QG8HiW8HiS9AxvY7emVsJ0AlcxBw67M5QMsxkusf7itAAAAAAAAAOUA=",
          "dtype": "f8"
         },
         "yaxis": "y5"
        },
        {
         "alignmentgroup": "True",
         "hovertemplate": "prefer_overall=Coffee D<br>favorite=%{x}<br>proportion=%{y}<extra></extra>",
         "legendgroup": "Coffee D",
         "marker": {
          "color": "#d2b48c",
          "pattern": {
           "shape": "/"
          }
         },
         "name": "Coffee D",
         "offsetgroup": "Coffee D",
         "orientation": "v",
         "showlegend": false,
         "textposition": "auto",
         "type": "bar",
         "x": [
          "Americano",
          "Cappuccino",
          "Cortado",
          "Espresso",
          "Latte",
          "Pourover",
          "Regular drip coffee"
         ],
         "xaxis": "x5",
         "y": {
          "bdata": "6i9HpBjqQUAAAAAAAABBQIlvB4lvB0dAAAAAAAAASUCM748UTOY4QNwowCNIH0pANgcSrbC5QEA=",
          "dtype": "f8"
         },
         "yaxis": "y5"
        }
       ],
       "layout": {
        "annotations": [
         {
          "font": {
           "size": 16
          },
          "showarrow": false,
          "text": "Expertise",
          "x": 0.14444444444444446,
          "xanchor": "center",
          "xref": "paper",
          "y": 1,
          "yanchor": "bottom",
          "yref": "paper"
         },
         {
          "font": {
           "size": 16
          },
          "showarrow": false,
          "text": "Stärke",
          "x": 0.5,
          "xanchor": "center",
          "xref": "paper",
          "y": 1,
          "yanchor": "bottom",
          "yref": "paper"
         },
         {
          "font": {
           "size": 16
          },
          "showarrow": false,
          "text": "Röstung",
          "x": 0.8555555555555556,
          "xanchor": "center",
          "xref": "paper",
          "y": 1,
          "yanchor": "bottom",
          "yref": "paper"
         },
         {
          "font": {
           "size": 16
          },
          "showarrow": false,
          "text": "Geschmack",
          "x": 0.14444444444444446,
          "xanchor": "center",
          "xref": "paper",
          "y": 0.375,
          "yanchor": "bottom",
          "yref": "paper"
         },
         {
          "font": {
           "size": 16
          },
          "showarrow": false,
          "text": "Kaffeegetränk",
          "x": 0.5,
          "xanchor": "center",
          "xref": "paper",
          "y": 0.375,
          "yanchor": "bottom",
          "yref": "paper"
         }
        ],
        "height": 800,
        "template": {
         "data": {
          "bar": [
           {
            "error_x": {
             "color": "#2a3f5f"
            },
            "error_y": {
             "color": "#2a3f5f"
            },
            "marker": {
             "line": {
              "color": "white",
              "width": 0.5
             },
             "pattern": {
              "fillmode": "overlay",
              "size": 10,
              "solidity": 0.2
             }
            },
            "type": "bar"
           }
          ],
          "barpolar": [
           {
            "marker": {
             "line": {
              "color": "white",
              "width": 0.5
             },
             "pattern": {
              "fillmode": "overlay",
              "size": 10,
              "solidity": 0.2
             }
            },
            "type": "barpolar"
           }
          ],
          "carpet": [
           {
            "aaxis": {
             "endlinecolor": "#2a3f5f",
             "gridcolor": "#C8D4E3",
             "linecolor": "#C8D4E3",
             "minorgridcolor": "#C8D4E3",
             "startlinecolor": "#2a3f5f"
            },
            "baxis": {
             "endlinecolor": "#2a3f5f",
             "gridcolor": "#C8D4E3",
             "linecolor": "#C8D4E3",
             "minorgridcolor": "#C8D4E3",
             "startlinecolor": "#2a3f5f"
            },
            "type": "carpet"
           }
          ],
          "choropleth": [
           {
            "colorbar": {
             "outlinewidth": 0,
             "ticks": ""
            },
            "type": "choropleth"
           }
          ],
          "contour": [
           {
            "colorbar": {
             "outlinewidth": 0,
             "ticks": ""
            },
            "colorscale": [
             [
              0,
              "#0d0887"
             ],
             [
              0.1111111111111111,
              "#46039f"
             ],
             [
              0.2222222222222222,
              "#7201a8"
             ],
             [
              0.3333333333333333,
              "#9c179e"
             ],
             [
              0.4444444444444444,
              "#bd3786"
             ],
             [
              0.5555555555555556,
              "#d8576b"
             ],
             [
              0.6666666666666666,
              "#ed7953"
             ],
             [
              0.7777777777777778,
              "#fb9f3a"
             ],
             [
              0.8888888888888888,
              "#fdca26"
             ],
             [
              1,
              "#f0f921"
             ]
            ],
            "type": "contour"
           }
          ],
          "contourcarpet": [
           {
            "colorbar": {
             "outlinewidth": 0,
             "ticks": ""
            },
            "type": "contourcarpet"
           }
          ],
          "heatmap": [
           {
            "colorbar": {
             "outlinewidth": 0,
             "ticks": ""
            },
            "colorscale": [
             [
              0,
              "#0d0887"
             ],
             [
              0.1111111111111111,
              "#46039f"
             ],
             [
              0.2222222222222222,
              "#7201a8"
             ],
             [
              0.3333333333333333,
              "#9c179e"
             ],
             [
              0.4444444444444444,
              "#bd3786"
             ],
             [
              0.5555555555555556,
              "#d8576b"
             ],
             [
              0.6666666666666666,
              "#ed7953"
             ],
             [
              0.7777777777777778,
              "#fb9f3a"
             ],
             [
              0.8888888888888888,
              "#fdca26"
             ],
             [
              1,
              "#f0f921"
             ]
            ],
            "type": "heatmap"
           }
          ],
          "histogram": [
           {
            "marker": {
             "pattern": {
              "fillmode": "overlay",
              "size": 10,
              "solidity": 0.2
             }
            },
            "type": "histogram"
           }
          ],
          "histogram2d": [
           {
            "colorbar": {
             "outlinewidth": 0,
             "ticks": ""
            },
            "colorscale": [
             [
              0,
              "#0d0887"
             ],
             [
              0.1111111111111111,
              "#46039f"
             ],
             [
              0.2222222222222222,
              "#7201a8"
             ],
             [
              0.3333333333333333,
              "#9c179e"
             ],
             [
              0.4444444444444444,
              "#bd3786"
             ],
             [
              0.5555555555555556,
              "#d8576b"
             ],
             [
              0.6666666666666666,
              "#ed7953"
             ],
             [
              0.7777777777777778,
              "#fb9f3a"
             ],
             [
              0.8888888888888888,
              "#fdca26"
             ],
             [
              1,
              "#f0f921"
             ]
            ],
            "type": "histogram2d"
           }
          ],
          "histogram2dcontour": [
           {
            "colorbar": {
             "outlinewidth": 0,
             "ticks": ""
            },
            "colorscale": [
             [
              0,
              "#0d0887"
             ],
             [
              0.1111111111111111,
              "#46039f"
             ],
             [
              0.2222222222222222,
              "#7201a8"
             ],
             [
              0.3333333333333333,
              "#9c179e"
             ],
             [
              0.4444444444444444,
              "#bd3786"
             ],
             [
              0.5555555555555556,
              "#d8576b"
             ],
             [
              0.6666666666666666,
              "#ed7953"
             ],
             [
              0.7777777777777778,
              "#fb9f3a"
             ],
             [
              0.8888888888888888,
              "#fdca26"
             ],
             [
              1,
              "#f0f921"
             ]
            ],
            "type": "histogram2dcontour"
           }
          ],
          "mesh3d": [
           {
            "colorbar": {
             "outlinewidth": 0,
             "ticks": ""
            },
            "type": "mesh3d"
           }
          ],
          "parcoords": [
           {
            "line": {
             "colorbar": {
              "outlinewidth": 0,
              "ticks": ""
             }
            },
            "type": "parcoords"
           }
          ],
          "pie": [
           {
            "automargin": true,
            "type": "pie"
           }
          ],
          "scatter": [
           {
            "fillpattern": {
             "fillmode": "overlay",
             "size": 10,
             "solidity": 0.2
            },
            "type": "scatter"
           }
          ],
          "scatter3d": [
           {
            "line": {
             "colorbar": {
              "outlinewidth": 0,
              "ticks": ""
             }
            },
            "marker": {
             "colorbar": {
              "outlinewidth": 0,
              "ticks": ""
             }
            },
            "type": "scatter3d"
           }
          ],
          "scattercarpet": [
           {
            "marker": {
             "colorbar": {
              "outlinewidth": 0,
              "ticks": ""
             }
            },
            "type": "scattercarpet"
           }
          ],
          "scattergeo": [
           {
            "marker": {
             "colorbar": {
              "outlinewidth": 0,
              "ticks": ""
             }
            },
            "type": "scattergeo"
           }
          ],
          "scattergl": [
           {
            "marker": {
             "colorbar": {
              "outlinewidth": 0,
              "ticks": ""
             }
            },
            "type": "scattergl"
           }
          ],
          "scattermap": [
           {
            "marker": {
             "colorbar": {
              "outlinewidth": 0,
              "ticks": ""
             }
            },
            "type": "scattermap"
           }
          ],
          "scattermapbox": [
           {
            "marker": {
             "colorbar": {
              "outlinewidth": 0,
              "ticks": ""
             }
            },
            "type": "scattermapbox"
           }
          ],
          "scatterpolar": [
           {
            "marker": {
             "colorbar": {
              "outlinewidth": 0,
              "ticks": ""
             }
            },
            "type": "scatterpolar"
           }
          ],
          "scatterpolargl": [
           {
            "marker": {
             "colorbar": {
              "outlinewidth": 0,
              "ticks": ""
             }
            },
            "type": "scatterpolargl"
           }
          ],
          "scatterternary": [
           {
            "marker": {
             "colorbar": {
              "outlinewidth": 0,
              "ticks": ""
             }
            },
            "type": "scatterternary"
           }
          ],
          "surface": [
           {
            "colorbar": {
             "outlinewidth": 0,
             "ticks": ""
            },
            "colorscale": [
             [
              0,
              "#0d0887"
             ],
             [
              0.1111111111111111,
              "#46039f"
             ],
             [
              0.2222222222222222,
              "#7201a8"
             ],
             [
              0.3333333333333333,
              "#9c179e"
             ],
             [
              0.4444444444444444,
              "#bd3786"
             ],
             [
              0.5555555555555556,
              "#d8576b"
             ],
             [
              0.6666666666666666,
              "#ed7953"
             ],
             [
              0.7777777777777778,
              "#fb9f3a"
             ],
             [
              0.8888888888888888,
              "#fdca26"
             ],
             [
              1,
              "#f0f921"
             ]
            ],
            "type": "surface"
           }
          ],
          "table": [
           {
            "cells": {
             "fill": {
              "color": "#EBF0F8"
             },
             "line": {
              "color": "white"
             }
            },
            "header": {
             "fill": {
              "color": "#C8D4E3"
             },
             "line": {
              "color": "white"
             }
            },
            "type": "table"
           }
          ]
         },
         "layout": {
          "annotationdefaults": {
           "arrowcolor": "#2a3f5f",
           "arrowhead": 0,
           "arrowwidth": 1
          },
          "autotypenumbers": "strict",
          "coloraxis": {
           "colorbar": {
            "outlinewidth": 0,
            "ticks": ""
           }
          },
          "colorscale": {
           "diverging": [
            [
             0,
             "#8e0152"
            ],
            [
             0.1,
             "#c51b7d"
            ],
            [
             0.2,
             "#de77ae"
            ],
            [
             0.3,
             "#f1b6da"
            ],
            [
             0.4,
             "#fde0ef"
            ],
            [
             0.5,
             "#f7f7f7"
            ],
            [
             0.6,
             "#e6f5d0"
            ],
            [
             0.7,
             "#b8e186"
            ],
            [
             0.8,
             "#7fbc41"
            ],
            [
             0.9,
             "#4d9221"
            ],
            [
             1,
             "#276419"
            ]
           ],
           "sequential": [
            [
             0,
             "#0d0887"
            ],
            [
             0.1111111111111111,
             "#46039f"
            ],
            [
             0.2222222222222222,
             "#7201a8"
            ],
            [
             0.3333333333333333,
             "#9c179e"
            ],
            [
             0.4444444444444444,
             "#bd3786"
            ],
            [
             0.5555555555555556,
             "#d8576b"
            ],
            [
             0.6666666666666666,
             "#ed7953"
            ],
            [
             0.7777777777777778,
             "#fb9f3a"
            ],
            [
             0.8888888888888888,
             "#fdca26"
            ],
            [
             1,
             "#f0f921"
            ]
           ],
           "sequentialminus": [
            [
             0,
             "#0d0887"
            ],
            [
             0.1111111111111111,
             "#46039f"
            ],
            [
             0.2222222222222222,
             "#7201a8"
            ],
            [
             0.3333333333333333,
             "#9c179e"
            ],
            [
             0.4444444444444444,
             "#bd3786"
            ],
            [
             0.5555555555555556,
             "#d8576b"
            ],
            [
             0.6666666666666666,
             "#ed7953"
            ],
            [
             0.7777777777777778,
             "#fb9f3a"
            ],
            [
             0.8888888888888888,
             "#fdca26"
            ],
            [
             1,
             "#f0f921"
            ]
           ]
          },
          "colorway": [
           "#636efa",
           "#EF553B",
           "#00cc96",
           "#ab63fa",
           "#FFA15A",
           "#19d3f3",
           "#FF6692",
           "#B6E880",
           "#FF97FF",
           "#FECB52"
          ],
          "font": {
           "color": "#2a3f5f"
          },
          "geo": {
           "bgcolor": "white",
           "lakecolor": "white",
           "landcolor": "white",
           "showlakes": true,
           "showland": true,
           "subunitcolor": "#C8D4E3"
          },
          "hoverlabel": {
           "align": "left"
          },
          "hovermode": "closest",
          "mapbox": {
           "style": "light"
          },
          "paper_bgcolor": "white",
          "plot_bgcolor": "white",
          "polar": {
           "angularaxis": {
            "gridcolor": "#EBF0F8",
            "linecolor": "#EBF0F8",
            "ticks": ""
           },
           "bgcolor": "white",
           "radialaxis": {
            "gridcolor": "#EBF0F8",
            "linecolor": "#EBF0F8",
            "ticks": ""
           }
          },
          "scene": {
           "xaxis": {
            "backgroundcolor": "white",
            "gridcolor": "#DFE8F3",
            "gridwidth": 2,
            "linecolor": "#EBF0F8",
            "showbackground": true,
            "ticks": "",
            "zerolinecolor": "#EBF0F8"
           },
           "yaxis": {
            "backgroundcolor": "white",
            "gridcolor": "#DFE8F3",
            "gridwidth": 2,
            "linecolor": "#EBF0F8",
            "showbackground": true,
            "ticks": "",
            "zerolinecolor": "#EBF0F8"
           },
           "zaxis": {
            "backgroundcolor": "white",
            "gridcolor": "#DFE8F3",
            "gridwidth": 2,
            "linecolor": "#EBF0F8",
            "showbackground": true,
            "ticks": "",
            "zerolinecolor": "#EBF0F8"
           }
          },
          "shapedefaults": {
           "line": {
            "color": "#2a3f5f"
           }
          },
          "ternary": {
           "aaxis": {
            "gridcolor": "#DFE8F3",
            "linecolor": "#A2B1C6",
            "ticks": ""
           },
           "baxis": {
            "gridcolor": "#DFE8F3",
            "linecolor": "#A2B1C6",
            "ticks": ""
           },
           "bgcolor": "white",
           "caxis": {
            "gridcolor": "#DFE8F3",
            "linecolor": "#A2B1C6",
            "ticks": ""
           }
          },
          "title": {
           "x": 0.05
          },
          "xaxis": {
           "automargin": true,
           "gridcolor": "#EBF0F8",
           "linecolor": "#EBF0F8",
           "ticks": "",
           "title": {
            "standoff": 15
           },
           "zerolinecolor": "#EBF0F8",
           "zerolinewidth": 2
          },
          "yaxis": {
           "automargin": true,
           "gridcolor": "#EBF0F8",
           "linecolor": "#EBF0F8",
           "ticks": "",
           "title": {
            "standoff": 15
           },
           "zerolinecolor": "#EBF0F8",
           "zerolinewidth": 2
          }
         }
        },
        "width": 1400,
        "xaxis": {
         "anchor": "y",
         "domain": [
          0,
          0.2888888888888889
         ],
         "title": {
          "text": ""
         }
        },
        "xaxis2": {
         "anchor": "y2",
         "domain": [
          0.35555555555555557,
          0.6444444444444445
         ]
        },
        "xaxis3": {
         "anchor": "y3",
         "domain": [
          0.7111111111111111,
          1
         ]
        },
        "xaxis4": {
         "anchor": "y4",
         "domain": [
          0,
          0.2888888888888889
         ]
        },
        "xaxis5": {
         "anchor": "y5",
         "domain": [
          0.35555555555555557,
          0.6444444444444445
         ]
        },
        "xaxis6": {
         "anchor": "y6",
         "domain": [
          0.7111111111111111,
          1
         ]
        },
        "yaxis": {
         "anchor": "x",
         "domain": [
          0.625,
          1
         ],
         "title": {
          "text": "%"
         }
        },
        "yaxis2": {
         "anchor": "x2",
         "domain": [
          0.625,
          1
         ],
         "matches": "y",
         "showticklabels": false
        },
        "yaxis3": {
         "anchor": "x3",
         "domain": [
          0.625,
          1
         ],
         "matches": "y",
         "showticklabels": false
        },
        "yaxis4": {
         "anchor": "x4",
         "domain": [
          0,
          0.375
         ]
        },
        "yaxis5": {
         "anchor": "x5",
         "domain": [
          0,
          0.375
         ],
         "matches": "y4",
         "showticklabels": false
        },
        "yaxis6": {
         "anchor": "x6",
         "domain": [
          0,
          0.375
         ],
         "matches": "y4",
         "showticklabels": false
        }
       }
      },
      "image/png": "[encoded data removed]"
     },
     "metadata": {},
     "output_type": "display_data"
    }
   ],
   "source": [
    "cols = [\"expertise\", \"strength\", \"roast_level\", \"style\", \"favorite\"]\n",
    "\n",
    "fig = make_subplots(\n",
    "    rows=2, cols=3,\n",
    "    shared_yaxes=True,\n",
    "    subplot_titles=[\"Expertise\", \"Stärke\", \"Röstung\", \"Geschmack\", \"Kaffeegetränk\"]\n",
    ")\n",
    "\n",
    "for i, col in enumerate(cols):\n",
    "\n",
    "    r = i // 3 + 1\n",
    "    c = i % 3 + 1\n",
    "\n",
    "    # Werte zählen für Plot\n",
    "    df_cat = pd.DataFrame(df_clean.groupby(by=col, observed=False)[\"prefer_overall\"].value_counts(normalize=True)).reset_index()\n",
    "    df_cat[\"proportion\"] = df_cat[\"proportion\"]*100\n",
    "    df_cat = df_cat[df_cat[col] != \"keine Angabe\"]\n",
    "    p = px.bar(df_cat, y=\"proportion\", x=col, color=\"prefer_overall\", \n",
    "             pattern_shape=\"prefer_overall\",\n",
    "             color_discrete_map=c_map,\n",
    "             pattern_shape_map=p_map,\n",
    "             template=\"plotly_white\",\n",
    "             barmode=\"group\",\n",
    "             category_orders={\"prefer_overall\": coffee_order})\n",
    "\n",
    "    for trace in p.data:\n",
    "        trace.showlegend = (i == 0)\n",
    "        fig.add_trace(trace, row=r, col=c)\n",
    "        \n",
    "fig.update_layout(xaxis_title=\"\", yaxis_title=\"%\",\n",
    "                 height = 800, width = 1400, template = \"plotly_white\")\n",
    "    "
   ]
  },
  {
   "cell_type": "markdown",
   "id": "ea8e4854-1c19-4efb-8547-a60f83730d4e",
   "metadata": {},
   "source": [
    "Je mehr sich jemand mit Kaffee auskennt, desto beliebter ist Kaffee D, bei niedriger Expertise ist Kaffee B am beliebtesten. Die Stärke des Kaffees scheint keinen großen Einfluss zu haben. Der bevorzugte Röstgrad beeinflusst die Wahl des Kaffees sehr stark. Bei Vorliebe für dunkle Röstungen ist Kaffee B die erste Wahl, gefolgt von C. Das kehrt sich bei Vorliebe für mittleren Röstgrad um. Und leichte Röstung ist am ehesten bei Kaffee D, gefolgt von A zu finden. Ebenso hat der bevorzugte \"Style\" und das bevorzugte Kaffeegetränk einen Einfluss.        \n",
    "\n",
    "Zusammenfassend scheinen hier vor allem Expertise, den Ursprung des Kaffees zu kennen, der Röstgrad, Geschmacksrichtung, und Kaffeegetränk relevant für die Bestimmung der bevorzugten Kaffeesorte zu sein. "
   ]
  },
  {
   "cell_type": "markdown",
   "id": "fbafc769-4b9c-436b-9369-7f4fa2a094ba",
   "metadata": {},
   "source": [
    "### Zubereitungsart"
   ]
  },
  {
   "cell_type": "code",
   "execution_count": 18,
   "id": "3bf1d49c-e20e-4335-9aa8-3fae565cae50",
   "metadata": {},
   "outputs": [
    {
     "data": {
      "text/html": [
       "<div>\n",
       "<style scoped>\n",
       "    .dataframe tbody tr th:only-of-type {\n",
       "        vertical-align: middle;\n",
       "    }\n",
       "\n",
       "    .dataframe tbody tr th {\n",
       "        vertical-align: top;\n",
       "    }\n",
       "\n",
       "    .dataframe thead th {\n",
       "        text-align: right;\n",
       "    }\n",
       "</style>\n",
       "<table border=\"1\" class=\"dataframe\">\n",
       "  <thead>\n",
       "    <tr style=\"text-align: right;\">\n",
       "      <th></th>\n",
       "      <th>submission_id</th>\n",
       "      <th>prefer_overall</th>\n",
       "      <th>brew Bean-to-cup machine</th>\n",
       "      <th>brew Coffee brewing machine (e.g. Mr. Coffee)</th>\n",
       "      <th>brew Coffee extract (e.g. Cometeer)</th>\n",
       "      <th>brew Cold brew</th>\n",
       "      <th>brew Espresso</th>\n",
       "      <th>brew French press</th>\n",
       "      <th>brew Instant coffee</th>\n",
       "      <th>brew Other</th>\n",
       "      <th>brew Pod/capsule machine (e.g. Keurig/Nespresso)</th>\n",
       "      <th>brew Pour over</th>\n",
       "      <th>brew keine Angabe</th>\n",
       "    </tr>\n",
       "  </thead>\n",
       "  <tbody>\n",
       "    <tr>\n",
       "      <th>0</th>\n",
       "      <td>0E11K6</td>\n",
       "      <td>Coffee A</td>\n",
       "      <td>False</td>\n",
       "      <td>True</td>\n",
       "      <td>False</td>\n",
       "      <td>False</td>\n",
       "      <td>False</td>\n",
       "      <td>False</td>\n",
       "      <td>False</td>\n",
       "      <td>False</td>\n",
       "      <td>False</td>\n",
       "      <td>False</td>\n",
       "      <td>False</td>\n",
       "    </tr>\n",
       "    <tr>\n",
       "      <th>1</th>\n",
       "      <td>0E1D5Z</td>\n",
       "      <td>Coffee D</td>\n",
       "      <td>False</td>\n",
       "      <td>False</td>\n",
       "      <td>False</td>\n",
       "      <td>False</td>\n",
       "      <td>False</td>\n",
       "      <td>False</td>\n",
       "      <td>False</td>\n",
       "      <td>False</td>\n",
       "      <td>False</td>\n",
       "      <td>True</td>\n",
       "      <td>False</td>\n",
       "    </tr>\n",
       "    <tr>\n",
       "      <th>2</th>\n",
       "      <td>0E1qKB</td>\n",
       "      <td>Coffee D</td>\n",
       "      <td>False</td>\n",
       "      <td>False</td>\n",
       "      <td>False</td>\n",
       "      <td>False</td>\n",
       "      <td>False</td>\n",
       "      <td>False</td>\n",
       "      <td>False</td>\n",
       "      <td>False</td>\n",
       "      <td>False</td>\n",
       "      <td>True</td>\n",
       "      <td>False</td>\n",
       "    </tr>\n",
       "    <tr>\n",
       "      <th>3</th>\n",
       "      <td>0E1vgN</td>\n",
       "      <td>Coffee C</td>\n",
       "      <td>False</td>\n",
       "      <td>False</td>\n",
       "      <td>False</td>\n",
       "      <td>False</td>\n",
       "      <td>False</td>\n",
       "      <td>False</td>\n",
       "      <td>False</td>\n",
       "      <td>False</td>\n",
       "      <td>True</td>\n",
       "      <td>False</td>\n",
       "      <td>False</td>\n",
       "    </tr>\n",
       "    <tr>\n",
       "      <th>4</th>\n",
       "      <td>0EAKN6</td>\n",
       "      <td>Coffee A</td>\n",
       "      <td>False</td>\n",
       "      <td>False</td>\n",
       "      <td>False</td>\n",
       "      <td>False</td>\n",
       "      <td>False</td>\n",
       "      <td>False</td>\n",
       "      <td>False</td>\n",
       "      <td>False</td>\n",
       "      <td>False</td>\n",
       "      <td>False</td>\n",
       "      <td>True</td>\n",
       "    </tr>\n",
       "    <tr>\n",
       "      <th>...</th>\n",
       "      <td>...</td>\n",
       "      <td>...</td>\n",
       "      <td>...</td>\n",
       "      <td>...</td>\n",
       "      <td>...</td>\n",
       "      <td>...</td>\n",
       "      <td>...</td>\n",
       "      <td>...</td>\n",
       "      <td>...</td>\n",
       "      <td>...</td>\n",
       "      <td>...</td>\n",
       "      <td>...</td>\n",
       "      <td>...</td>\n",
       "    </tr>\n",
       "    <tr>\n",
       "      <th>4037</th>\n",
       "      <td>zKWjd1</td>\n",
       "      <td>Coffee A</td>\n",
       "      <td>False</td>\n",
       "      <td>False</td>\n",
       "      <td>False</td>\n",
       "      <td>False</td>\n",
       "      <td>True</td>\n",
       "      <td>False</td>\n",
       "      <td>True</td>\n",
       "      <td>False</td>\n",
       "      <td>False</td>\n",
       "      <td>False</td>\n",
       "      <td>False</td>\n",
       "    </tr>\n",
       "    <tr>\n",
       "      <th>4038</th>\n",
       "      <td>zKWjyE</td>\n",
       "      <td>Coffee D</td>\n",
       "      <td>False</td>\n",
       "      <td>False</td>\n",
       "      <td>False</td>\n",
       "      <td>False</td>\n",
       "      <td>False</td>\n",
       "      <td>False</td>\n",
       "      <td>False</td>\n",
       "      <td>False</td>\n",
       "      <td>False</td>\n",
       "      <td>True</td>\n",
       "      <td>False</td>\n",
       "    </tr>\n",
       "    <tr>\n",
       "      <th>4039</th>\n",
       "      <td>zKWxaE</td>\n",
       "      <td>Coffee B</td>\n",
       "      <td>False</td>\n",
       "      <td>False</td>\n",
       "      <td>False</td>\n",
       "      <td>False</td>\n",
       "      <td>True</td>\n",
       "      <td>False</td>\n",
       "      <td>False</td>\n",
       "      <td>False</td>\n",
       "      <td>False</td>\n",
       "      <td>True</td>\n",
       "      <td>False</td>\n",
       "    </tr>\n",
       "    <tr>\n",
       "      <th>4040</th>\n",
       "      <td>zKWy91</td>\n",
       "      <td>Coffee C</td>\n",
       "      <td>False</td>\n",
       "      <td>False</td>\n",
       "      <td>False</td>\n",
       "      <td>False</td>\n",
       "      <td>False</td>\n",
       "      <td>False</td>\n",
       "      <td>False</td>\n",
       "      <td>True</td>\n",
       "      <td>False</td>\n",
       "      <td>True</td>\n",
       "      <td>False</td>\n",
       "    </tr>\n",
       "    <tr>\n",
       "      <th>4041</th>\n",
       "      <td>zKdykZ</td>\n",
       "      <td>Coffee C</td>\n",
       "      <td>False</td>\n",
       "      <td>True</td>\n",
       "      <td>True</td>\n",
       "      <td>False</td>\n",
       "      <td>True</td>\n",
       "      <td>True</td>\n",
       "      <td>False</td>\n",
       "      <td>False</td>\n",
       "      <td>False</td>\n",
       "      <td>True</td>\n",
       "      <td>False</td>\n",
       "    </tr>\n",
       "  </tbody>\n",
       "</table>\n",
       "<p>4042 rows × 13 columns</p>\n",
       "</div>"
      ],
      "text/plain": [
       "     submission_id prefer_overall  brew Bean-to-cup machine  \\\n",
       "0           0E11K6       Coffee A                     False   \n",
       "1           0E1D5Z       Coffee D                     False   \n",
       "2           0E1qKB       Coffee D                     False   \n",
       "3           0E1vgN       Coffee C                     False   \n",
       "4           0EAKN6       Coffee A                     False   \n",
       "...            ...            ...                       ...   \n",
       "4037        zKWjd1       Coffee A                     False   \n",
       "4038        zKWjyE       Coffee D                     False   \n",
       "4039        zKWxaE       Coffee B                     False   \n",
       "4040        zKWy91       Coffee C                     False   \n",
       "4041        zKdykZ       Coffee C                     False   \n",
       "\n",
       "      brew Coffee brewing machine (e.g. Mr. Coffee)  \\\n",
       "0                                              True   \n",
       "1                                             False   \n",
       "2                                             False   \n",
       "3                                             False   \n",
       "4                                             False   \n",
       "...                                             ...   \n",
       "4037                                          False   \n",
       "4038                                          False   \n",
       "4039                                          False   \n",
       "4040                                          False   \n",
       "4041                                           True   \n",
       "\n",
       "      brew Coffee extract (e.g. Cometeer)  brew Cold brew  brew Espresso  \\\n",
       "0                                   False           False          False   \n",
       "1                                   False           False          False   \n",
       "2                                   False           False          False   \n",
       "3                                   False           False          False   \n",
       "4                                   False           False          False   \n",
       "...                                   ...             ...            ...   \n",
       "4037                                False           False           True   \n",
       "4038                                False           False          False   \n",
       "4039                                False           False           True   \n",
       "4040                                False           False          False   \n",
       "4041                                 True           False           True   \n",
       "\n",
       "      brew French press  brew Instant coffee  brew Other  \\\n",
       "0                 False                False       False   \n",
       "1                 False                False       False   \n",
       "2                 False                False       False   \n",
       "3                 False                False       False   \n",
       "4                 False                False       False   \n",
       "...                 ...                  ...         ...   \n",
       "4037              False                 True       False   \n",
       "4038              False                False       False   \n",
       "4039              False                False       False   \n",
       "4040              False                False        True   \n",
       "4041               True                False       False   \n",
       "\n",
       "      brew Pod/capsule machine (e.g. Keurig/Nespresso)  brew Pour over  \\\n",
       "0                                                False           False   \n",
       "1                                                False            True   \n",
       "2                                                False            True   \n",
       "3                                                 True           False   \n",
       "4                                                False           False   \n",
       "...                                                ...             ...   \n",
       "4037                                             False           False   \n",
       "4038                                             False            True   \n",
       "4039                                             False            True   \n",
       "4040                                             False            True   \n",
       "4041                                             False            True   \n",
       "\n",
       "      brew keine Angabe  \n",
       "0                 False  \n",
       "1                 False  \n",
       "2                 False  \n",
       "3                 False  \n",
       "4                  True  \n",
       "...                 ...  \n",
       "4037              False  \n",
       "4038              False  \n",
       "4039              False  \n",
       "4040              False  \n",
       "4041              False  \n",
       "\n",
       "[4042 rows x 13 columns]"
      ]
     },
     "execution_count": 18,
     "metadata": {},
     "output_type": "execute_result"
    }
   ],
   "source": [
    "# Daten von Zubereitungsart vorbereiten\n",
    "brew = df.columns[df.columns.str.startswith('brew ')] \n",
    "\n",
    "df_brew = df[[\"submission_id\", \"prefer_overall\"] + list(brew)].copy()\n",
    "df_brew"
   ]
  },
  {
   "cell_type": "code",
   "execution_count": 26,
   "id": "d48821a1-d630-4e1c-a4f2-aaccadc03ea5",
   "metadata": {},
   "outputs": [
    {
     "name": "stderr",
     "output_type": "stream",
     "text": [
      "C:\\Users\\alfa\\AppData\\Local\\Temp\\ipykernel_4720\\1853042886.py:1: FutureWarning:\n",
      "\n",
      "The default of observed=False is deprecated and will be changed to True in a future version of pandas. Pass observed=False to retain current behavior or observed=True to adopt the future default and silence this warning.\n",
      "\n",
      "C:\\Users\\alfa\\AppData\\Local\\Temp\\ipykernel_4720\\1853042886.py:14: FutureWarning:\n",
      "\n",
      "The default of observed=False is deprecated and will be changed to True in a future version of pandas. Pass observed=False to retain current behavior or observed=True to adopt the future default and silence this warning.\n",
      "\n"
     ]
    },
    {
     "data": {
      "text/html": [
       "<div>\n",
       "<style scoped>\n",
       "    .dataframe tbody tr th:only-of-type {\n",
       "        vertical-align: middle;\n",
       "    }\n",
       "\n",
       "    .dataframe tbody tr th {\n",
       "        vertical-align: top;\n",
       "    }\n",
       "\n",
       "    .dataframe thead th {\n",
       "        text-align: right;\n",
       "    }\n",
       "</style>\n",
       "<table border=\"1\" class=\"dataframe\">\n",
       "  <thead>\n",
       "    <tr style=\"text-align: right;\">\n",
       "      <th></th>\n",
       "      <th>prefer_overall</th>\n",
       "      <th>Zubereitung</th>\n",
       "      <th>Anzahl</th>\n",
       "      <th>Prozent</th>\n",
       "    </tr>\n",
       "  </thead>\n",
       "  <tbody>\n",
       "    <tr>\n",
       "      <th>0</th>\n",
       "      <td>Coffee A</td>\n",
       "      <td>Bean-to-cup machine</td>\n",
       "      <td>19</td>\n",
       "      <td>1.319444</td>\n",
       "    </tr>\n",
       "    <tr>\n",
       "      <th>1</th>\n",
       "      <td>Coffee B</td>\n",
       "      <td>Bean-to-cup machine</td>\n",
       "      <td>19</td>\n",
       "      <td>1.414743</td>\n",
       "    </tr>\n",
       "    <tr>\n",
       "      <th>2</th>\n",
       "      <td>Coffee C</td>\n",
       "      <td>Bean-to-cup machine</td>\n",
       "      <td>22</td>\n",
       "      <td>1.647940</td>\n",
       "    </tr>\n",
       "    <tr>\n",
       "      <th>3</th>\n",
       "      <td>Coffee D</td>\n",
       "      <td>Bean-to-cup machine</td>\n",
       "      <td>19</td>\n",
       "      <td>0.711078</td>\n",
       "    </tr>\n",
       "    <tr>\n",
       "      <th>4</th>\n",
       "      <td>keine Angabe</td>\n",
       "      <td>Bean-to-cup machine</td>\n",
       "      <td>5</td>\n",
       "      <td>1.392758</td>\n",
       "    </tr>\n",
       "    <tr>\n",
       "      <th>5</th>\n",
       "      <td>Coffee A</td>\n",
       "      <td>Coffee brewing machine (e.g. Mr. Coffee)</td>\n",
       "      <td>129</td>\n",
       "      <td>8.958333</td>\n",
       "    </tr>\n",
       "    <tr>\n",
       "      <th>6</th>\n",
       "      <td>Coffee B</td>\n",
       "      <td>Coffee brewing machine (e.g. Mr. Coffee)</td>\n",
       "      <td>150</td>\n",
       "      <td>11.169025</td>\n",
       "    </tr>\n",
       "    <tr>\n",
       "      <th>7</th>\n",
       "      <td>Coffee C</td>\n",
       "      <td>Coffee brewing machine (e.g. Mr. Coffee)</td>\n",
       "      <td>189</td>\n",
       "      <td>14.157303</td>\n",
       "    </tr>\n",
       "    <tr>\n",
       "      <th>8</th>\n",
       "      <td>Coffee D</td>\n",
       "      <td>Coffee brewing machine (e.g. Mr. Coffee)</td>\n",
       "      <td>170</td>\n",
       "      <td>6.362275</td>\n",
       "    </tr>\n",
       "    <tr>\n",
       "      <th>9</th>\n",
       "      <td>keine Angabe</td>\n",
       "      <td>Coffee brewing machine (e.g. Mr. Coffee)</td>\n",
       "      <td>25</td>\n",
       "      <td>6.963788</td>\n",
       "    </tr>\n",
       "    <tr>\n",
       "      <th>10</th>\n",
       "      <td>Coffee A</td>\n",
       "      <td>Coffee extract (e.g. Cometeer)</td>\n",
       "      <td>30</td>\n",
       "      <td>2.083333</td>\n",
       "    </tr>\n",
       "    <tr>\n",
       "      <th>11</th>\n",
       "      <td>Coffee B</td>\n",
       "      <td>Coffee extract (e.g. Cometeer)</td>\n",
       "      <td>29</td>\n",
       "      <td>2.159345</td>\n",
       "    </tr>\n",
       "    <tr>\n",
       "      <th>12</th>\n",
       "      <td>Coffee C</td>\n",
       "      <td>Coffee extract (e.g. Cometeer)</td>\n",
       "      <td>31</td>\n",
       "      <td>2.322097</td>\n",
       "    </tr>\n",
       "    <tr>\n",
       "      <th>13</th>\n",
       "      <td>Coffee D</td>\n",
       "      <td>Coffee extract (e.g. Cometeer)</td>\n",
       "      <td>83</td>\n",
       "      <td>3.106287</td>\n",
       "    </tr>\n",
       "    <tr>\n",
       "      <th>14</th>\n",
       "      <td>keine Angabe</td>\n",
       "      <td>Coffee extract (e.g. Cometeer)</td>\n",
       "      <td>13</td>\n",
       "      <td>3.621170</td>\n",
       "    </tr>\n",
       "    <tr>\n",
       "      <th>15</th>\n",
       "      <td>Coffee A</td>\n",
       "      <td>Cold brew</td>\n",
       "      <td>87</td>\n",
       "      <td>6.041667</td>\n",
       "    </tr>\n",
       "    <tr>\n",
       "      <th>16</th>\n",
       "      <td>Coffee B</td>\n",
       "      <td>Cold brew</td>\n",
       "      <td>105</td>\n",
       "      <td>7.818317</td>\n",
       "    </tr>\n",
       "    <tr>\n",
       "      <th>17</th>\n",
       "      <td>Coffee C</td>\n",
       "      <td>Cold brew</td>\n",
       "      <td>100</td>\n",
       "      <td>7.490637</td>\n",
       "    </tr>\n",
       "    <tr>\n",
       "      <th>18</th>\n",
       "      <td>Coffee D</td>\n",
       "      <td>Cold brew</td>\n",
       "      <td>199</td>\n",
       "      <td>7.447605</td>\n",
       "    </tr>\n",
       "    <tr>\n",
       "      <th>19</th>\n",
       "      <td>keine Angabe</td>\n",
       "      <td>Cold brew</td>\n",
       "      <td>34</td>\n",
       "      <td>9.470752</td>\n",
       "    </tr>\n",
       "    <tr>\n",
       "      <th>20</th>\n",
       "      <td>Coffee A</td>\n",
       "      <td>Espresso</td>\n",
       "      <td>327</td>\n",
       "      <td>22.708333</td>\n",
       "    </tr>\n",
       "    <tr>\n",
       "      <th>21</th>\n",
       "      <td>Coffee B</td>\n",
       "      <td>Espresso</td>\n",
       "      <td>251</td>\n",
       "      <td>18.689501</td>\n",
       "    </tr>\n",
       "    <tr>\n",
       "      <th>22</th>\n",
       "      <td>Coffee C</td>\n",
       "      <td>Espresso</td>\n",
       "      <td>267</td>\n",
       "      <td>20.000000</td>\n",
       "    </tr>\n",
       "    <tr>\n",
       "      <th>23</th>\n",
       "      <td>Coffee D</td>\n",
       "      <td>Espresso</td>\n",
       "      <td>607</td>\n",
       "      <td>22.717066</td>\n",
       "    </tr>\n",
       "    <tr>\n",
       "      <th>24</th>\n",
       "      <td>keine Angabe</td>\n",
       "      <td>Espresso</td>\n",
       "      <td>66</td>\n",
       "      <td>18.384401</td>\n",
       "    </tr>\n",
       "    <tr>\n",
       "      <th>25</th>\n",
       "      <td>Coffee A</td>\n",
       "      <td>French press</td>\n",
       "      <td>134</td>\n",
       "      <td>9.305556</td>\n",
       "    </tr>\n",
       "    <tr>\n",
       "      <th>26</th>\n",
       "      <td>Coffee B</td>\n",
       "      <td>French press</td>\n",
       "      <td>169</td>\n",
       "      <td>12.583768</td>\n",
       "    </tr>\n",
       "    <tr>\n",
       "      <th>27</th>\n",
       "      <td>Coffee C</td>\n",
       "      <td>French press</td>\n",
       "      <td>141</td>\n",
       "      <td>10.561798</td>\n",
       "    </tr>\n",
       "    <tr>\n",
       "      <th>28</th>\n",
       "      <td>Coffee D</td>\n",
       "      <td>French press</td>\n",
       "      <td>255</td>\n",
       "      <td>9.543413</td>\n",
       "    </tr>\n",
       "    <tr>\n",
       "      <th>29</th>\n",
       "      <td>keine Angabe</td>\n",
       "      <td>French press</td>\n",
       "      <td>36</td>\n",
       "      <td>10.027855</td>\n",
       "    </tr>\n",
       "    <tr>\n",
       "      <th>30</th>\n",
       "      <td>Coffee A</td>\n",
       "      <td>Instant coffee</td>\n",
       "      <td>19</td>\n",
       "      <td>1.319444</td>\n",
       "    </tr>\n",
       "    <tr>\n",
       "      <th>31</th>\n",
       "      <td>Coffee B</td>\n",
       "      <td>Instant coffee</td>\n",
       "      <td>28</td>\n",
       "      <td>2.084885</td>\n",
       "    </tr>\n",
       "    <tr>\n",
       "      <th>32</th>\n",
       "      <td>Coffee C</td>\n",
       "      <td>Instant coffee</td>\n",
       "      <td>41</td>\n",
       "      <td>3.071161</td>\n",
       "    </tr>\n",
       "    <tr>\n",
       "      <th>33</th>\n",
       "      <td>Coffee D</td>\n",
       "      <td>Instant coffee</td>\n",
       "      <td>35</td>\n",
       "      <td>1.309880</td>\n",
       "    </tr>\n",
       "    <tr>\n",
       "      <th>34</th>\n",
       "      <td>keine Angabe</td>\n",
       "      <td>Instant coffee</td>\n",
       "      <td>7</td>\n",
       "      <td>1.949861</td>\n",
       "    </tr>\n",
       "    <tr>\n",
       "      <th>35</th>\n",
       "      <td>Coffee A</td>\n",
       "      <td>Other</td>\n",
       "      <td>134</td>\n",
       "      <td>9.305556</td>\n",
       "    </tr>\n",
       "    <tr>\n",
       "      <th>36</th>\n",
       "      <td>Coffee B</td>\n",
       "      <td>Other</td>\n",
       "      <td>128</td>\n",
       "      <td>9.530901</td>\n",
       "    </tr>\n",
       "    <tr>\n",
       "      <th>37</th>\n",
       "      <td>Coffee C</td>\n",
       "      <td>Other</td>\n",
       "      <td>120</td>\n",
       "      <td>8.988764</td>\n",
       "    </tr>\n",
       "    <tr>\n",
       "      <th>38</th>\n",
       "      <td>Coffee D</td>\n",
       "      <td>Other</td>\n",
       "      <td>256</td>\n",
       "      <td>9.580838</td>\n",
       "    </tr>\n",
       "    <tr>\n",
       "      <th>39</th>\n",
       "      <td>keine Angabe</td>\n",
       "      <td>Other</td>\n",
       "      <td>39</td>\n",
       "      <td>10.863510</td>\n",
       "    </tr>\n",
       "    <tr>\n",
       "      <th>40</th>\n",
       "      <td>Coffee A</td>\n",
       "      <td>Pod/capsule machine (e.g. Keurig/Nespresso)</td>\n",
       "      <td>66</td>\n",
       "      <td>4.583333</td>\n",
       "    </tr>\n",
       "    <tr>\n",
       "      <th>41</th>\n",
       "      <td>Coffee B</td>\n",
       "      <td>Pod/capsule machine (e.g. Keurig/Nespresso)</td>\n",
       "      <td>98</td>\n",
       "      <td>7.297096</td>\n",
       "    </tr>\n",
       "    <tr>\n",
       "      <th>42</th>\n",
       "      <td>Coffee C</td>\n",
       "      <td>Pod/capsule machine (e.g. Keurig/Nespresso)</td>\n",
       "      <td>73</td>\n",
       "      <td>5.468165</td>\n",
       "    </tr>\n",
       "    <tr>\n",
       "      <th>43</th>\n",
       "      <td>Coffee D</td>\n",
       "      <td>Pod/capsule machine (e.g. Keurig/Nespresso)</td>\n",
       "      <td>79</td>\n",
       "      <td>2.956587</td>\n",
       "    </tr>\n",
       "    <tr>\n",
       "      <th>44</th>\n",
       "      <td>keine Angabe</td>\n",
       "      <td>Pod/capsule machine (e.g. Keurig/Nespresso)</td>\n",
       "      <td>20</td>\n",
       "      <td>5.571031</td>\n",
       "    </tr>\n",
       "    <tr>\n",
       "      <th>45</th>\n",
       "      <td>Coffee A</td>\n",
       "      <td>Pour over</td>\n",
       "      <td>495</td>\n",
       "      <td>34.375000</td>\n",
       "    </tr>\n",
       "    <tr>\n",
       "      <th>46</th>\n",
       "      <td>Coffee B</td>\n",
       "      <td>Pour over</td>\n",
       "      <td>366</td>\n",
       "      <td>27.252420</td>\n",
       "    </tr>\n",
       "    <tr>\n",
       "      <th>47</th>\n",
       "      <td>Coffee C</td>\n",
       "      <td>Pour over</td>\n",
       "      <td>351</td>\n",
       "      <td>26.292135</td>\n",
       "    </tr>\n",
       "    <tr>\n",
       "      <th>48</th>\n",
       "      <td>Coffee D</td>\n",
       "      <td>Pour over</td>\n",
       "      <td>969</td>\n",
       "      <td>36.264970</td>\n",
       "    </tr>\n",
       "    <tr>\n",
       "      <th>49</th>\n",
       "      <td>keine Angabe</td>\n",
       "      <td>Pour over</td>\n",
       "      <td>114</td>\n",
       "      <td>31.754875</td>\n",
       "    </tr>\n",
       "  </tbody>\n",
       "</table>\n",
       "</div>"
      ],
      "text/plain": [
       "   prefer_overall                                  Zubereitung  Anzahl  \\\n",
       "0        Coffee A                          Bean-to-cup machine      19   \n",
       "1        Coffee B                          Bean-to-cup machine      19   \n",
       "2        Coffee C                          Bean-to-cup machine      22   \n",
       "3        Coffee D                          Bean-to-cup machine      19   \n",
       "4    keine Angabe                          Bean-to-cup machine       5   \n",
       "5        Coffee A     Coffee brewing machine (e.g. Mr. Coffee)     129   \n",
       "6        Coffee B     Coffee brewing machine (e.g. Mr. Coffee)     150   \n",
       "7        Coffee C     Coffee brewing machine (e.g. Mr. Coffee)     189   \n",
       "8        Coffee D     Coffee brewing machine (e.g. Mr. Coffee)     170   \n",
       "9    keine Angabe     Coffee brewing machine (e.g. Mr. Coffee)      25   \n",
       "10       Coffee A               Coffee extract (e.g. Cometeer)      30   \n",
       "11       Coffee B               Coffee extract (e.g. Cometeer)      29   \n",
       "12       Coffee C               Coffee extract (e.g. Cometeer)      31   \n",
       "13       Coffee D               Coffee extract (e.g. Cometeer)      83   \n",
       "14   keine Angabe               Coffee extract (e.g. Cometeer)      13   \n",
       "15       Coffee A                                    Cold brew      87   \n",
       "16       Coffee B                                    Cold brew     105   \n",
       "17       Coffee C                                    Cold brew     100   \n",
       "18       Coffee D                                    Cold brew     199   \n",
       "19   keine Angabe                                    Cold brew      34   \n",
       "20       Coffee A                                     Espresso     327   \n",
       "21       Coffee B                                     Espresso     251   \n",
       "22       Coffee C                                     Espresso     267   \n",
       "23       Coffee D                                     Espresso     607   \n",
       "24   keine Angabe                                     Espresso      66   \n",
       "25       Coffee A                                 French press     134   \n",
       "26       Coffee B                                 French press     169   \n",
       "27       Coffee C                                 French press     141   \n",
       "28       Coffee D                                 French press     255   \n",
       "29   keine Angabe                                 French press      36   \n",
       "30       Coffee A                               Instant coffee      19   \n",
       "31       Coffee B                               Instant coffee      28   \n",
       "32       Coffee C                               Instant coffee      41   \n",
       "33       Coffee D                               Instant coffee      35   \n",
       "34   keine Angabe                               Instant coffee       7   \n",
       "35       Coffee A                                        Other     134   \n",
       "36       Coffee B                                        Other     128   \n",
       "37       Coffee C                                        Other     120   \n",
       "38       Coffee D                                        Other     256   \n",
       "39   keine Angabe                                        Other      39   \n",
       "40       Coffee A  Pod/capsule machine (e.g. Keurig/Nespresso)      66   \n",
       "41       Coffee B  Pod/capsule machine (e.g. Keurig/Nespresso)      98   \n",
       "42       Coffee C  Pod/capsule machine (e.g. Keurig/Nespresso)      73   \n",
       "43       Coffee D  Pod/capsule machine (e.g. Keurig/Nespresso)      79   \n",
       "44   keine Angabe  Pod/capsule machine (e.g. Keurig/Nespresso)      20   \n",
       "45       Coffee A                                    Pour over     495   \n",
       "46       Coffee B                                    Pour over     366   \n",
       "47       Coffee C                                    Pour over     351   \n",
       "48       Coffee D                                    Pour over     969   \n",
       "49   keine Angabe                                    Pour over     114   \n",
       "\n",
       "      Prozent  \n",
       "0    1.319444  \n",
       "1    1.414743  \n",
       "2    1.647940  \n",
       "3    0.711078  \n",
       "4    1.392758  \n",
       "5    8.958333  \n",
       "6   11.169025  \n",
       "7   14.157303  \n",
       "8    6.362275  \n",
       "9    6.963788  \n",
       "10   2.083333  \n",
       "11   2.159345  \n",
       "12   2.322097  \n",
       "13   3.106287  \n",
       "14   3.621170  \n",
       "15   6.041667  \n",
       "16   7.818317  \n",
       "17   7.490637  \n",
       "18   7.447605  \n",
       "19   9.470752  \n",
       "20  22.708333  \n",
       "21  18.689501  \n",
       "22  20.000000  \n",
       "23  22.717066  \n",
       "24  18.384401  \n",
       "25   9.305556  \n",
       "26  12.583768  \n",
       "27  10.561798  \n",
       "28   9.543413  \n",
       "29  10.027855  \n",
       "30   1.319444  \n",
       "31   2.084885  \n",
       "32   3.071161  \n",
       "33   1.309880  \n",
       "34   1.949861  \n",
       "35   9.305556  \n",
       "36   9.530901  \n",
       "37   8.988764  \n",
       "38   9.580838  \n",
       "39  10.863510  \n",
       "40   4.583333  \n",
       "41   7.297096  \n",
       "42   5.468165  \n",
       "43   2.956587  \n",
       "44   5.571031  \n",
       "45  34.375000  \n",
       "46  27.252420  \n",
       "47  26.292135  \n",
       "48  36.264970  \n",
       "49  31.754875  "
      ]
     },
     "execution_count": 26,
     "metadata": {},
     "output_type": "execute_result"
    }
   ],
   "source": [
    "df_cat = df_brew.groupby(\"prefer_overall\")[list(brew) + [\"brew keine Angabe\"]].sum().reset_index()\n",
    "\n",
    "\n",
    "# long format\n",
    "df_cat_long = df_cat.melt(\n",
    "    id_vars=\"prefer_overall\",\n",
    "    var_name=\"Zubereitung\",\n",
    "    value_name=\"Anzahl\"\n",
    ")\n",
    "\n",
    "# \"brew \" aus Spaltennamen entfernen\n",
    "df_cat_long[\"Zubereitung\"] = df_cat_long[\"Zubereitung\"].str.replace(\"brew \", \"\", regex=False)\n",
    "df_cat_long = df_cat_long[df_cat_long[\"Zubereitung\"] != \"keine Angabe\"]\n",
    "df_cat_long['Prozent'] = df_cat_long.groupby('prefer_overall')['Anzahl'].transform(lambda x: 100 * x / x.sum())\n",
    "df_cat_long"
   ]
  },
  {
   "cell_type": "code",
   "execution_count": 28,
   "id": "e0b80cd3-8c77-4ae2-a0d9-4c18dfb57da4",
   "metadata": {},
   "outputs": [
    {
     "data": {
      "application/vnd.plotly.v1+json": {
       "config": {
        "plotlyServerURL": "https://plot.ly"
       },
       "data": [
        {
         "alignmentgroup": "True",
         "hovertemplate": "prefer_overall=Coffee A<br>Zubereitung=%{x}<br>Anzahl=%{y}<extra></extra>",
         "legendgroup": "Coffee A",
         "marker": {
          "color": "#d2b48c",
          "pattern": {
           "shape": ""
          }
         },
         "name": "Coffee A",
         "offsetgroup": "Coffee A",
         "orientation": "v",
         "showlegend": true,
         "textposition": "auto",
         "type": "bar",
         "x": [
          "Bean-to-cup machine",
          "Coffee brewing machine (e.g. Mr. Coffee)",
          "Coffee extract (e.g. Cometeer)",
          "Cold brew",
          "Espresso",
          "French press",
          "Instant coffee",
          "Other",
          "Pod/capsule machine (e.g. Keurig/Nespresso)",
          "Pour over"
         ],
         "xaxis": "x",
         "y": {
          "bdata": "EwCBAB4AVwBHAYYAEwCGAEIA7wE=",
          "dtype": "i2"
         },
         "yaxis": "y"
        },
        {
         "alignmentgroup": "True",
         "hovertemplate": "prefer_overall=Coffee B<br>Zubereitung=%{x}<br>Anzahl=%{y}<extra></extra>",
         "legendgroup": "Coffee B",
         "marker": {
          "color": "#a0522d",
          "pattern": {
           "shape": ""
          }
         },
         "name": "Coffee B",
         "offsetgroup": "Coffee B",
         "orientation": "v",
         "showlegend": true,
         "textposition": "auto",
         "type": "bar",
         "x": [
          "Bean-to-cup machine",
          "Coffee brewing machine (e.g. Mr. Coffee)",
          "Coffee extract (e.g. Cometeer)",
          "Cold brew",
          "Espresso",
          "French press",
          "Instant coffee",
          "Other",
          "Pod/capsule machine (e.g. Keurig/Nespresso)",
          "Pour over"
         ],
         "xaxis": "x",
         "y": {
          "bdata": "EwCWAB0AaQD7AKkAHACAAGIAbgE=",
          "dtype": "i2"
         },
         "yaxis": "y"
        },
        {
         "alignmentgroup": "True",
         "hovertemplate": "prefer_overall=Coffee C<br>Zubereitung=%{x}<br>Anzahl=%{y}<extra></extra>",
         "legendgroup": "Coffee C",
         "marker": {
          "color": "#5c3317",
          "pattern": {
           "shape": ""
          }
         },
         "name": "Coffee C",
         "offsetgroup": "Coffee C",
         "orientation": "v",
         "showlegend": true,
         "textposition": "auto",
         "type": "bar",
         "x": [
          "Bean-to-cup machine",
          "Coffee brewing machine (e.g. Mr. Coffee)",
          "Coffee extract (e.g. Cometeer)",
          "Cold brew",
          "Espresso",
          "French press",
          "Instant coffee",
          "Other",
          "Pod/capsule machine (e.g. Keurig/Nespresso)",
          "Pour over"
         ],
         "xaxis": "x",
         "y": {
          "bdata": "FgC9AB8AZAALAY0AKQB4AEkAXwE=",
          "dtype": "i2"
         },
         "yaxis": "y"
        },
        {
         "alignmentgroup": "True",
         "hovertemplate": "prefer_overall=Coffee D<br>Zubereitung=%{x}<br>Anzahl=%{y}<extra></extra>",
         "legendgroup": "Coffee D",
         "marker": {
          "color": "#d2b48c",
          "pattern": {
           "shape": "/"
          }
         },
         "name": "Coffee D",
         "offsetgroup": "Coffee D",
         "orientation": "v",
         "showlegend": true,
         "textposition": "auto",
         "type": "bar",
         "x": [
          "Bean-to-cup machine",
          "Coffee brewing machine (e.g. Mr. Coffee)",
          "Coffee extract (e.g. Cometeer)",
          "Cold brew",
          "Espresso",
          "French press",
          "Instant coffee",
          "Other",
          "Pod/capsule machine (e.g. Keurig/Nespresso)",
          "Pour over"
         ],
         "xaxis": "x",
         "y": {
          "bdata": "EwCqAFMAxwBfAv8AIwAAAU8AyQM=",
          "dtype": "i2"
         },
         "yaxis": "y"
        },
        {
         "alignmentgroup": "True",
         "hovertemplate": "prefer_overall=keine Angabe<br>Zubereitung=%{x}<br>Anzahl=%{y}<extra></extra>",
         "legendgroup": "keine Angabe",
         "marker": {
          "color": "#d3d3d3",
          "pattern": {
           "shape": ""
          }
         },
         "name": "keine Angabe",
         "offsetgroup": "keine Angabe",
         "orientation": "v",
         "showlegend": true,
         "textposition": "auto",
         "type": "bar",
         "x": [
          "Bean-to-cup machine",
          "Coffee brewing machine (e.g. Mr. Coffee)",
          "Coffee extract (e.g. Cometeer)",
          "Cold brew",
          "Espresso",
          "French press",
          "Instant coffee",
          "Other",
          "Pod/capsule machine (e.g. Keurig/Nespresso)",
          "Pour over"
         ],
         "xaxis": "x",
         "y": {
          "bdata": "BRkNIkIkBycUcg==",
          "dtype": "i1"
         },
         "yaxis": "y"
        }
       ],
       "layout": {
        "barmode": "group",
        "legend": {
         "title": {
          "text": "prefer_overall"
         },
         "tracegroupgap": 0
        },
        "margin": {
         "t": 60
        },
        "template": {
         "data": {
          "bar": [
           {
            "error_x": {
             "color": "#2a3f5f"
            },
            "error_y": {
             "color": "#2a3f5f"
            },
            "marker": {
             "line": {
              "color": "white",
              "width": 0.5
             },
             "pattern": {
              "fillmode": "overlay",
              "size": 10,
              "solidity": 0.2
             }
            },
            "type": "bar"
           }
          ],
          "barpolar": [
           {
            "marker": {
             "line": {
              "color": "white",
              "width": 0.5
             },
             "pattern": {
              "fillmode": "overlay",
              "size": 10,
              "solidity": 0.2
             }
            },
            "type": "barpolar"
           }
          ],
          "carpet": [
           {
            "aaxis": {
             "endlinecolor": "#2a3f5f",
             "gridcolor": "#C8D4E3",
             "linecolor": "#C8D4E3",
             "minorgridcolor": "#C8D4E3",
             "startlinecolor": "#2a3f5f"
            },
            "baxis": {
             "endlinecolor": "#2a3f5f",
             "gridcolor": "#C8D4E3",
             "linecolor": "#C8D4E3",
             "minorgridcolor": "#C8D4E3",
             "startlinecolor": "#2a3f5f"
            },
            "type": "carpet"
           }
          ],
          "choropleth": [
           {
            "colorbar": {
             "outlinewidth": 0,
             "ticks": ""
            },
            "type": "choropleth"
           }
          ],
          "contour": [
           {
            "colorbar": {
             "outlinewidth": 0,
             "ticks": ""
            },
            "colorscale": [
             [
              0,
              "#0d0887"
             ],
             [
              0.1111111111111111,
              "#46039f"
             ],
             [
              0.2222222222222222,
              "#7201a8"
             ],
             [
              0.3333333333333333,
              "#9c179e"
             ],
             [
              0.4444444444444444,
              "#bd3786"
             ],
             [
              0.5555555555555556,
              "#d8576b"
             ],
             [
              0.6666666666666666,
              "#ed7953"
             ],
             [
              0.7777777777777778,
              "#fb9f3a"
             ],
             [
              0.8888888888888888,
              "#fdca26"
             ],
             [
              1,
              "#f0f921"
             ]
            ],
            "type": "contour"
           }
          ],
          "contourcarpet": [
           {
            "colorbar": {
             "outlinewidth": 0,
             "ticks": ""
            },
            "type": "contourcarpet"
           }
          ],
          "heatmap": [
           {
            "colorbar": {
             "outlinewidth": 0,
             "ticks": ""
            },
            "colorscale": [
             [
              0,
              "#0d0887"
             ],
             [
              0.1111111111111111,
              "#46039f"
             ],
             [
              0.2222222222222222,
              "#7201a8"
             ],
             [
              0.3333333333333333,
              "#9c179e"
             ],
             [
              0.4444444444444444,
              "#bd3786"
             ],
             [
              0.5555555555555556,
              "#d8576b"
             ],
             [
              0.6666666666666666,
              "#ed7953"
             ],
             [
              0.7777777777777778,
              "#fb9f3a"
             ],
             [
              0.8888888888888888,
              "#fdca26"
             ],
             [
              1,
              "#f0f921"
             ]
            ],
            "type": "heatmap"
           }
          ],
          "histogram": [
           {
            "marker": {
             "pattern": {
              "fillmode": "overlay",
              "size": 10,
              "solidity": 0.2
             }
            },
            "type": "histogram"
           }
          ],
          "histogram2d": [
           {
            "colorbar": {
             "outlinewidth": 0,
             "ticks": ""
            },
            "colorscale": [
             [
              0,
              "#0d0887"
             ],
             [
              0.1111111111111111,
              "#46039f"
             ],
             [
              0.2222222222222222,
              "#7201a8"
             ],
             [
              0.3333333333333333,
              "#9c179e"
             ],
             [
              0.4444444444444444,
              "#bd3786"
             ],
             [
              0.5555555555555556,
              "#d8576b"
             ],
             [
              0.6666666666666666,
              "#ed7953"
             ],
             [
              0.7777777777777778,
              "#fb9f3a"
             ],
             [
              0.8888888888888888,
              "#fdca26"
             ],
             [
              1,
              "#f0f921"
             ]
            ],
            "type": "histogram2d"
           }
          ],
          "histogram2dcontour": [
           {
            "colorbar": {
             "outlinewidth": 0,
             "ticks": ""
            },
            "colorscale": [
             [
              0,
              "#0d0887"
             ],
             [
              0.1111111111111111,
              "#46039f"
             ],
             [
              0.2222222222222222,
              "#7201a8"
             ],
             [
              0.3333333333333333,
              "#9c179e"
             ],
             [
              0.4444444444444444,
              "#bd3786"
             ],
             [
              0.5555555555555556,
              "#d8576b"
             ],
             [
              0.6666666666666666,
              "#ed7953"
             ],
             [
              0.7777777777777778,
              "#fb9f3a"
             ],
             [
              0.8888888888888888,
              "#fdca26"
             ],
             [
              1,
              "#f0f921"
             ]
            ],
            "type": "histogram2dcontour"
           }
          ],
          "mesh3d": [
           {
            "colorbar": {
             "outlinewidth": 0,
             "ticks": ""
            },
            "type": "mesh3d"
           }
          ],
          "parcoords": [
           {
            "line": {
             "colorbar": {
              "outlinewidth": 0,
              "ticks": ""
             }
            },
            "type": "parcoords"
           }
          ],
          "pie": [
           {
            "automargin": true,
            "type": "pie"
           }
          ],
          "scatter": [
           {
            "fillpattern": {
             "fillmode": "overlay",
             "size": 10,
             "solidity": 0.2
            },
            "type": "scatter"
           }
          ],
          "scatter3d": [
           {
            "line": {
             "colorbar": {
              "outlinewidth": 0,
              "ticks": ""
             }
            },
            "marker": {
             "colorbar": {
              "outlinewidth": 0,
              "ticks": ""
             }
            },
            "type": "scatter3d"
           }
          ],
          "scattercarpet": [
           {
            "marker": {
             "colorbar": {
              "outlinewidth": 0,
              "ticks": ""
             }
            },
            "type": "scattercarpet"
           }
          ],
          "scattergeo": [
           {
            "marker": {
             "colorbar": {
              "outlinewidth": 0,
              "ticks": ""
             }
            },
            "type": "scattergeo"
           }
          ],
          "scattergl": [
           {
            "marker": {
             "colorbar": {
              "outlinewidth": 0,
              "ticks": ""
             }
            },
            "type": "scattergl"
           }
          ],
          "scattermap": [
           {
            "marker": {
             "colorbar": {
              "outlinewidth": 0,
              "ticks": ""
             }
            },
            "type": "scattermap"
           }
          ],
          "scattermapbox": [
           {
            "marker": {
             "colorbar": {
              "outlinewidth": 0,
              "ticks": ""
             }
            },
            "type": "scattermapbox"
           }
          ],
          "scatterpolar": [
           {
            "marker": {
             "colorbar": {
              "outlinewidth": 0,
              "ticks": ""
             }
            },
            "type": "scatterpolar"
           }
          ],
          "scatterpolargl": [
           {
            "marker": {
             "colorbar": {
              "outlinewidth": 0,
              "ticks": ""
             }
            },
            "type": "scatterpolargl"
           }
          ],
          "scatterternary": [
           {
            "marker": {
             "colorbar": {
              "outlinewidth": 0,
              "ticks": ""
             }
            },
            "type": "scatterternary"
           }
          ],
          "surface": [
           {
            "colorbar": {
             "outlinewidth": 0,
             "ticks": ""
            },
            "colorscale": [
             [
              0,
              "#0d0887"
             ],
             [
              0.1111111111111111,
              "#46039f"
             ],
             [
              0.2222222222222222,
              "#7201a8"
             ],
             [
              0.3333333333333333,
              "#9c179e"
             ],
             [
              0.4444444444444444,
              "#bd3786"
             ],
             [
              0.5555555555555556,
              "#d8576b"
             ],
             [
              0.6666666666666666,
              "#ed7953"
             ],
             [
              0.7777777777777778,
              "#fb9f3a"
             ],
             [
              0.8888888888888888,
              "#fdca26"
             ],
             [
              1,
              "#f0f921"
             ]
            ],
            "type": "surface"
           }
          ],
          "table": [
           {
            "cells": {
             "fill": {
              "color": "#EBF0F8"
             },
             "line": {
              "color": "white"
             }
            },
            "header": {
             "fill": {
              "color": "#C8D4E3"
             },
             "line": {
              "color": "white"
             }
            },
            "type": "table"
           }
          ]
         },
         "layout": {
          "annotationdefaults": {
           "arrowcolor": "#2a3f5f",
           "arrowhead": 0,
           "arrowwidth": 1
          },
          "autotypenumbers": "strict",
          "coloraxis": {
           "colorbar": {
            "outlinewidth": 0,
            "ticks": ""
           }
          },
          "colorscale": {
           "diverging": [
            [
             0,
             "#8e0152"
            ],
            [
             0.1,
             "#c51b7d"
            ],
            [
             0.2,
             "#de77ae"
            ],
            [
             0.3,
             "#f1b6da"
            ],
            [
             0.4,
             "#fde0ef"
            ],
            [
             0.5,
             "#f7f7f7"
            ],
            [
             0.6,
             "#e6f5d0"
            ],
            [
             0.7,
             "#b8e186"
            ],
            [
             0.8,
             "#7fbc41"
            ],
            [
             0.9,
             "#4d9221"
            ],
            [
             1,
             "#276419"
            ]
           ],
           "sequential": [
            [
             0,
             "#0d0887"
            ],
            [
             0.1111111111111111,
             "#46039f"
            ],
            [
             0.2222222222222222,
             "#7201a8"
            ],
            [
             0.3333333333333333,
             "#9c179e"
            ],
            [
             0.4444444444444444,
             "#bd3786"
            ],
            [
             0.5555555555555556,
             "#d8576b"
            ],
            [
             0.6666666666666666,
             "#ed7953"
            ],
            [
             0.7777777777777778,
             "#fb9f3a"
            ],
            [
             0.8888888888888888,
             "#fdca26"
            ],
            [
             1,
             "#f0f921"
            ]
           ],
           "sequentialminus": [
            [
             0,
             "#0d0887"
            ],
            [
             0.1111111111111111,
             "#46039f"
            ],
            [
             0.2222222222222222,
             "#7201a8"
            ],
            [
             0.3333333333333333,
             "#9c179e"
            ],
            [
             0.4444444444444444,
             "#bd3786"
            ],
            [
             0.5555555555555556,
             "#d8576b"
            ],
            [
             0.6666666666666666,
             "#ed7953"
            ],
            [
             0.7777777777777778,
             "#fb9f3a"
            ],
            [
             0.8888888888888888,
             "#fdca26"
            ],
            [
             1,
             "#f0f921"
            ]
           ]
          },
          "colorway": [
           "#636efa",
           "#EF553B",
           "#00cc96",
           "#ab63fa",
           "#FFA15A",
           "#19d3f3",
           "#FF6692",
           "#B6E880",
           "#FF97FF",
           "#FECB52"
          ],
          "font": {
           "color": "#2a3f5f"
          },
          "geo": {
           "bgcolor": "white",
           "lakecolor": "white",
           "landcolor": "white",
           "showlakes": true,
           "showland": true,
           "subunitcolor": "#C8D4E3"
          },
          "hoverlabel": {
           "align": "left"
          },
          "hovermode": "closest",
          "mapbox": {
           "style": "light"
          },
          "paper_bgcolor": "white",
          "plot_bgcolor": "white",
          "polar": {
           "angularaxis": {
            "gridcolor": "#EBF0F8",
            "linecolor": "#EBF0F8",
            "ticks": ""
           },
           "bgcolor": "white",
           "radialaxis": {
            "gridcolor": "#EBF0F8",
            "linecolor": "#EBF0F8",
            "ticks": ""
           }
          },
          "scene": {
           "xaxis": {
            "backgroundcolor": "white",
            "gridcolor": "#DFE8F3",
            "gridwidth": 2,
            "linecolor": "#EBF0F8",
            "showbackground": true,
            "ticks": "",
            "zerolinecolor": "#EBF0F8"
           },
           "yaxis": {
            "backgroundcolor": "white",
            "gridcolor": "#DFE8F3",
            "gridwidth": 2,
            "linecolor": "#EBF0F8",
            "showbackground": true,
            "ticks": "",
            "zerolinecolor": "#EBF0F8"
           },
           "zaxis": {
            "backgroundcolor": "white",
            "gridcolor": "#DFE8F3",
            "gridwidth": 2,
            "linecolor": "#EBF0F8",
            "showbackground": true,
            "ticks": "",
            "zerolinecolor": "#EBF0F8"
           }
          },
          "shapedefaults": {
           "line": {
            "color": "#2a3f5f"
           }
          },
          "ternary": {
           "aaxis": {
            "gridcolor": "#DFE8F3",
            "linecolor": "#A2B1C6",
            "ticks": ""
           },
           "baxis": {
            "gridcolor": "#DFE8F3",
            "linecolor": "#A2B1C6",
            "ticks": ""
           },
           "bgcolor": "white",
           "caxis": {
            "gridcolor": "#DFE8F3",
            "linecolor": "#A2B1C6",
            "ticks": ""
           }
          },
          "title": {
           "x": 0.05
          },
          "xaxis": {
           "automargin": true,
           "gridcolor": "#EBF0F8",
           "linecolor": "#EBF0F8",
           "ticks": "",
           "title": {
            "standoff": 15
           },
           "zerolinecolor": "#EBF0F8",
           "zerolinewidth": 2
          },
          "yaxis": {
           "automargin": true,
           "gridcolor": "#EBF0F8",
           "linecolor": "#EBF0F8",
           "ticks": "",
           "title": {
            "standoff": 15
           },
           "zerolinecolor": "#EBF0F8",
           "zerolinewidth": 2
          }
         }
        },
        "xaxis": {
         "anchor": "y",
         "domain": [
          0,
          1
         ],
         "title": {
          "text": "Zubereitung"
         }
        },
        "yaxis": {
         "anchor": "x",
         "domain": [
          0,
          1
         ],
         "title": {
          "text": "Anzahl"
         }
        }
       }
      },
      "image/png": "[encoded data removed]"
     },
     "metadata": {},
     "output_type": "display_data"
    }
   ],
   "source": [
    "# Plot\n",
    "\n",
    "fig = px.bar(df_cat_long, y=\"Anzahl\", x=\"Zubereitung\", color=\"prefer_overall\", \n",
    "             pattern_shape=\"prefer_overall\",\n",
    "             color_discrete_map=c_map,\n",
    "             pattern_shape_map=p_map,\n",
    "             template=\"plotly_white\",\n",
    "             barmode=\"group\",\n",
    "             category_orders={\"prefer_overall\": coffee_order})\n",
    "fig.update_layout(xaxis_title=\"Zubereitung\", yaxis_title=\"Anzahl\")"
   ]
  },
  {
   "cell_type": "markdown",
   "id": "d46511e3-2f9f-4e9e-aea0-422986dd8df1",
   "metadata": {},
   "source": [
    "## Dashboard Kaffeeempfehlung"
   ]
  },
  {
   "cell_type": "markdown",
   "id": "f2c9a564-4131-4131-889e-f8081ec88570",
   "metadata": {},
   "source": [
    "Da die Gruppe sich zunehmend verkleinert, je mehr Variablen zur Auswahl zur Verfügung stehen und damit die Aussagekraft fragwürdig wird,\n",
    "muss eine Auswahl der Variablen, die einen Einfluss auf die bevorzugte Kaffeesorte haben stattfinden. Einen großen Einfluss scheinen Alter, \n",
    "Geschlecht, Expertise, Röstgrad und Geschmacksrichtung zu haben. Bevorzugtes Kaffeegetränk hat einen vergleichsweise geringen Einfluss und ist deswegen\n",
    "der einfachheithalber nicht im Dashboard enthalten. Trotzdem ist je nach Auswahl der verbleibende Datensatz sehr klein, sodass für ein aussagekräftiges\n",
    "Tool noch weitere Daten erhoben werden sollten."
   ]
  },
  {
   "cell_type": "code",
   "execution_count": null,
   "id": "4ac732a5-8302-49c8-92a1-72e7baa57d5d",
   "metadata": {},
   "outputs": [],
   "source": [
    "# App initialisieren \n",
    "app = Dash()\n",
    "\n",
    "app.layout = html.Div([\n",
    "    html.Div(className='row', children='Kaffeeempfehlung',\n",
    "             style={'textAlign': 'center', 'fontSize': 30}),\n",
    "    html.Hr(),\n",
    "\n",
    "    html.Div(style={'display': 'flex', 'justifyContent': 'space-between'}, children=[\n",
    "        html.Div([\n",
    "            html.Label(\"Alter\", style={'marginTop': '10px'}),\n",
    "            dcc.Dropdown(id=\"age-dropdown\", options=[{'label': a, 'value': a} for a in df_clean['age'].unique() if a != 'keine Angabe'] + [{'label': 'Alle', 'value': 'all'}],\n",
    "                         value='all',\n",
    "                        style={'marginBottom': '20px'}),\n",
    "\n",
    "            html.Label(\"Geschlecht\", style={'marginTop': '10px'}),\n",
    "            dcc.Dropdown(id=\"gender-dropdown\", options=[{'label': g, 'value': g} for g in df_clean['gender'].unique() if g != 'keine Angabe'] + [{'label': 'Alle', 'value': 'all'}],\n",
    "                         value='all',\n",
    "                        style={'marginBottom': '20px'}),\n",
    "\n",
    "            html.Label(\"Bevorzugte Röstung\", style={'marginTop': '10px'}),\n",
    "            dcc.Dropdown(id=\"roast-dropdown\", options=[{'label': r, 'value': r} for r in df_clean['roast_level'].unique() if r != 'keine Angabe'] + [{'label': 'Alle', 'value': 'all'}],\n",
    "                         value='all',\n",
    "                        style={'marginBottom': '20px'}),\n",
    "            \n",
    "            html.Label(\"Bevorzugter Geschmack\", style={'marginTop': '10px'}),\n",
    "            dcc.Dropdown(id=\"taste-dropdown\", options=[{'label': t, 'value': t} for t in df_clean['style'].unique() if r != 'keine Angabe'] + [{'label': 'Alle', 'value': 'all'}],\n",
    "                         value='all',\n",
    "                        style={'marginBottom': '20px'}),\n",
    "            \n",
    "            html.Label(\"Expertise\", style={'marginTop': '20px'}),\n",
    "            dcc.RangeSlider(\n",
    "                id='expertise-slider',\n",
    "                min=df_clean['expertise'].min(),\n",
    "                max=df_clean['expertise'].max(),\n",
    "                step=1,\n",
    "                value=[df_clean['expertise'].min(), df_clean['expertise'].max()],\n",
    "                marks={i: str(i) for i in sorted(df_clean['expertise'].unique())},\n",
    "                tooltip={\"placement\": \"bottom\", \"always_visible\": True}\n",
    "            ),\n",
    "        ], style={'width': '45%'}),\n",
    "\n",
    "        html.Div([\n",
    "            html.Div(id='summary-text', style={'fontSize': 18, 'marginBottom': 10}),\n",
    "            dcc.Graph(id='pie-plot')\n",
    "        ], style={'width': '50%', 'paddingLeft': '20px'})\n",
    "    ])\n",
    "])\n",
    "\n",
    "\n",
    "@app.callback(\n",
    "    Output('pie-plot', 'figure'),\n",
    "    Output('summary-text', 'children'),\n",
    "    Input('age-dropdown', 'value'),\n",
    "    Input('gender-dropdown', 'value'),\n",
    "    Input('roast-dropdown', 'value'),\n",
    "    Input('taste-dropdown', 'value'),\n",
    "    Input('expertise-slider', 'value')\n",
    ")\n",
    "def update_pie(age_val, gender_val, roast_val, taste_val, expertise_val):\n",
    "    # Filter anwenden\n",
    "    df_filtered = df_clean.copy()\n",
    "    if age_val != 'all':\n",
    "        df_filtered = df_filtered[df_filtered['age'] == age_val]\n",
    "    if gender_val != 'all':\n",
    "        df_filtered = df_filtered[df_filtered['gender'] == gender_val]\n",
    "    if roast_val != 'all':\n",
    "        df_filtered = df_filtered[df_filtered['roast_level'] == roast_val]\n",
    "    if taste_val != 'all':\n",
    "        df_filtered = df_filtered[df_filtered['style'] == taste_val]\n",
    "    if expertise_val:\n",
    "        df_filtered = df_filtered[\n",
    "            (df_filtered['expertise'] >= expertise_val[0]) & \n",
    "            (df_filtered['expertise'] <= expertise_val[1])\n",
    "        ]\n",
    "\n",
    "    if df_filtered.empty:\n",
    "        raise PreventUpdate\n",
    "\n",
    "    # Anteile berechnen\n",
    "    df_counts = df_filtered['prefer_overall'].value_counts(normalize=True).reset_index()\n",
    "    df_counts.columns = ['coffee', 'percent']\n",
    "    df_counts['percent'] *= 100\n",
    "\n",
    "    # Top-Kaffee\n",
    "    top_row = df_counts.iloc[0]\n",
    "    top_coffee = top_row['coffee']\n",
    "    top_percent = round(top_row['percent'], 1)\n",
    "\n",
    "    # Farben und Muster\n",
    "    colors = {\n",
    "        \"Coffee A\": \"#d2b48c\",\n",
    "        \"Coffee D\": \"#e6c8a4\",\n",
    "        \"Coffee B\": \"#a0522d\",\n",
    "        \"Coffee C\": \"#5c3317\",\n",
    "        \"keine Angabe\": \"#d3d3d3\"\n",
    "    }\n",
    "    patterns = {\n",
    "        \"Coffee D\": \"/\"\n",
    "    }\n",
    "\n",
    "    # Pie-Plot\n",
    "    fig = px.pie(df_counts,\n",
    "                 names='coffee',\n",
    "                 values='percent',\n",
    "                 color='coffee',\n",
    "                 color_discrete_map=colors,\n",
    "                 hole=0.4)\n",
    "\n",
    "    # Slice hervorheben\n",
    "    pull_values = [0.1 if c == top_coffee else 0 for c in df_counts['coffee']]\n",
    "    fig.update_traces(pull=pull_values)\n",
    "\n",
    "    fig.update_traces(marker=dict(\n",
    "        pattern=dict(shape=[patterns.get(c, \"\") for c in df_counts['coffee']])\n",
    "    ))\n",
    "\n",
    "    fig.update_layout(\n",
    "        showlegend=True,\n",
    "        template=\"plotly_white\",\n",
    "        margin=dict(t=20, b=20, l=0, r=0)\n",
    "    )\n",
    "\n",
    "    # Dynamischer Text\n",
    "    text = f\"Von {len(df_filtered)} Personen mit diesen Präferenzen und Eigenschaften bevorzugten {top_percent:.1f}% {top_coffee}\"\n",
    "\n",
    "    return fig, text\n",
    "\n",
    "# Run the app\n",
    "if __name__ == '__main__':\n",
    "    app.run(debug=True, port=8052)\n"
   ]
  },
  {
   "cell_type": "code",
   "execution_count": null,
   "id": "9e98bf2e-c005-4035-bc9d-73a55f7153de",
   "metadata": {},
   "outputs": [],
   "source": []
  }
 ],
 "metadata": {
  "kernelspec": {
   "display_name": "Python 3 (ipykernel)",
   "language": "python",
   "name": "python3"
  },
  "language_info": {
   "codemirror_mode": {
    "name": "ipython",
    "version": 3
   },
   "file_extension": ".py",
   "mimetype": "text/x-python",
   "name": "python",
   "nbconvert_exporter": "python",
   "pygments_lexer": "ipython3",
   "version": "3.12.10"
  }
 },
 "nbformat": 4,
 "nbformat_minor": 5
}
